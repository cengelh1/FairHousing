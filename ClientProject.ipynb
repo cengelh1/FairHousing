{
 "cells": [
  {
   "cell_type": "code",
   "execution_count": null,
   "id": "bf6e307d-1bb8-4f38-8a23-a357e3e7c06e",
   "metadata": {
    "tags": []
   },
   "outputs": [],
   "source": [
    "pip install selenium"
   ]
  },
  {
   "cell_type": "code",
   "execution_count": null,
   "id": "8e181bbc-41a4-45ca-afc7-317b012f04eb",
   "metadata": {
    "tags": []
   },
   "outputs": [],
   "source": [
    "import openpyxl\n",
    "import warnings\n",
    "import multiprocess\n",
    "from multiprocess import Pool, cpu_count\n",
    "import PyPDF2\n",
    "import pandas as pd\n",
    "import re\n",
    "import tabula\n",
    "from pdfminer.high_level import extract_text\n",
    "import numpy as np\n",
    "import shutil\n",
    "import os\n",
    "import re\n",
    "import PyPDF2\n",
    "import requests\n",
    "from io import BytesIO\n",
    "import requests\n",
    "from bs4 import BeautifulSoup\n",
    "import os\n",
    "from selenium import webdriver\n",
    "from selenium.webdriver.common.by import By\n",
    "from selenium.common.exceptions import StaleElementReferenceException\n",
    "import requests"
   ]
  },
  {
   "cell_type": "code",
   "execution_count": null,
   "id": "85e793d6-f3ca-4cc7-a748-0d8f5a66799c",
   "metadata": {
    "tags": []
   },
   "outputs": [],
   "source": [
    "import requests\n",
    "from bs4 import BeautifulSoup\n",
    "import osc\n",
    "from selenium import webdriver\n",
    "from selenium.webdriver.common.by import By\n",
    "from selenium.common.exceptions import StaleElementReferenceException\n",
    "import requests"
   ]
  },
  {
   "cell_type": "code",
   "execution_count": 4,
   "id": "4a84e7f9-fc56-4eed-a0d0-39e6b264186f",
   "metadata": {},
   "outputs": [],
   "source": [
    "def dlpdf(url,file_path):\n",
    "        # URL of the page containing the links\n",
    "    url = url\n",
    "\n",
    "    # Directory to save the downloaded PDFs\n",
    "    download_directory = os.path.join(os.getcwd(), file_path)\n",
    "\n",
    "    # Create a directory if it doesn't exist\n",
    "    if not os.path.exists(download_directory):\n",
    "        os.makedirs(download_directory)\n",
    "\n",
    "    # Set up the Firefox WebDriver (Ensure GeckoDriver is in your system's PATH)\n",
    "    driver = webdriver.Firefox()\n",
    "\n",
    "    # Open the URL in the web browser\n",
    "    driver.get(url)\n",
    "\n",
    "    # Wait for a few seconds to allow JavaScript content to load (you may need to adjust this delay)\n",
    "    driver.implicitly_wait(10)\n",
    "\n",
    "    # Find all the anchor elements with href attributes containing \".pdf\"\n",
    "    pdf_links = driver.find_elements(By.CSS_SELECTOR, \"a[href$='.pdf']\")\n",
    "\n",
    "    # Get the PDF URLs\n",
    "    pdf_urls = [link.get_attribute(\"href\") for link in pdf_links]\n",
    "\n",
    "    # Download the PDFs\n",
    "    for pdf_url in pdf_urls:\n",
    "        response = requests.get(pdf_url)\n",
    "        if response.status_code == 200:\n",
    "            filename = os.path.join(download_directory, os.path.basename(pdf_url))\n",
    "            with open(filename, \"wb\") as pdf_file:\n",
    "                pdf_file.write(response.content)\n",
    "\n",
    "    # Close the web browser\n",
    "    driver.quit()\n",
    "    "
   ]
  },
  {
   "cell_type": "code",
   "execution_count": 5,
   "id": "260cee3a-b23e-49aa-908b-7ce93eeb1e68",
   "metadata": {
    "tags": []
   },
   "outputs": [],
   "source": [
    "def justwannabringyoudownsobadly(url,file_path):\n",
    "    url = url\n",
    "\n",
    "    # Directory to save the downloaded PDFs\n",
    "    download_directory = os.path.join(os.getcwd(), file_path)\n",
    "\n",
    "    # Create a directory if it doesn't exist\n",
    "    if not os.path.exists(download_directory):\n",
    "        os.makedirs(download_directory)\n",
    "\n",
    "    # Set up the Firefox WebDriver (Ensure GeckoDriver is in your system's PATH)\n",
    "    driver = webdriver.Firefox()\n",
    "\n",
    "    # Open the URL in the web browser\n",
    "    driver.get(url)\n",
    "\n",
    "    # Wait for a few seconds to allow JavaScript content to load (you may need to adjust this delay)\n",
    "    driver.implicitly_wait(10)\n",
    "\n",
    "    # Find all the anchor elements with href attributes containing \".pdf\"\n",
    "    pdf_links = driver.find_elements(By.CSS_SELECTOR, \"a[href$='.xlsx']\")\n",
    "\n",
    "    # Get the PDF URLs\n",
    "    pdf_urls = [link.get_attribute(\"href\") for link in pdf_links]\n",
    "\n",
    "    # Download the PDFs\n",
    "    for pdf_url in pdf_urls:\n",
    "        response = requests.get(pdf_url)\n",
    "        if response.status_code == 200:\n",
    "            filename = os.path.join(download_directory, os.path.basename(pdf_url))\n",
    "            with open(filename, \"wb\") as pdf_file:\n",
    "                pdf_file.write(response.content)\n",
    "\n",
    "\n",
    "    # Close the web browser\n",
    "    driver.quit()\n"
   ]
  },
  {
   "cell_type": "markdown",
   "id": "bc8247d5-3396-43d2-8b74-cfc27e1422ef",
   "metadata": {
    "tags": []
   },
   "source": [
    "## 2020 R1"
   ]
  },
  {
   "cell_type": "code",
   "execution_count": 6,
   "id": "b2b029c3-5eaa-4bbe-a500-333f5e98d207",
   "metadata": {
    "tags": []
   },
   "outputs": [],
   "source": [
    " justwannabringyoudownsobadly(\"https://www.treasurer.ca.gov/ctcac/2020/firstround/applications/index.asp\",'nineper2020')"
   ]
  },
  {
   "cell_type": "markdown",
   "id": "e34d6bbc-6007-44a4-8fa7-7f0669c8bfbd",
   "metadata": {
    "tags": []
   },
   "source": [
    "## 2020 R2"
   ]
  },
  {
   "cell_type": "code",
   "execution_count": 7,
   "id": "fd414bd6-41ff-4a39-b171-90848e4722b4",
   "metadata": {
    "tags": []
   },
   "outputs": [],
   "source": [
    "justwannabringyoudownsobadly(\"https://www.treasurer.ca.gov/ctcac/2020/secondround/applications/\",'nineper2020')"
   ]
  },
  {
   "cell_type": "markdown",
   "id": "ddb48fec-6ecd-4ffb-810d-71e57cea3e57",
   "metadata": {},
   "source": [
    "## 2020 4% Apps"
   ]
  },
  {
   "cell_type": "code",
   "execution_count": 9,
   "id": "14d57156-ee89-478a-bfae-ff62365b99d2",
   "metadata": {
    "tags": []
   },
   "outputs": [],
   "source": [
    "justwannabringyoudownsobadly(\"https://www.treasurer.ca.gov/ctcac/2020/applications/september-24-applications-received.asp\",'TCAC_2020_4%')"
   ]
  },
  {
   "cell_type": "code",
   "execution_count": 10,
   "id": "ebcd15c9-ddd1-415b-ad74-22dd703de0b7",
   "metadata": {
    "tags": []
   },
   "outputs": [],
   "source": [
    "justwannabringyoudownsobadly( \"https://www.treasurer.ca.gov/ctcac/2020/applications/november-15-applications-received.asp\",'TCAC_2020_4%')"
   ]
  },
  {
   "cell_type": "code",
   "execution_count": 11,
   "id": "fca89432-8e45-4e87-a385-aebb249ae98a",
   "metadata": {
    "tags": []
   },
   "outputs": [],
   "source": [
    "justwannabringyoudownsobadly( \"https://www.treasurer.ca.gov/ctcac/2020/received.asp\",'TCAC_2020_4%')"
   ]
  },
  {
   "cell_type": "code",
   "execution_count": 12,
   "id": "47ee5dea-78e6-463e-8739-fe628aa94dbf",
   "metadata": {},
   "outputs": [],
   "source": [
    "justwannabringyoudownsobadly(  \"https://www.treasurer.ca.gov/ctcac/2020/applications/january-17-and-24-applications-received.asp\",'TCAC_2020_4%')"
   ]
  },
  {
   "cell_type": "markdown",
   "id": "adefcdbe-3262-40d7-a32b-953e8c2edabd",
   "metadata": {},
   "source": [
    "# 2021"
   ]
  },
  {
   "cell_type": "markdown",
   "id": "a3daa757-cec3-492b-b9aa-4876ae736756",
   "metadata": {},
   "source": [
    "## 2021 R1"
   ]
  },
  {
   "cell_type": "code",
   "execution_count": 8,
   "id": "b1dd6dd4-c622-48fc-a80e-487070d99616",
   "metadata": {
    "tags": []
   },
   "outputs": [],
   "source": [
    "justwannabringyoudownsobadly(\"https://www.treasurer.ca.gov/ctcac/2021/firstround/applications/\",'nineper2021')"
   ]
  },
  {
   "cell_type": "markdown",
   "id": "c4b57115-dd4c-4d58-9929-cd26a3c2e1c8",
   "metadata": {
    "tags": []
   },
   "source": [
    "## 2021 R2"
   ]
  },
  {
   "cell_type": "code",
   "execution_count": 9,
   "id": "c9135817-3409-46ee-939a-d2757330107a",
   "metadata": {
    "tags": []
   },
   "outputs": [],
   "source": [
    "justwannabringyoudownsobadly(\"https://www.treasurer.ca.gov/ctcac/2021/secondround/applications/\",'nineper2021')\n"
   ]
  },
  {
   "cell_type": "markdown",
   "id": "337132f1-1498-4ad5-b44a-e5f34486a5ae",
   "metadata": {},
   "source": [
    "## 2021 4% Applications"
   ]
  },
  {
   "cell_type": "code",
   "execution_count": 15,
   "id": "194f58f5-4b87-4a58-8e7e-86d4fa6b3798",
   "metadata": {
    "tags": []
   },
   "outputs": [],
   "source": [
    "justwannabringyoudownsobadly(\"https://www.treasurer.ca.gov/ctcac/2021/february-4-applications-received.asp\",'TCAC_2021_4%')\n"
   ]
  },
  {
   "cell_type": "code",
   "execution_count": 16,
   "id": "347f9c5a-e90e-444e-9e40-8163265e90f4",
   "metadata": {},
   "outputs": [],
   "source": [
    "justwannabringyoudownsobadly(\"https://www.treasurer.ca.gov/ctcac/2021/secondround/index.asp\",'TCAC_2021_4%')\n"
   ]
  },
  {
   "cell_type": "code",
   "execution_count": 17,
   "id": "d47c785b-1421-4412-8b47-baa34ded92d4",
   "metadata": {},
   "outputs": [],
   "source": [
    "justwannabringyoudownsobadly(\"https://www.treasurer.ca.gov/ctcac/2021/thirdround/index.asp\",'TCAC_2021_4%')"
   ]
  },
  {
   "cell_type": "markdown",
   "id": "4f745142-fee7-43b7-b348-d86f86cd9680",
   "metadata": {},
   "source": [
    "# 2022"
   ]
  },
  {
   "cell_type": "markdown",
   "id": "52c60891-85f2-469b-9531-2eb7c317672e",
   "metadata": {},
   "source": [
    "## 2022 R1"
   ]
  },
  {
   "cell_type": "code",
   "execution_count": 10,
   "id": "cee2ac58-dbcb-483c-a97a-7253c8ae5a47",
   "metadata": {},
   "outputs": [],
   "source": [
    "justwannabringyoudownsobadly(\"https://www.treasurer.ca.gov/ctcac/2022/firstround/applications/\",'nineper2022')"
   ]
  },
  {
   "cell_type": "markdown",
   "id": "5db9c200-0509-42c7-b4e1-bd0c0dde536f",
   "metadata": {},
   "source": [
    "## 2022 R2"
   ]
  },
  {
   "cell_type": "code",
   "execution_count": 11,
   "id": "57ebadc3-d7f4-46b4-8485-66e40414f886",
   "metadata": {},
   "outputs": [],
   "source": [
    "justwannabringyoudownsobadly(\"https://www.treasurer.ca.gov/ctcac/2022/secondround/applications/\",'nineper2022')"
   ]
  },
  {
   "cell_type": "markdown",
   "id": "4466d95e-4b0e-4c80-9d57-9731d72072e4",
   "metadata": {},
   "source": [
    "## 2022 4% applications"
   ]
  },
  {
   "cell_type": "code",
   "execution_count": 22,
   "id": "6d93a297-7cf7-491d-853e-5820fdce07c3",
   "metadata": {},
   "outputs": [],
   "source": [
    "justwannabringyoudownsobadly(\"https://www.treasurer.ca.gov/ctcac/2022/firstround/index.asp\",'TCAC_2021_4%')"
   ]
  },
  {
   "cell_type": "code",
   "execution_count": 23,
   "id": "899716ca-03b1-4ea8-bd48-d44b693d4cf2",
   "metadata": {},
   "outputs": [],
   "source": [
    "justwannabringyoudownsobadly(\"https://www.treasurer.ca.gov/ctcac/2022/secondround/20220809/index.asp\",'TCAC_2021_4%')"
   ]
  },
  {
   "cell_type": "code",
   "execution_count": 24,
   "id": "cee1a77f-f9b7-4b50-8ce5-36d5811a7c60",
   "metadata": {},
   "outputs": [],
   "source": [
    "justwannabringyoudownsobadly(\"https://www.treasurer.ca.gov/ctcac/2021/thirdround/index.asp\",'TCAC_2021_4%')"
   ]
  },
  {
   "cell_type": "markdown",
   "id": "c37e48ab-5b96-412a-ba21-2f9ccfeb0efa",
   "metadata": {},
   "source": [
    "# 2023"
   ]
  },
  {
   "cell_type": "markdown",
   "id": "5ccc7126-37a4-4df3-ad85-08b7b43550d1",
   "metadata": {},
   "source": [
    "## 2023 R1"
   ]
  },
  {
   "cell_type": "code",
   "execution_count": 12,
   "id": "47da3b09-6637-4d2e-94d4-786004fd29db",
   "metadata": {},
   "outputs": [],
   "source": [
    "justwannabringyoudownsobadly(\"https://www.treasurer.ca.gov/ctcac/2023/firstround/applications/index.asp\",'nineper2023')"
   ]
  },
  {
   "cell_type": "markdown",
   "id": "89ed0acc-50c8-436d-a4bd-7bf217fbb68e",
   "metadata": {},
   "source": [
    "## 2023 R2"
   ]
  },
  {
   "cell_type": "code",
   "execution_count": 13,
   "id": "76a18ff1-9dbe-495b-8bef-a9d1135e8760",
   "metadata": {},
   "outputs": [],
   "source": [
    "justwannabringyoudownsobadly(\"https://www.treasurer.ca.gov/ctcac/2023/secondround/9percent/applications/index.asp\",'nineper2023')"
   ]
  },
  {
   "cell_type": "markdown",
   "id": "58fb184c-2068-49b1-8def-4df807a8e7f8",
   "metadata": {},
   "source": [
    "## 2023 4% applications"
   ]
  },
  {
   "cell_type": "code",
   "execution_count": 27,
   "id": "c87694c9-cefb-4eb5-82f7-ba85f68fe27b",
   "metadata": {},
   "outputs": [],
   "source": [
    "justwannabringyoudownsobadly(\"https://www.treasurer.ca.gov/ctcac/2023/firstround/index.asp\",'TCAC_2023_4%')"
   ]
  },
  {
   "cell_type": "code",
   "execution_count": 28,
   "id": "37e6f6c0-cf67-4c37-8f13-2a6194f3342f",
   "metadata": {},
   "outputs": [],
   "source": [
    "justwannabringyoudownsobadly(\"https://www.treasurer.ca.gov/ctcac/2023/secondround/applications/index.asp\",'TCAC_2023_4%')"
   ]
  },
  {
   "cell_type": "code",
   "execution_count": 29,
   "id": "fd3e9ea8-2deb-499a-9537-5feabad9b285",
   "metadata": {},
   "outputs": [],
   "source": [
    "justwannabringyoudownsobadly(\"https://www.treasurer.ca.gov/ctcac/2023/thirdround/applications/index.asp\",'TCAC_2023_4%')"
   ]
  },
  {
   "cell_type": "code",
   "execution_count": 3,
   "id": "08cd9cbc-b2f5-42ca-8cdd-014ae21290e1",
   "metadata": {
    "tags": []
   },
   "outputs": [],
   "source": [
    "import re\n",
    "import PyPDF2\n",
    "import requests\n",
    "from io import BytesIO"
   ]
  },
  {
   "cell_type": "code",
   "execution_count": 31,
   "id": "dcf0d306-06df-4603-bb40-8dacc805fe84",
   "metadata": {
    "tags": []
   },
   "outputs": [],
   "source": [
    "pdf_path = \"Data/2022-r1.pdf\"\n",
    "pattern = r'CA-22-\\d{3}'"
   ]
  },
  {
   "cell_type": "markdown",
   "id": "2f024fc9-fa95-4718-ac1d-bfc624e6135c",
   "metadata": {},
   "source": [
    "## Import winning application list"
   ]
  },
  {
   "cell_type": "code",
   "execution_count": 14,
   "id": "f5e8b76c-513e-4b16-ba55-251890368b79",
   "metadata": {},
   "outputs": [],
   "source": [
    "def download_pdf(url, folder):\n",
    "    # Ensure the specified folder exists, create it if not\n",
    "    if not os.path.exists(folder):\n",
    "        os.makedirs(folder)\n",
    "\n",
    "    # Get the file name from the URL\n",
    "    file_name = url.split(\"/\")[-1]\n",
    "\n",
    "    # Define the full path to save the file\n",
    "    file_path = os.path.join(folder, file_name)\n",
    "\n",
    "    # Send an HTTP GET request to the URL\n",
    "    response = requests.get(url)\n",
    "\n",
    "    if response.status_code == 200:\n",
    "        # Save the content to the file\n",
    "        with open(file_path, 'wb') as file:\n",
    "            file.write(response.content)\n",
    "    else:\n",
    "        print(f\"Failed to download the file. Status code: {response.status_code}\")\n",
    "\n"
   ]
  },
  {
   "cell_type": "code",
   "execution_count": 15,
   "id": "c095a68e-cc9c-43f4-b5ce-9a95e1b3aff1",
   "metadata": {},
   "outputs": [],
   "source": [
    "dlpdf('https://www.treasurer.ca.gov/ctcac/2019/firstround/recommendations/index.asp','Data')"
   ]
  },
  {
   "cell_type": "code",
   "execution_count": 16,
   "id": "4eeda5f1-3d00-466f-aad4-9efc44c85edd",
   "metadata": {},
   "outputs": [],
   "source": [
    "dlpdf('https://www.treasurer.ca.gov/ctcac/2019/secondround/recommendations/index.asp','Data')"
   ]
  },
  {
   "cell_type": "code",
   "execution_count": 17,
   "id": "44ad09f4-d19c-49fa-a0d1-cb8f6fd8a6d1",
   "metadata": {},
   "outputs": [],
   "source": [
    "dlpdf('https://www.treasurer.ca.gov/ctcac/2020/firstround/recommendations/index.asp','Data')"
   ]
  },
  {
   "cell_type": "code",
   "execution_count": 18,
   "id": "a8089db9-a655-4a69-8eb4-7999b93e865a",
   "metadata": {},
   "outputs": [],
   "source": [
    "dlpdf('https://www.treasurer.ca.gov/ctcac/2020/secondround/recommendations/index.asp','Data')"
   ]
  },
  {
   "cell_type": "code",
   "execution_count": 19,
   "id": "d4d39a7e-3d65-4547-8f19-32606632a825",
   "metadata": {},
   "outputs": [],
   "source": [
    "dlpdf('https://www.treasurer.ca.gov/ctcac/2021/firstround/recommendations/index.asp','Data')"
   ]
  },
  {
   "cell_type": "code",
   "execution_count": 20,
   "id": "dd26075f-daca-4121-90ee-a0f98c89f0fa",
   "metadata": {},
   "outputs": [],
   "source": [
    "dlpdf('https://www.treasurer.ca.gov/ctcac/2021/secondround/recommendations/index.asp','Data')"
   ]
  },
  {
   "cell_type": "code",
   "execution_count": 21,
   "id": "e527508b-b428-4084-8b30-0e8aa17ff67c",
   "metadata": {},
   "outputs": [],
   "source": [
    "dlpdf('https://www.treasurer.ca.gov/ctcac/2021/secondround/recommendations/index.asp','Data')"
   ]
  },
  {
   "cell_type": "code",
   "execution_count": 22,
   "id": "6cf8c7d5-769b-4bb7-bbb5-93e1b6076ed4",
   "metadata": {},
   "outputs": [],
   "source": [
    "download_pdf('https://www.treasurer.ca.gov/ctcac/2022/firstround/2022firstroundfinalapproved.pdf','Data')"
   ]
  },
  {
   "cell_type": "code",
   "execution_count": 23,
   "id": "2f7d6826-aaf5-4387-bdc7-41476d9b307a",
   "metadata": {},
   "outputs": [],
   "source": [
    "download_pdf('https://www.treasurer.ca.gov/ctcac/2022/secondround/2022secondroundfinalapprovedrecommendations.pdf','Data')"
   ]
  },
  {
   "cell_type": "code",
   "execution_count": 24,
   "id": "2572c8e8-e87e-4430-9df7-a2a3d44458e0",
   "metadata": {},
   "outputs": [],
   "source": [
    "download_pdf('https://www.treasurer.ca.gov/ctcac/2023/approved-recommendations.pdf','Data')"
   ]
  },
  {
   "cell_type": "code",
   "execution_count": 25,
   "id": "3c52b9e8-adc1-4819-885b-d8aa8fbded5e",
   "metadata": {},
   "outputs": [],
   "source": [
    "download_pdf('https://www.treasurer.ca.gov/ctcac/2023/secondround/rec.pdf','Data')"
   ]
  },
  {
   "cell_type": "code",
   "execution_count": 72,
   "id": "29435356-6e28-4a2e-9a33-118e16e46fab",
   "metadata": {
    "tags": []
   },
   "outputs": [],
   "source": [
    "def extractapps(pdf_path,pattern):\n",
    "    # Open the PDF with PyPDF2\n",
    "    with open(pdf_path, \"rb\") as f:\n",
    "        file_content = f.read()\n",
    "\n",
    "    # Use BytesIO to treat the file content as a file-like object\n",
    "    file_like_object = BytesIO(file_content)\n",
    "\n",
    "    pdf = PyPDF2.PdfFileReader(file_like_object)\n",
    "    # Extract text from the PDF\n",
    "    text = ''\n",
    "    for page_num in range(pdf.numPages):\n",
    "        text += pdf.getPage(page_num).extractText()\n",
    "\n",
    "        # Use regular expressions to find the application numbers\n",
    "    application_numbers = re.findall(pattern, text)\n",
    "    appnumbers=[]\n",
    "\n",
    "    # Print the application numbers\n",
    "    for num in application_numbers:\n",
    "        appnumbers.append(num)\n",
    "        \n",
    "    return appnumbers"
   ]
  },
  {
   "cell_type": "code",
   "execution_count": 73,
   "id": "65553f31-f1b9-482d-995f-c7b897efad4c",
   "metadata": {
    "tags": []
   },
   "outputs": [],
   "source": [
    "pattern19=r'CA-19-\\d{3}'\n",
    "pattern20=r'CA-20-\\d{3}'\n",
    "pattern21=r'CA-21-\\d{3}'\n",
    "pattern22 =r'CA-22-\\d{3}'\n",
    "pattern23=r'CA-23-\\d{3}'"
   ]
  },
  {
   "cell_type": "code",
   "execution_count": 74,
   "id": "ad44c08c-5888-428a-8778-da505289a097",
   "metadata": {
    "tags": []
   },
   "outputs": [],
   "source": [
    "r1_19=extractapps('Data/2019_R1.pdf',pattern19)\n",
    "r2_19=extractapps('Data/2019_R1-2.pdf',pattern19)\n",
    "r3_19=extractapps('Data/2019-r1-3.pdf',pattern19)\n",
    "r4_19=extractapps('Data/2019-r2-1.pdf',pattern19)\n",
    "r5_19=extractapps('Data/2019-r2-2.pdf',pattern19)\n",
    "r1_20=extractapps('Data/2020-r1-1.pdf',pattern20)\n",
    "r2_20=extractapps('Data/2020-r1-2.pdf',pattern20)\n",
    "r3_20=extractapps('Data/2020-r1-3.pdf',pattern20)\n",
    "r4_20=extractapps('Data/2020-r2-3.pdf',pattern20)\n",
    "r5_20=extractapps('Data/2020-r2-2.pdf',pattern20)\n",
    "r1_21=extractapps('Data/2021-r1-1.pdf',pattern21)\n",
    "r2_21=extractapps('Data/2021-r1-2.pdf',pattern21)\n",
    "r3_21=extractapps('Data/2021-r2-1.pdf',pattern21)\n",
    "r4_21=extractapps('Data/2021-r2-2.pdf',pattern21)\n",
    "r1_22=extractapps('Data/2022firstroundfinalapproved.pdf',pattern22)\n",
    "r2_22=extractapps('Data/2022secondroundfinalapprovedrecommendations.pdf',pattern22)\n",
    "r1_23=extractapps('Data/approved-recommendations.pdf',pattern23)\n",
    "r2_23=extractapps('Data/rec.pdf',pattern23)"
   ]
  },
  {
   "cell_type": "code",
   "execution_count": 4,
   "id": "73151eb4-1144-4da4-873e-f5db05deabe9",
   "metadata": {
    "tags": []
   },
   "outputs": [],
   "source": [
    "import shutil\n",
    "import os\n",
    "\n"
   ]
  },
  {
   "cell_type": "code",
   "execution_count": 33,
   "id": "fc26e93c-a691-4923-bac6-b4f9ee983a48",
   "metadata": {
    "tags": []
   },
   "outputs": [],
   "source": [
    "def movefiles(sourcepath, listname, destination):\n",
    "    source_directory = sourcepath\n",
    "    destination_directory = destination\n",
    "    \n",
    "    # Create the destination directory if it doesn't exist\n",
    "    if not os.path.exists(destination_directory):\n",
    "        os.makedirs(destination_directory)\n",
    "\n",
    "    for filename in listname:\n",
    "        source_path = os.path.join(source_directory, filename)\n",
    "        destination_path = os.path.join(destination_directory, filename)\n",
    "\n",
    "        if os.path.exists(source_path):\n",
    "            # Use shutil.move to move the file if it exists\n",
    "            shutil.move(source_path, destination_path)\n",
    "        else:\n",
    "            print(f\"File not found: {filename}. Skipping.\")\n"
   ]
  },
  {
   "cell_type": "code",
   "execution_count": 34,
   "id": "1c2a8ef8-7318-465b-bd7a-6dfce86dc628",
   "metadata": {
    "tags": []
   },
   "outputs": [],
   "source": [
    "def remove_prefix(directory):\n",
    "    for filename in os.listdir(directory):\n",
    "        if filename.startswith(\"CA-\"):\n",
    "            new_filename = filename[3:]  # Remove the first 3 characters\n",
    "            old_path = os.path.join(directory, filename)\n",
    "            new_path = os.path.join(directory, new_filename)\n",
    "            os.rename(old_path, new_path)\n",
    "            print(f\"Renamed: {filename} to {new_filename}\")\n"
   ]
  },
  {
   "cell_type": "code",
   "execution_count": 53,
   "id": "b01e9052-9c43-48ef-8be5-8222c38b07f1",
   "metadata": {
    "tags": []
   },
   "outputs": [],
   "source": [
    "movefiles('2019',wins19,'wins19')"
   ]
  },
  {
   "cell_type": "code",
   "execution_count": 85,
   "id": "3b77bbdf-6b87-4357-a03d-8fd5b7185f05",
   "metadata": {
    "tags": []
   },
   "outputs": [],
   "source": [
    "movefiles('nineper2020',wins20,'9perwins2020')"
   ]
  },
  {
   "cell_type": "code",
   "execution_count": 86,
   "id": "9b2bef89-66af-4415-b4d8-3d1ec65a6efc",
   "metadata": {
    "tags": []
   },
   "outputs": [],
   "source": [
    "movefiles('nineper2021',wins21,'9perwins2021')"
   ]
  },
  {
   "cell_type": "code",
   "execution_count": 87,
   "id": "d1f8d596-2a31-4c22-be6a-5b58e27b220e",
   "metadata": {
    "tags": []
   },
   "outputs": [],
   "source": [
    "movefiles('nineper2022',wins22,'9perwins2022')"
   ]
  },
  {
   "cell_type": "code",
   "execution_count": 89,
   "id": "dfa02438-25c7-4b73-bacd-01f08e86f246",
   "metadata": {
    "tags": []
   },
   "outputs": [
    {
     "name": "stdout",
     "output_type": "stream",
     "text": [
      "File not found: CA-23-049.xlsx. Skipping.\n",
      "File not found: CA-23-025.xlsx. Skipping.\n",
      "File not found: CA-23-020.xlsx. Skipping.\n",
      "File not found: CA-23-047.xlsx. Skipping.\n",
      "File not found: CA-23-046.xlsx. Skipping.\n",
      "File not found: CA-23-013.xlsx. Skipping.\n",
      "File not found: CA-23-016.xlsx. Skipping.\n",
      "File not found: CA-23-076.xlsx. Skipping.\n",
      "File not found: CA-23-017.xlsx. Skipping.\n",
      "File not found: CA-23-026.xlsx. Skipping.\n",
      "File not found: CA-23-009.xlsx. Skipping.\n",
      "File not found: CA-23-056.xlsx. Skipping.\n",
      "File not found: CA-23-002.xlsx. Skipping.\n",
      "File not found: CA-23-030.xlsx. Skipping.\n",
      "File not found: CA-23-055.xlsx. Skipping.\n",
      "File not found: CA-23-007.xlsx. Skipping.\n",
      "File not found: CA-23-071.xlsx. Skipping.\n",
      "File not found: CA-23-003.xlsx. Skipping.\n",
      "File not found: CA-23-054.xlsx. Skipping.\n",
      "File not found: CA-23-005.xlsx. Skipping.\n",
      "File not found: CA-23-006.xlsx. Skipping.\n",
      "File not found: CA-23-070.xlsx. Skipping.\n",
      "File not found: CA-23-001.xlsx. Skipping.\n",
      "File not found: CA-23-064.xlsx. Skipping.\n",
      "File not found: CA-23-057.xlsx. Skipping.\n",
      "File not found: CA-23-004.xlsx. Skipping.\n",
      "File not found: CA-23-063.xlsx. Skipping.\n",
      "File not found: CA-23-117.xlsx. Skipping.\n",
      "File not found: CA-23-143.xlsx. Skipping.\n",
      "File not found: CA-23-147.xlsx. Skipping.\n",
      "File not found: CA-23-103.xlsx. Skipping.\n",
      "File not found: CA-23-084.xlsx. Skipping.\n",
      "File not found: CA-23-135.xlsx. Skipping.\n",
      "File not found: CA-23-132.xlsx. Skipping.\n",
      "File not found: CA-23-098.xlsx. Skipping.\n",
      "File not found: CA-23-148.xlsx. Skipping.\n",
      "File not found: CA-23-119.xlsx. Skipping.\n",
      "File not found: CA-23-079.xlsx. Skipping.\n",
      "File not found: CA-23-094.xlsx. Skipping.\n",
      "File not found: CA-23-142.xlsx. Skipping.\n",
      "File not found: CA-23-092.xlsx. Skipping.\n",
      "File not found: CA-23-139.xlsx. Skipping.\n",
      "File not found: CA-23-140.xlsx. Skipping.\n",
      "File not found: CA-23-123.xlsx. Skipping.\n",
      "File not found: CA-23-118.xlsx. Skipping.\n",
      "File not found: CA-23-109.xlsx. Skipping.\n",
      "File not found: CA-23-121.xlsx. Skipping.\n",
      "File not found: CA-23-104.xlsx. Skipping.\n",
      "File not found: CA-23-127.xlsx. Skipping.\n",
      "File not found: CA-23-085.xlsx. Skipping.\n",
      "File not found: CA-23-145.xlsx. Skipping.\n",
      "File not found: CA-23-083.xlsx. Skipping.\n",
      "File not found: CA-23-151.xlsx. Skipping.\n",
      "File not found: CA-23-082.xlsx. Skipping.\n"
     ]
    }
   ],
   "source": [
    "movefiles('nineper2023',wins23,'9perwins2023')"
   ]
  },
  {
   "cell_type": "code",
   "execution_count": 90,
   "id": "5d52b83a-5b9d-4a8a-82be-94afb821f5a7",
   "metadata": {
    "tags": []
   },
   "outputs": [
    {
     "name": "stdout",
     "output_type": "stream",
     "text": [
      "File not found: 23-049.xlsx. Skipping.\n",
      "File not found: 23-025.xlsx. Skipping.\n",
      "File not found: 23-020.xlsx. Skipping.\n",
      "File not found: 23-047.xlsx. Skipping.\n",
      "File not found: 23-046.xlsx. Skipping.\n",
      "File not found: 23-013.xlsx. Skipping.\n",
      "File not found: 23-016.xlsx. Skipping.\n",
      "File not found: 23-076.xlsx. Skipping.\n",
      "File not found: 23-017.xlsx. Skipping.\n",
      "File not found: 23-026.xlsx. Skipping.\n",
      "File not found: 23-009.xlsx. Skipping.\n",
      "File not found: 23-056.xlsx. Skipping.\n",
      "File not found: 23-002.xlsx. Skipping.\n",
      "File not found: 23-030.xlsx. Skipping.\n",
      "File not found: 23-055.xlsx. Skipping.\n",
      "File not found: 23-007.xlsx. Skipping.\n",
      "File not found: 23-071.xlsx. Skipping.\n",
      "File not found: 23-003.xlsx. Skipping.\n",
      "File not found: 23-054.xlsx. Skipping.\n",
      "File not found: 23-005.xlsx. Skipping.\n",
      "File not found: 23-006.xlsx. Skipping.\n",
      "File not found: 23-070.xlsx. Skipping.\n",
      "File not found: 23-001.xlsx. Skipping.\n",
      "File not found: 23-064.xlsx. Skipping.\n",
      "File not found: 23-057.xlsx. Skipping.\n",
      "File not found: 23-004.xlsx. Skipping.\n",
      "File not found: 23-063.xlsx. Skipping.\n"
     ]
    }
   ],
   "source": [
    "movefiles('nineper2023',wins23_r2,'9perwins2023')"
   ]
  },
  {
   "cell_type": "code",
   "execution_count": 91,
   "id": "55cd2bf1-64e7-488c-abea-012473f3e68b",
   "metadata": {
    "tags": []
   },
   "outputs": [
    {
     "name": "stdout",
     "output_type": "stream",
     "text": [
      "Renamed: CA-23-001.xlsx to 23-001.xlsx\n",
      "Renamed: CA-23-002.xlsx to 23-002.xlsx\n",
      "Renamed: CA-23-003.xlsx to 23-003.xlsx\n",
      "Renamed: CA-23-004.xlsx to 23-004.xlsx\n",
      "Renamed: CA-23-005.xlsx to 23-005.xlsx\n",
      "Renamed: CA-23-006.xlsx to 23-006.xlsx\n",
      "Renamed: CA-23-007.xlsx to 23-007.xlsx\n",
      "Renamed: CA-23-009.xlsx to 23-009.xlsx\n",
      "Renamed: CA-23-013.xlsx to 23-013.xlsx\n",
      "Renamed: CA-23-016.xlsx to 23-016.xlsx\n",
      "Renamed: CA-23-017.xlsx to 23-017.xlsx\n",
      "Renamed: CA-23-020.xlsx to 23-020.xlsx\n",
      "Renamed: CA-23-025.xlsx to 23-025.xlsx\n",
      "Renamed: CA-23-026.xlsx to 23-026.xlsx\n",
      "Renamed: CA-23-030.xlsx to 23-030.xlsx\n",
      "Renamed: CA-23-046.xlsx to 23-046.xlsx\n",
      "Renamed: CA-23-047.xlsx to 23-047.xlsx\n",
      "Renamed: CA-23-049.xlsx to 23-049.xlsx\n",
      "Renamed: CA-23-054.xlsx to 23-054.xlsx\n",
      "Renamed: CA-23-055.xlsx to 23-055.xlsx\n",
      "Renamed: CA-23-056.xlsx to 23-056.xlsx\n",
      "Renamed: CA-23-057.xlsx to 23-057.xlsx\n",
      "Renamed: CA-23-063.xlsx to 23-063.xlsx\n",
      "Renamed: CA-23-064.xlsx to 23-064.xlsx\n",
      "Renamed: CA-23-070.xlsx to 23-070.xlsx\n",
      "Renamed: CA-23-071.xlsx to 23-071.xlsx\n",
      "Renamed: CA-23-076.xlsx to 23-076.xlsx\n"
     ]
    }
   ],
   "source": [
    "remove_prefix('9perwins2023')"
   ]
  },
  {
   "cell_type": "markdown",
   "id": "fe5349b2-f002-4f49-ad7e-db67b4f2b8be",
   "metadata": {},
   "source": [
    "# Parsing Excel Applications from '20-'22"
   ]
  },
  {
   "cell_type": "code",
   "execution_count": 8,
   "id": "5d06cb62-9dd8-486a-86f1-e3b4dcac5c89",
   "metadata": {
    "tags": []
   },
   "outputs": [
    {
     "name": "stdout",
     "output_type": "stream",
     "text": [
      "Requirement already satisfied: multiprocess in c:\\users\\thech\\anaconda3\\envs\\uds\\lib\\site-packages (0.70.15)\n",
      "Requirement already satisfied: dill>=0.3.7 in c:\\users\\thech\\anaconda3\\envs\\uds\\lib\\site-packages (from multiprocess) (0.3.7)\n",
      "Note: you may need to restart the kernel to use updated packages.\n"
     ]
    }
   ],
   "source": [
    "pip install multiprocess"
   ]
  },
  {
   "cell_type": "code",
   "execution_count": 4,
   "id": "dcab3d08-c46c-4bf2-98fc-f4cb9f49dae9",
   "metadata": {
    "tags": []
   },
   "outputs": [],
   "source": [
    "import openpyxl\n",
    "import warnings\n",
    "import multiprocess\n",
    "from multiprocess import Pool, cpu_count"
   ]
  },
  {
   "cell_type": "code",
   "execution_count": 35,
   "id": "114cbcbb-b5f9-45d9-8a24-d51c3066989e",
   "metadata": {
    "tags": []
   },
   "outputs": [],
   "source": [
    "# Suppress specific warning messages by category\n",
    "warnings.filterwarnings(\"ignore\", category=UserWarning)\n",
    "# # Reset warning settings (if needed)\n",
    "# warnings.resetwarnings()"
   ]
  },
  {
   "cell_type": "markdown",
   "id": "be9ebf84-6c06-4aae-97ad-a3369b80cbab",
   "metadata": {},
   "source": [
    "## 2020"
   ]
  },
  {
   "cell_type": "markdown",
   "id": "d2853862-39b0-4bbc-9250-4b977d55f09e",
   "metadata": {},
   "source": [
    "## The Rest"
   ]
  },
  {
   "cell_type": "code",
   "execution_count": 371,
   "id": "4538e545-8b3b-4e49-9afb-f5451c357e4d",
   "metadata": {
    "tags": []
   },
   "outputs": [],
   "source": [
    "def threst20four(file_name):\n",
    "    import openpyxl\n",
    "    import os\n",
    "    import pandas as pd\n",
    "   \n",
    "    try:\n",
    "        # Load the Excel file with openpyxl\n",
    "        excel_file = openpyxl.load_workbook(file_name, data_only=True)\n",
    "\n",
    "        # Access a specific sheet\n",
    "        sheet_name1 = 'Application'\n",
    "        sheet1 = excel_file[sheet_name1]\n",
    "\n",
    "        # Extract the value from the merged cell (AC447)\n",
    "        totalunits = sheet1['AG424'].value\n",
    "        city= sheet1['I191'].value\n",
    "        county= sheet1['T191'].value\n",
    "        # Create a DataFrame\n",
    "        excel = os.path.basename(file_name)\n",
    "        df = pd.DataFrame({'Application Number':[excel.strip('.xlsx')],'Total Units': [totalunits],'City': [city],'County':[county]})\n",
    "        return df\n",
    "    except Exception as e:\n",
    "        print(f\"Error processing {file_name}: {e}\")\n",
    "        return None"
   ]
  },
  {
   "cell_type": "code",
   "execution_count": 372,
   "id": "c6a20e5c-eb4a-40d4-a34c-9bd28b381cb5",
   "metadata": {
    "tags": []
   },
   "outputs": [],
   "source": [
    "def threst20nine(file_name):\n",
    "    import openpyxl\n",
    "    import os\n",
    "    import pandas as pd\n",
    "   \n",
    "    try:\n",
    "        # Load the Excel file with openpyxl\n",
    "        excel_file = openpyxl.load_workbook(file_name, data_only=True)\n",
    "\n",
    "        # Access a specific sheet\n",
    "        sheet_name1 = 'Application'\n",
    "        sheet1 = excel_file[sheet_name1]\n",
    "\n",
    "        # Extract the value from the merged cell (AC447)\n",
    "        totalunits = sheet1['AG423'].value\n",
    "        city= sheet1['I196'].value\n",
    "        county= sheet1['T196'].value\n",
    "        # Create a DataFrame\n",
    "        excel = os.path.basename(file_name)\n",
    "        df = pd.DataFrame({'Application Number':[excel.strip('.xlsx')],'Total Units': [totalunits],'City': [city],'County':[county]})\n",
    "        return df\n",
    "    except Exception as e:\n",
    "        print(f\"Error processing {file_name}: {e}\")\n",
    "        return None"
   ]
  },
  {
   "cell_type": "code",
   "execution_count": 84,
   "id": "2aa37370-a141-48c8-a50c-6a7763ac50da",
   "metadata": {
    "tags": []
   },
   "outputs": [],
   "source": [
    "\n",
    "excel_file = openpyxl.load_workbook('TCAC_2020_4%/20-401.xlsx', data_only=True)\n",
    "\n",
    "# Access a specific sheet\n",
    "sheet_name1 = 'Application'  \n",
    "sheet_name2='Sources and Uses Budget'\n",
    "sheet1 = excel_file[sheet_name1]\n",
    "sheet2 = excel_file[sheet_name2]\n",
    "\n",
    "# Extract the value from the merged cell (AC447)\n",
    "costperunit = sheet1['AC440'].value\n",
    "eligible= sheet1['AC442'].value\n",
    "landcost = sheet2['B4'].value\n",
    "constructioncost = sheet2['B36'].value\n",
    "totalcost= sheet2['B104'].value\n",
    "# Create a DataFrame\n",
    "excel = os.path.basename('TCAC_2020_4%/20-401.xlsx')\n",
    "df = pd.DataFrame({'Application Number':[excel.strip('.xlsx')],'Cost Per Unit': [costperunit],'Eligible Basis': [eligible],'Land Cost':[landcost],'Construction Cost':[constructioncost],'Total Cost':[totalcost]})\n"
   ]
  },
  {
   "cell_type": "code",
   "execution_count": 28,
   "id": "ad2b2bc8-5f0e-4ec6-b2ef-74448c6282d8",
   "metadata": {},
   "outputs": [],
   "source": [
    "def data2020nineper(file_name):\n",
    "    import openpyxl\n",
    "    import os\n",
    "    import pandas as pd\n",
    "    # Load the Excel file with openpyxl\n",
    "    try:\n",
    "      \n",
    "        excel_file = openpyxl.load_workbook(file_name, data_only=True)\n",
    "\n",
    "        costperunit= None\n",
    "        eligible= None\n",
    "        landcost= None\n",
    "        constructioncost= None\n",
    "        totalcost= None\n",
    "        prevailing= None\n",
    "        \n",
    "\n",
    "        # Access a specific sheet\n",
    "        sheet_name1 = 'Application'  \n",
    "        sheet_name2='Sources and Uses Budget'\n",
    "        sheet1 = excel_file[sheet_name1]\n",
    "        sheet2 = excel_file[sheet_name2]\n",
    "\n",
    "        # Extract the value from the merged cell (AC447)\n",
    "        costperunit = sheet1['AC440'].value\n",
    "        eligible= sheet1['AC442'].value\n",
    "        landcost = sheet2['B4'].value\n",
    "        constructioncost = sheet2['B36'].value\n",
    "        totalcost= sheet2['B104'].value\n",
    "        costperunit = sheet1['AC441'].value\n",
    "        prevailing = sheet1 ['AA936'].value\n",
    "        city= sheet1['I196'].value\n",
    "        county= sheet1['T196'].value\n",
    "        address= sheet1['I192'].value\n",
    "        name= sheet1['H17'].value\n",
    "        units= sheet1['AG423'].value\n",
    "        acres= sheet1['P405'].value\n",
    "        gsf= sheet1['AG436'].value\n",
    "        type1='N/A'\n",
    "        type3='N/A'\n",
    "       \n",
    "        \n",
    "        # Create a DataFrame\n",
    "        excel = os.path.basename(file_name)\n",
    "        df = pd.DataFrame({'Application Number':[excel.strip('.xlsx')],'Cost Per Unit': [costperunit],'Eligible Basis': [eligible],'Land Cost':[landcost],\n",
    "                           'Construction Cost':[constructioncost],'Total Cost':[totalcost],'Cost Per Unit':[costperunit],'Prevailing Wage Boost':[prevailing],'City': [city],'County': [county],\n",
    "                           'Address':[address],'Project Name':[name],'Total Units':[units], 'Land Acres': [acres], 'Gross Square Feet':[gsf],'Type I Boost':[type1], 'Type III Boost':[type3]})\n",
    "        return df\n",
    "    except Exception as e:\n",
    "            print(f\"Error processing {file_name}: {e}\")\n",
    "            return None"
   ]
  },
  {
   "cell_type": "code",
   "execution_count": 11,
   "id": "5112118c-e61a-488e-b95a-c2387ee08a87",
   "metadata": {},
   "outputs": [],
   "source": [
    "def data20204per(file_name):\n",
    "    import openpyxl\n",
    "    import os\n",
    "    import pandas as pd\n",
    "    # Load the Excel file with openpyxl\n",
    "    costperunit= None\n",
    "    eligible= None\n",
    "    landcost= None\n",
    "    constructioncost= None\n",
    "    totalcost= None\n",
    "    prevailing= None\n",
    "    mip= None\n",
    "    recycled= None\n",
    "    \n",
    "    # Load the Excel file with openpyxl\n",
    "    excel_file = openpyxl.load_workbook(file_name, data_only=True)\n",
    "    \n",
    "    # Access a specific sheet\n",
    "    sheet_name1 = 'Application'\n",
    "    sheet_name2='Sources and Uses Budget'\n",
    "    sheet1 = excel_file[sheet_name1]\n",
    "    sheet2 = excel_file[sheet_name2]\n",
    "\n",
    "    # Extract the value from the merged cell (AC447)\n",
    "    costperunit = sheet1['AC441'].value\n",
    "    eligible= sheet1['AC443'].value\n",
    "    landcost = sheet2['B4'].value\n",
    "    constructioncost = sheet2['B36'].value\n",
    "    totalcost= sheet2['B105'].value\n",
    "    prevailing = sheet2['B33'].value\n",
    "     # Initialize MIP and Recycled Bonds variables\n",
    "    mip = None\n",
    "    recycled = None\n",
    "\n",
    "    # # Search for 'MIP' or 'CDLAC' in cells C618-C629\n",
    "    found_mip= False\n",
    "    for row_number in range(608, 652):\n",
    "        row = sheet1[row_number]\n",
    "        for cell in row:\n",
    "            if cell.value:\n",
    "                if ('MIP' in str(cell.value).strip() or 'CDLAC' in str(cell.value).strip()):\n",
    "                # MIP = cell_value\n",
    "                    mip = (f\"Row {row_number}: {cell.value}\")\n",
    "                    found_mip=True\n",
    "                    break  # Stop searching when the first match is found\n",
    "        if found_mip:\n",
    "            break \n",
    "\n",
    "    # Search for 'recycled' throughout the entire 'Application' sheet (case-insensitive)\n",
    "    # Iterate over rows from row 556 to 934\n",
    "    found_recycled = False\n",
    "    for row_number in range(537, 913):\n",
    "        row = sheet1[row_number]\n",
    "\n",
    "        for cell in row:\n",
    "            if cell.value:\n",
    "                if 'Recycled' in str(cell.value).strip():\n",
    "                    recycled=(f\"Row {row_number}: {cell.value}\")\n",
    "                    found_recycled = True\n",
    "                    break\n",
    "        if found_recycled:\n",
    "            break  # Stop searching if 'Recycled' is found\n",
    "\n",
    "    # Create a DataFrame\n",
    "    excel = os.path.basename(file_name)\n",
    "    df = pd.DataFrame({\n",
    "        'Application Number': [excel.strip('.xlsx')],\n",
    "        'Cost Per Unit': [costperunit],\n",
    "        'Eligible Basis': [eligible],\n",
    "        'Land Cost': [landcost],\n",
    "        'Construction Cost': [constructioncost],\n",
    "        'Total Cost': [totalcost],\n",
    "        'Prevailing Wage': [prevailing],\n",
    "        'MIP': [mip],\n",
    "        'Recycled Bonds': [recycled],\n",
    "    })\n",
    "    return df"
   ]
  },
  {
   "cell_type": "markdown",
   "id": "1b654926-77c2-4673-b7f8-87371c2fb49a",
   "metadata": {},
   "source": [
    "### Function To Loop Files Through the Scraping Function"
   ]
  },
  {
   "cell_type": "code",
   "execution_count": 12,
   "id": "b3b78d4d-2adb-4e93-bc35-225af2a45758",
   "metadata": {
    "tags": []
   },
   "outputs": [],
   "source": [
    "def cccombo(folder_path,combofunction):\n",
    "    file_list = [os.path.join(folder_path, file) for file in os.listdir(folder_path) if file.endswith('.xlsx')]\n",
    "\n",
    "    # Create a Pool with multiple processes\n",
    "    num_processes = 16  # You can adjust this number based on your system's capabilities\n",
    "    with Pool(processes=num_processes) as pool:\n",
    "        results = pool.map(combofunction, file_list)\n",
    "\n",
    "    # Concatenate the results into a single DataFrame\n",
    "    final_result = pd.concat(results, ignore_index=True)\n",
    "\n",
    "    return final_result\n"
   ]
  },
  {
   "cell_type": "code",
   "execution_count": 39,
   "id": "0ca0e836-39fb-4e71-b31a-db66a75e9b84",
   "metadata": {
    "tags": []
   },
   "outputs": [],
   "source": [
    "if __name__ == \"__main__\":\n",
    "    # folder_path = 'TCA_2021_4%_test'  # Replace with the path to your folder containing Excel files\n",
    "    fourper20df = cccombo('TCAC_2020_4%',data20204per)"
   ]
  },
  {
   "cell_type": "code",
   "execution_count": 43,
   "id": "a2217ee2-a147-43bc-8754-f1534f67d9f2",
   "metadata": {
    "tags": []
   },
   "outputs": [],
   "source": [
    "fourper20df.to_csv('fourper20df.csv')"
   ]
  },
  {
   "cell_type": "code",
   "execution_count": 30,
   "id": "f3cafa7f-2ab5-43d9-bd98-fdddf7860ad1",
   "metadata": {
    "tags": []
   },
   "outputs": [],
   "source": [
    "if __name__ == \"__main__\":\n",
    "    # folder_path = 'TCA_2021_4%_test'  # Replace with the path to your folder containing Excel files\n",
    "    nineper20df = cccombo('9perwins2020',data2020nineper)"
   ]
  },
  {
   "cell_type": "code",
   "execution_count": 31,
   "id": "952ec39a-2d5d-4246-930a-2c7ebcf65d5f",
   "metadata": {
    "tags": []
   },
   "outputs": [],
   "source": [
    "nineper20df['Type I Boost']='N/A'\n",
    "nineper20df['Type III Boost']='N/A'"
   ]
  },
  {
   "cell_type": "code",
   "execution_count": 32,
   "id": "2d87cd0a-b5ba-405a-8db9-2b83599f8b2f",
   "metadata": {
    "tags": []
   },
   "outputs": [],
   "source": [
    "nineper20df.to_csv('nineper20df.csv')"
   ]
  },
  {
   "cell_type": "code",
   "execution_count": 148,
   "id": "0707fc6d-f595-40ef-8e19-90c90b623827",
   "metadata": {
    "tags": []
   },
   "outputs": [],
   "source": [
    "if __name__ == \"__main__\":\n",
    "    # folder_path = 'TCA_2021_4%_test'  # Replace with the path to your folder containing Excel files\n",
    "    prevwage4per20df = cccombo('TCAC_2020_4%',prevwage)"
   ]
  },
  {
   "cell_type": "code",
   "execution_count": 149,
   "id": "b6942ee4-a701-4ec1-9fec-996435af637c",
   "metadata": {
    "tags": []
   },
   "outputs": [],
   "source": [
    "prevwage4per20df.to_csv('prevwage4per20df.csv')"
   ]
  },
  {
   "cell_type": "code",
   "execution_count": 373,
   "id": "fb487369-f1c9-4c5f-bf68-a3830dcd88db",
   "metadata": {
    "tags": []
   },
   "outputs": [],
   "source": [
    "if __name__ == \"__main__\":\n",
    "    # folder_path = 'TCA_2021_4%_test'  # Replace with the path to your folder containing Excel files\n",
    "    therestfourper = cccombo('TCAC_2020_4%',threst20four)"
   ]
  },
  {
   "cell_type": "code",
   "execution_count": 374,
   "id": "55be1efc-53fa-404b-b8f3-76ed3731cce4",
   "metadata": {
    "tags": []
   },
   "outputs": [],
   "source": [
    "therestfourper.to_csv('therestfourper.csv')"
   ]
  },
  {
   "cell_type": "code",
   "execution_count": 375,
   "id": "3d62e527-ded8-480b-9cab-bc302e7e8d13",
   "metadata": {
    "tags": []
   },
   "outputs": [],
   "source": [
    "if __name__ == \"__main__\":\n",
    "    # folder_path = 'TCA_2021_4%_test'  # Replace with the path to your folder containing Excel files\n",
    "    therestnineper = cccombo('wins2020',threst20nine)"
   ]
  },
  {
   "cell_type": "code",
   "execution_count": 376,
   "id": "a51366d7-3909-4ac2-9de6-50fe5bf3c24f",
   "metadata": {
    "tags": []
   },
   "outputs": [],
   "source": [
    "therestnineper.to_csv('therestnineper.csv')"
   ]
  },
  {
   "cell_type": "markdown",
   "id": "4a556245-718f-4110-b191-fe7f3d23206a",
   "metadata": {},
   "source": [
    "## 2021-22"
   ]
  },
  {
   "cell_type": "markdown",
   "id": "780eb701-5bfe-459d-8f86-3ba995e82060",
   "metadata": {},
   "source": [
    "## The Rest"
   ]
  },
  {
   "cell_type": "code",
   "execution_count": 368,
   "id": "28c2283c-b9e9-40e2-bd2e-4100d871b003",
   "metadata": {
    "tags": []
   },
   "outputs": [],
   "source": [
    "def threst2122four(file_name):\n",
    "    import openpyxl\n",
    "    import os\n",
    "    import pandas as pd\n",
    "   \n",
    "    try:\n",
    "        # Load the Excel file with openpyxl\n",
    "        excel_file = openpyxl.load_workbook(file_name, data_only=True)\n",
    "\n",
    "        # Access a specific sheet\n",
    "        sheet_name1 = 'Application'\n",
    "        sheet1 = excel_file[sheet_name1]\n",
    "\n",
    "        # Extract the value from the merged cell (AC447)\n",
    "        totalunits = sheet1['AG436'].value\n",
    "        city= sheet1['I189'].value\n",
    "        county= sheet1['T189'].value\n",
    "        # Create a DataFrame\n",
    "        excel = os.path.basename(file_name)\n",
    "        df = pd.DataFrame({'Application Number':[excel.strip('.xlsx')],'Total Units': [totalunits],'City': [city],'County':[county]})\n",
    "        return df\n",
    "    except Exception as e:\n",
    "        print(f\"Error processing {file_name}: {e}\")\n",
    "        return None"
   ]
  },
  {
   "cell_type": "code",
   "execution_count": 367,
   "id": "bb4893bc-ddaa-4b82-a9e7-068782a9b93e",
   "metadata": {
    "tags": []
   },
   "outputs": [],
   "source": [
    "def threst2122nine(file_name):\n",
    "    import openpyxl\n",
    "    import os\n",
    "    import pandas as pd\n",
    "   \n",
    "    try:\n",
    "        # Load the Excel file with openpyxl\n",
    "        excel_file = openpyxl.load_workbook(file_name, data_only=True)\n",
    "\n",
    "        # Access a specific sheet\n",
    "        sheet_name1 = 'Application'\n",
    "        sheet1 = excel_file[sheet_name1]\n",
    "\n",
    "        # Extract the value from the merged cell (AC447)\n",
    "        totalunits = sheet1['AG430'].value\n",
    "        city= sheet1['I189'].value\n",
    "        county= sheet1['T189'].value\n",
    "        # Create a DataFrame\n",
    "        excel = os.path.basename(file_name)\n",
    "        df = pd.DataFrame({'Application Number':[excel.strip('.xlsx')],'Total Units': [totalunits],'City': [city],'County':[county]})\n",
    "        return df\n",
    "    except Exception as e:\n",
    "        print(f\"Error processing {file_name}: {e}\")\n",
    "        return None"
   ]
  },
  {
   "cell_type": "markdown",
   "id": "a727da77-4b15-4e8e-b7a7-d41adba413d5",
   "metadata": {},
   "source": [
    "### 9Per21"
   ]
  },
  {
   "cell_type": "code",
   "execution_count": 10,
   "id": "7664266a-dded-4cbb-9a09-93efbd25bbae",
   "metadata": {
    "tags": []
   },
   "outputs": [],
   "source": [
    "def data219per(file_name):\n",
    "    import openpyxl\n",
    "    import os\n",
    "    import pandas as pd\n",
    "   \n",
    "    try:\n",
    "        # Load the Excel file with openpyxl\n",
    "        excel_file = openpyxl.load_workbook(file_name, data_only=True)\n",
    "\n",
    "        # Access a specific sheet\n",
    "        sheet_name1 = 'Application'\n",
    "        sheet_name2='Sources and Uses Budget'\n",
    "        sheet1 = excel_file[sheet_name1]\n",
    "        sheet2 = excel_file[sheet_name2]\n",
    "\n",
    "        # Extract the value from the merged cell (AC447)\n",
    "        costperunit = sheet1['AC447'].value\n",
    "        eligible= sheet1['AC449'].value\n",
    "        units= sheet1['AG430'].value\n",
    "        landcost = sheet2['B4'].value\n",
    "        constructioncost = sheet2['B38'].value\n",
    "        totalcost= sheet2['B104'].value\n",
    "        \n",
    "        if sheet1['AG953'].value:\n",
    "            # If AG953 contains data, extract value from AG953\n",
    "            value = sheet1['AG953'].value\n",
    "        else:\n",
    "            # If AG953 is empty, extract value from AG955\n",
    "            value = sheet1['AG955'].value\n",
    "        \n",
    "        if sheet1['AG987'].value:\n",
    "            # If AG953 contains data, extract value from AG953\n",
    "            value2= sheet1['AG987'].value\n",
    "        else:\n",
    "            # If AG953 is empty, extract value from AG955\n",
    "            value2= sheet1['AG989'].value\n",
    "            \n",
    "        if sheet1['AG991'].value:\n",
    "            # If AG953 contains data, extract value from AG953\n",
    "            value3= sheet1['AG991'].value\n",
    "        else:\n",
    "            # If AG953 is empty, extract value from AG955\n",
    "            value3= sheet1['AG993'].value\n",
    "\n",
    "        prevailing = value  # Assign the extracted value to prevailing\n",
    "        city = sheet1['I189'].value\n",
    "        county = sheet1['T189'].value\n",
    "        address = sheet1['I185'].value\n",
    "        name = sheet1['I184'].value\n",
    "        acres = sheet1['P411'].value\n",
    "        gsf = sheet1['AG443'].value\n",
    "        type1= value2\n",
    "        type3= value3\n",
    "       \n",
    "        \n",
    "        # Create a DataFrame\n",
    "        excel = os.path.basename(file_name)\n",
    "        df = pd.DataFrame({'Application Number':[excel.strip('.xlsx')],'Cost Per Unit': [costperunit],'Eligible Basis': [eligible],'Land Cost':[landcost],\n",
    "                           'Construction Cost':[constructioncost],'Total Cost':[totalcost],'Cost Per Unit':[costperunit],'Prevailing Wage Boost':[prevailing],'City': [city],'County': [county],\n",
    "                           'Address':[address],'Project Name':[name],'Total Units':[units], 'Land Acres': [acres], 'Gross Square Feet':[gsf],'Type I Boost':[type1], 'Type III Boost':[type3]})\n",
    "        return df\n",
    "    except Exception as e:\n",
    "        print(f\"Error processing {file_name}: {e}\")\n",
    "        return None"
   ]
  },
  {
   "cell_type": "markdown",
   "id": "bff10014-87dc-4f1f-bcb7-782178b19b5b",
   "metadata": {},
   "source": [
    "### 9Per22"
   ]
  },
  {
   "cell_type": "code",
   "execution_count": 9,
   "id": "22f73587-8aed-4aac-984a-60218dd2eeb7",
   "metadata": {
    "tags": []
   },
   "outputs": [],
   "source": [
    "def data229per(file_name):\n",
    "    import openpyxl\n",
    "    import os\n",
    "    import pandas as pd\n",
    "   \n",
    "    try:\n",
    "        # Load the Excel file with openpyxl\n",
    "        excel_file = openpyxl.load_workbook(file_name, data_only=True)\n",
    "\n",
    "        # Access a specific sheet\n",
    "        sheet_name1 = 'Application'\n",
    "        sheet_name2='Sources and Uses Budget'\n",
    "        sheet1 = excel_file[sheet_name1]\n",
    "        sheet2 = excel_file[sheet_name2]\n",
    "\n",
    "        # Extract the value from the merged cell (AC447)\n",
    "        costperunit = sheet1['AC447'].value\n",
    "        eligible= sheet1['AC449'].value\n",
    "        landcost = sheet2['B4'].value\n",
    "        constructioncost = sheet2['B38'].value\n",
    "        totalcost = sheet2['B104'].value\n",
    "        prevailing = sheet1['AG955'].value\n",
    "        units = sheet1['AG430'].value\n",
    "        city= sheet1['I189'].value\n",
    "        county= sheet1['T189'].value\n",
    "        address= sheet1['I185'].value\n",
    "        name= sheet1['I184'].value\n",
    "        acres= sheet1['P411'].value\n",
    "        gsf= sheet1['AG443'].value\n",
    "        type1= sheet1['AG989'].value\n",
    "        type3= sheet1['AG993'].value\n",
    "       \n",
    "        \n",
    "        # Create a DataFrame\n",
    "        excel = os.path.basename(file_name)\n",
    "        df = pd.DataFrame({'Application Number':[excel.strip('.xlsx')],'Cost Per Unit': [costperunit],'Eligible Basis': [eligible],'Land Cost':[landcost],\n",
    "                           'Construction Cost':[constructioncost],'Total Cost':[totalcost],'Cost Per Unit':[costperunit],'Prevailing Wage Boost':[prevailing],'City': [city],'County': [county],\n",
    "                           'Address':[address],'Project Name':[name],'Total Units':[units], 'Land Acres': [acres], 'Gross Square Feet':[gsf],'Type I Boost':[type1], 'Type III Boost':[type3]})\n",
    "        return df\n",
    "    except Exception as e:\n",
    "        print(f\"Error processing {file_name}: {e}\")\n",
    "        return None"
   ]
  },
  {
   "cell_type": "code",
   "execution_count": 61,
   "id": "872f9db5-6644-4ef6-ab8f-8e2700ffc962",
   "metadata": {
    "tags": []
   },
   "outputs": [],
   "source": [
    "def data21224per(file_name):\n",
    "    import openpyxl\n",
    "    import os\n",
    "    import pandas as pd\n",
    "    \n",
    "    try:\n",
    "        # Load the Excel file\n",
    "        excel_file = openpyxl.load_workbook(file_name, data_only=True)\n",
    "\n",
    "      # Access the 'Application' sheet\n",
    "        sheet_name1 = 'Application'\n",
    "        sheet1 = excel_file[sheet_name1]\n",
    "        sheet_name2 = 'Sources and Uses Budget'\n",
    "        sheet2 = excel_file[sheet_name2]\n",
    "\n",
    "        # Extract the value from the merged cell (AC447)\n",
    "        costperunit = sheet1['AC453'].value\n",
    "        eligible = sheet1['AC455'].value\n",
    "        landcost = sheet2['B4'].value\n",
    "        constructioncost = sheet2['B38'].value\n",
    "        totalcost = sheet2['B105'].value\n",
    "        prevailing = sheet2['B33'].value\n",
    "\n",
    "        # Initialize MIP and Recycled Bonds variables\n",
    "        mip = None\n",
    "        recycled = None\n",
    "\n",
    "        # # Search for 'MIP' or 'CDLAC' in cells C618-C629\n",
    "        found_mip= False\n",
    "        for row_number in range(619, 652):\n",
    "            row = sheet1[row_number]\n",
    "            for cell in row:\n",
    "                if cell.value:\n",
    "                    if ('MIP' in str(cell.value).strip() or 'CDLAC' in str(cell.value).strip()):\n",
    "                    # MIP = cell_value\n",
    "                        mip = (f\"Row {row_number}: {cell.value}\")\n",
    "                        found_mip=True\n",
    "                        break  # Stop searching when the first match is found\n",
    "            if found_mip:\n",
    "                break \n",
    "\n",
    "        # Search for 'recycled' throughout the entire 'Application' sheet (case-insensitive)\n",
    "        # Iterate over rows from row 556 to 934\n",
    "        found_recycled = False\n",
    "        for row_number in range(556, 935):\n",
    "            row = sheet1[row_number]\n",
    "\n",
    "            for cell in row:\n",
    "                if cell.value:\n",
    "                    if 'Recycled' in str(cell.value).strip():\n",
    "                        recycled=(f\"Row {row_number}: {cell.value}\")\n",
    "                        found_recycled = True\n",
    "                        break\n",
    "            if found_recycled:\n",
    "                break  # Stop searching if 'Recycled' is found\n",
    "\n",
    "        # Create a DataFrame\n",
    "        excel = os.path.basename(file_name)\n",
    "        df = pd.DataFrame({\n",
    "            'Application Number': [excel.strip('.xlsx')],\n",
    "            'Cost Per Unit': [costperunit],\n",
    "            'Eligible Basis': [eligible],\n",
    "            'Land Cost': [landcost],\n",
    "            'Construction Cost': [constructioncost],\n",
    "            'Total Cost': [totalcost],\n",
    "            'Prevailing Wage': [prevailing],\n",
    "            'MIP': [mip],\n",
    "            'Recycled Bonds': [recycled],\n",
    "        })\n",
    "        return df\n",
    "    except Exception as e:\n",
    "        print(f\"Error processing {file_name}: {e}\")\n",
    "        return None"
   ]
  },
  {
   "cell_type": "code",
   "execution_count": 63,
   "id": "d7f6f121-6392-4d4b-bc2a-b178dfe12964",
   "metadata": {
    "tags": []
   },
   "outputs": [],
   "source": [
    "if __name__ == \"__main__\":\n",
    "    # folder_path = 'TCA_2021_4%_test'  # Replace with the path to your folder containing Excel files\n",
    "    fourper2122df = cccombo('TCAC_2021_4%',data21224per)\n",
    "   "
   ]
  },
  {
   "cell_type": "code",
   "execution_count": 64,
   "id": "6a4146cc-ca14-4cc4-9c4f-450204970dca",
   "metadata": {
    "tags": []
   },
   "outputs": [],
   "source": [
    "fourper2122df.to_csv('fourper2122df.csv')"
   ]
  },
  {
   "cell_type": "code",
   "execution_count": 33,
   "id": "53a2b86c-a5b9-4029-b3c0-89ae2be0b979",
   "metadata": {
    "tags": []
   },
   "outputs": [],
   "source": [
    "if __name__ == \"__main__\":\n",
    "    # folder_path = 'TCA_2021_4%_test'  # Replace with the path to your folder containing Excel files\n",
    "    nineper21df = cccombo('9perwins2021',data219per)"
   ]
  },
  {
   "cell_type": "code",
   "execution_count": 34,
   "id": "a10ec3c1-f987-4abc-950d-fd2aadee2303",
   "metadata": {
    "tags": []
   },
   "outputs": [],
   "source": [
    "nineper21df.to_csv('nineper21df.csv')"
   ]
  },
  {
   "cell_type": "code",
   "execution_count": 35,
   "id": "d6269e23-da13-48da-8826-de7cdf74a278",
   "metadata": {
    "tags": []
   },
   "outputs": [],
   "source": [
    "if __name__ == \"__main__\":\n",
    "    # folder_path = 'TCA_2021_4%_test'  # Replace with the path to your folder containing Excel files\n",
    "    nineper22df = cccombo('9perwins2022',data229per)"
   ]
  },
  {
   "cell_type": "code",
   "execution_count": 36,
   "id": "88c6cd49-3e44-4026-865b-9c7e18a59778",
   "metadata": {
    "tags": []
   },
   "outputs": [],
   "source": [
    "nineper22df.to_csv('nineper22df.csv')"
   ]
  },
  {
   "cell_type": "code",
   "execution_count": 402,
   "id": "97d9bf72-fdf4-40ed-982e-0b856e933443",
   "metadata": {
    "tags": []
   },
   "outputs": [],
   "source": [
    "if __name__ == \"__main__\":\n",
    "    # folder_path = 'TCA_2021_4%_test'  # Replace with the path to your folder containing Excel files\n",
    "    therestnineper21 = cccombo('wins2021',threst2122nine)"
   ]
  },
  {
   "cell_type": "code",
   "execution_count": 403,
   "id": "1aa88dc3-c5ec-41f1-81fe-9e2473acd97e",
   "metadata": {
    "tags": []
   },
   "outputs": [],
   "source": [
    "therestnineper21.to_csv('therestnineper21.csv')"
   ]
  },
  {
   "cell_type": "code",
   "execution_count": 404,
   "id": "f8256074-f9f8-4d66-8bbe-194b46e33716",
   "metadata": {
    "tags": []
   },
   "outputs": [],
   "source": [
    "if __name__ == \"__main__\":\n",
    "    # folder_path = 'TCA_2021_4%_test'  # Replace with the path to your folder containing Excel files\n",
    "    therestnineper22 = cccombo('wins2022',threst2122nine)"
   ]
  },
  {
   "cell_type": "code",
   "execution_count": 405,
   "id": "4369f4d4-70a7-479d-bd4d-fa05b607eef9",
   "metadata": {
    "tags": []
   },
   "outputs": [],
   "source": [
    "therestnineper22.to_csv('therestnineper22.csv')"
   ]
  },
  {
   "cell_type": "code",
   "execution_count": 379,
   "id": "96cfb3c1-fe05-4716-a320-7679ea321164",
   "metadata": {
    "tags": []
   },
   "outputs": [],
   "source": [
    "if __name__ == \"__main__\":\n",
    "    # folder_path = 'TCA_2021_4%_test'  # Replace with the path to your folder containing Excel files\n",
    "    therestfourper2122 = cccombo('TCAC_2021_4%',threst2122four)"
   ]
  },
  {
   "cell_type": "code",
   "execution_count": 401,
   "id": "b62de6f0-b0f2-46d4-88ee-ae2809583809",
   "metadata": {
    "tags": []
   },
   "outputs": [],
   "source": [
    "therestfourper2122.to_csv('therestfourper2122.csv')"
   ]
  },
  {
   "cell_type": "markdown",
   "id": "379a54cb-2dac-44ab-b12d-612da2722e2a",
   "metadata": {},
   "source": [
    "# 2023 Applications"
   ]
  },
  {
   "cell_type": "markdown",
   "id": "af7354f4-679f-4c1e-a3ce-89fccebd95ae",
   "metadata": {},
   "source": [
    "# The rest"
   ]
  },
  {
   "cell_type": "code",
   "execution_count": 69,
   "id": "8301f459-7f6c-4fdd-a106-4856e66d6192",
   "metadata": {
    "tags": []
   },
   "outputs": [],
   "source": [
    "def data20234per(file_name):\n",
    "    import openpyxl\n",
    "    import os\n",
    "    import pandas as pd\n",
    "      # Load the Excel file\n",
    "    try:\n",
    "        \n",
    "        excel_file = openpyxl.load_workbook(file_name, data_only=True)\n",
    "\n",
    "      # Access the 'Application' sheet\n",
    "        sheet_name1 = 'Application'\n",
    "        sheet1 = excel_file[sheet_name1]\n",
    "        sheet_name2 = 'Sources and Uses Budget'\n",
    "        sheet2 = excel_file[sheet_name2]\n",
    "\n",
    "        # Extract the value from the merged cell (AC447)\n",
    "        costperunit = sheet1['AC453'].value\n",
    "        eligible = sheet1['AC455'].value\n",
    "        landcost = sheet2['B4'].value\n",
    "        constructioncost = sheet2['B38'].value\n",
    "        totalcost = sheet2['B105'].value\n",
    "        prevailing = sheet2['B34'].value\n",
    "        \n",
    "        \n",
    "\n",
    "        # Initialize MIP and Recycled Bonds variables\n",
    "        mip = None\n",
    "        recycled = None\n",
    "\n",
    "        # # Search for 'MIP' or 'CDLAC' in cells C618-C629\n",
    "        found_mip= False\n",
    "        for row_number in range(619, 638):\n",
    "            row = sheet1[row_number]\n",
    "            for cell in row:\n",
    "                if cell.value:\n",
    "                    if ('MIP' in str(cell.value).strip() or 'CDLAC' in str(cell.value).strip()):\n",
    "                    # MIP = cell_value\n",
    "                        mip = (f\"Row {row_number}: {cell.value}\")\n",
    "                        found_mip=True\n",
    "                        break  # Stop searching when the first match is found\n",
    "            if found_mip:\n",
    "                break \n",
    "\n",
    "        # Search for 'recycled' throughout the entire 'Application' sheet (case-insensitive)\n",
    "        # Iterate over rows from row 556 to 934\n",
    "        found_recycled = False\n",
    "        for row_number in range(548, 921):\n",
    "            row = sheet1[row_number]\n",
    "\n",
    "            for cell in row:\n",
    "                if cell.value:\n",
    "                    if 'Recycled' in str(cell.value).strip():\n",
    "                        recycled=(f\"Row {row_number}: {cell.value}\")\n",
    "                        found_recycled = True\n",
    "                        break\n",
    "            if found_recycled:\n",
    "                break  # Stop searching if 'Recycled' is found\n",
    "\n",
    "        # Create a DataFrame\n",
    "        excel = os.path.basename(file_name)\n",
    "        df = pd.DataFrame({\n",
    "            'Application Number': [excel.strip('.xlsx')],\n",
    "            'Cost Per Unit': [costperunit],\n",
    "            'Eligible Basis': [eligible],\n",
    "            'Land Cost': [landcost],\n",
    "            'Construction Cost': [constructioncost],\n",
    "            'Total Cost': [totalcost],\n",
    "            'Prevailing Wage': [prevailing],\n",
    "            'MIP': [mip],\n",
    "            'Recycled Bonds': [recycled],\n",
    "        })\n",
    "        return df\n",
    "    except Exception as e:\n",
    "        print(f\"Error processing {file_name}: {e}\")\n",
    "        return None"
   ]
  },
  {
   "cell_type": "code",
   "execution_count": 44,
   "id": "fd3398a2-91a0-43fa-924a-af9a1b186dd9",
   "metadata": {
    "tags": []
   },
   "outputs": [],
   "source": [
    "def data20239per(file_name):\n",
    "    import openpyxl\n",
    "    import os\n",
    "    import pandas as pd\n",
    "      # Load the Excel file\n",
    "    try:\n",
    "        # Load the Excel file with openpyxl\n",
    "        excel_file = openpyxl.load_workbook(file_name, data_only=True)\n",
    "\n",
    "        # Access a specific sheet\n",
    "        sheet_name1 = 'Application'\n",
    "        sheet_name2='Sources and Uses Budget'\n",
    "        sheet1 = excel_file[sheet_name1]\n",
    "        sheet2 = excel_file[sheet_name2]\n",
    "        \n",
    "        \n",
    "        # Extract the value from the merged cell (AC447)\n",
    "        costperunit = sheet1['AC447'].value\n",
    "        eligible = sheet1['AC449'].value\n",
    "        landcost = sheet2['B4'].value\n",
    "        constructioncost = sheet2['B38'].value\n",
    "        totalcost = sheet2['B104'].value\n",
    "        prevailing = sheet1['AG941'].value\n",
    "        units = sheet1['AG430'].value\n",
    "        city= sheet1['I189'].value\n",
    "        county= sheet1['T189'].value\n",
    "        address= sheet1['I185'].value\n",
    "        name= sheet1['I184'].value\n",
    "        acres= sheet1['P411'].value\n",
    "        gsf= sheet1['P411'].value\n",
    "        type1= sheet1['AG975'].value\n",
    "        type3= sheet1['AG979'].value\n",
    "       \n",
    "        \n",
    "         # Create a DataFrame\n",
    "        excel = os.path.basename(file_name)\n",
    "        df = pd.DataFrame({'Application Number':[excel.strip('.xlsx')],'Cost Per Unit': [costperunit],'Eligible Basis': [eligible],'Land Cost':[landcost],\n",
    "                           'Construction Cost':[constructioncost],'Total Cost':[totalcost],'Cost Per Unit':[costperunit],'Prevailing Wage Boost':[prevailing],'City': [city],'County': [county],\n",
    "                           'Address':[address],'Project Name':[name],'Total Units':[units], 'Land Acres': [acres], 'Gross Square Feet':[gsf],'Type I Boost':[type1], 'Type III Boost':[type3]})\n",
    "        return df\n",
    "    except Exception as e:\n",
    "        print(f\"Error processing {file_name}: {e}\")\n",
    "        return None"
   ]
  },
  {
   "cell_type": "code",
   "execution_count": 151,
   "id": "2b63faed-ef1f-46ae-ac90-69d57a1ef5d9",
   "metadata": {},
   "outputs": [],
   "source": [
    "def eligible(file_name):\n",
    "    import openpyxl\n",
    "    import os\n",
    "    import pandas as pd\n",
    "    # Load the Excel file with openpyxl\n",
    "    eligible= None\n",
    "    \n",
    "    # Load the Excel file with openpyxl\n",
    "    excel_file = openpyxl.load_workbook(file_name, data_only=True)\n",
    "    \n",
    "    # Access a specific sheet\n",
    "    sheet_name1 = 'Application'\n",
    "    sheet1 = excel_file[sheet_name1]\n",
    "\n",
    "    # Extract the value from the merged cell (AC447)\n",
    "    eligible = sheet1['AC449'].value\n",
    "    \n",
    "    # Create a DataFrame\n",
    "    excel = os.path.basename(file_name)\n",
    "    df = pd.DataFrame({\n",
    "        'Application Number': [excel.strip('.xlsx')],\n",
    "        'Eligible Basis': [eligible],\n",
    "    })\n",
    "    return df"
   ]
  },
  {
   "cell_type": "code",
   "execution_count": 70,
   "id": "363178f6-8db6-41ca-ad8e-09ebd766c35d",
   "metadata": {
    "tags": []
   },
   "outputs": [],
   "source": [
    "if __name__ == \"__main__\":\n",
    "    # folder_path = 'TCA_2021_4%_test'  # Replace with the path to your folder containing Excel files\n",
    "    fourper23df = cccombo('TCAC_2023_4%',data20234per)"
   ]
  },
  {
   "cell_type": "code",
   "execution_count": 71,
   "id": "a7b51ce5-4e15-4b32-96e0-5d7290816e51",
   "metadata": {
    "tags": []
   },
   "outputs": [],
   "source": [
    "fourper23df.to_csv('fourper23df.csv')"
   ]
  },
  {
   "cell_type": "code",
   "execution_count": 45,
   "id": "847940f8-17bd-4caf-9afd-2e27bfeeccff",
   "metadata": {
    "tags": []
   },
   "outputs": [],
   "source": [
    "if __name__ == \"__main__\":\n",
    "    # folder_path = 'TCA_2021_4%_test'  # Replace with the path to your folder containing Excel files\n",
    "    nineper23df = cccombo('9perwins2023',data20239per)"
   ]
  },
  {
   "cell_type": "code",
   "execution_count": 49,
   "id": "069c00db-4f6d-45ab-8782-e7a425ea8648",
   "metadata": {
    "tags": []
   },
   "outputs": [
    {
     "data": {
      "text/html": [
       "<div>\n",
       "<style scoped>\n",
       "    .dataframe tbody tr th:only-of-type {\n",
       "        vertical-align: middle;\n",
       "    }\n",
       "\n",
       "    .dataframe tbody tr th {\n",
       "        vertical-align: top;\n",
       "    }\n",
       "\n",
       "    .dataframe thead th {\n",
       "        text-align: right;\n",
       "    }\n",
       "</style>\n",
       "<table border=\"1\" class=\"dataframe\">\n",
       "  <thead>\n",
       "    <tr style=\"text-align: right;\">\n",
       "      <th></th>\n",
       "      <th>Application Number</th>\n",
       "      <th>Cost Per Unit</th>\n",
       "      <th>Eligible Basis</th>\n",
       "      <th>Land Cost</th>\n",
       "      <th>Construction Cost</th>\n",
       "      <th>Total Cost</th>\n",
       "      <th>Prevailing Wage Boost</th>\n",
       "      <th>City</th>\n",
       "      <th>County</th>\n",
       "      <th>Address</th>\n",
       "      <th>Project Name</th>\n",
       "      <th>Total Units</th>\n",
       "      <th>Land Acres</th>\n",
       "      <th>Gross Square Feet</th>\n",
       "      <th>Type I Boost</th>\n",
       "      <th>Type III Boost</th>\n",
       "    </tr>\n",
       "  </thead>\n",
       "  <tbody>\n",
       "    <tr>\n",
       "      <th>0</th>\n",
       "      <td>23-001</td>\n",
       "      <td>787499.402985</td>\n",
       "      <td>609221.298507</td>\n",
       "      <td>0.0</td>\n",
       "      <td>34232518.0</td>\n",
       "      <td>5.276246e+07</td>\n",
       "      <td>Yes</td>\n",
       "      <td>Los. Angeles</td>\n",
       "      <td>Los Angeles</td>\n",
       "      <td>232 Judge John Aiso St.</td>\n",
       "      <td>First Street North B Apartments</td>\n",
       "      <td>67</td>\n",
       "      <td>0.95000</td>\n",
       "      <td>0.95000</td>\n",
       "      <td>No</td>\n",
       "      <td>Yes</td>\n",
       "    </tr>\n",
       "    <tr>\n",
       "      <th>1</th>\n",
       "      <td>23-002</td>\n",
       "      <td>586467.588235</td>\n",
       "      <td>492267.000000</td>\n",
       "      <td>663000.0</td>\n",
       "      <td>10262926.0</td>\n",
       "      <td>2.990985e+07</td>\n",
       "      <td>Yes</td>\n",
       "      <td>Stockton</td>\n",
       "      <td>San Joaquin</td>\n",
       "      <td>709 N Center Street, 21 West Park Street, 39 W...</td>\n",
       "      <td>Park Center Apartments</td>\n",
       "      <td>51</td>\n",
       "      <td>1.10000</td>\n",
       "      <td>1.10000</td>\n",
       "      <td>No</td>\n",
       "      <td>No</td>\n",
       "    </tr>\n",
       "    <tr>\n",
       "      <th>2</th>\n",
       "      <td>23-003</td>\n",
       "      <td>911630.535200</td>\n",
       "      <td>786966.599318</td>\n",
       "      <td>2061601.0</td>\n",
       "      <td>24353154.0</td>\n",
       "      <td>4.102337e+07</td>\n",
       "      <td>Yes</td>\n",
       "      <td>Alameda</td>\n",
       "      <td>Alameda</td>\n",
       "      <td>500 Mosley Avenue</td>\n",
       "      <td>North Housing PSH I</td>\n",
       "      <td>45</td>\n",
       "      <td>0.53000</td>\n",
       "      <td>0.53000</td>\n",
       "      <td>No</td>\n",
       "      <td>No</td>\n",
       "    </tr>\n",
       "    <tr>\n",
       "      <th>3</th>\n",
       "      <td>23-004</td>\n",
       "      <td>543400.700000</td>\n",
       "      <td>446161.650000</td>\n",
       "      <td>2600000.0</td>\n",
       "      <td>0.0</td>\n",
       "      <td>2.173603e+07</td>\n",
       "      <td>No</td>\n",
       "      <td>Los Angeles</td>\n",
       "      <td>Los Angeles</td>\n",
       "      <td>1724 East Century Blvd.</td>\n",
       "      <td>Watts Arms II Apartments</td>\n",
       "      <td>40</td>\n",
       "      <td>2.05000</td>\n",
       "      <td>2.05000</td>\n",
       "      <td>No</td>\n",
       "      <td>No</td>\n",
       "    </tr>\n",
       "    <tr>\n",
       "      <th>4</th>\n",
       "      <td>23-005</td>\n",
       "      <td>820757.250000</td>\n",
       "      <td>678208.908333</td>\n",
       "      <td>4850000.0</td>\n",
       "      <td>22826827.0</td>\n",
       "      <td>3.939635e+07</td>\n",
       "      <td>Yes</td>\n",
       "      <td>West Hollywood</td>\n",
       "      <td>Los Angeles</td>\n",
       "      <td>1201 - 1207 N Detroit Street</td>\n",
       "      <td>Lexington Gardens</td>\n",
       "      <td>48</td>\n",
       "      <td>0.30886</td>\n",
       "      <td>0.30886</td>\n",
       "      <td>No</td>\n",
       "      <td>No</td>\n",
       "    </tr>\n",
       "  </tbody>\n",
       "</table>\n",
       "</div>"
      ],
      "text/plain": [
       "  Application Number  Cost Per Unit  Eligible Basis  Land Cost  \\\n",
       "0             23-001  787499.402985   609221.298507        0.0   \n",
       "1             23-002  586467.588235   492267.000000   663000.0   \n",
       "2             23-003  911630.535200   786966.599318  2061601.0   \n",
       "3             23-004  543400.700000   446161.650000  2600000.0   \n",
       "4             23-005  820757.250000   678208.908333  4850000.0   \n",
       "\n",
       "   Construction Cost    Total Cost Prevailing Wage Boost            City  \\\n",
       "0         34232518.0  5.276246e+07                   Yes    Los. Angeles   \n",
       "1         10262926.0  2.990985e+07                   Yes        Stockton   \n",
       "2         24353154.0  4.102337e+07                   Yes         Alameda   \n",
       "3                0.0  2.173603e+07                    No     Los Angeles   \n",
       "4         22826827.0  3.939635e+07                   Yes  West Hollywood   \n",
       "\n",
       "        County                                            Address  \\\n",
       "0  Los Angeles                            232 Judge John Aiso St.   \n",
       "1  San Joaquin  709 N Center Street, 21 West Park Street, 39 W...   \n",
       "2      Alameda                                  500 Mosley Avenue   \n",
       "3  Los Angeles                            1724 East Century Blvd.   \n",
       "4  Los Angeles                       1201 - 1207 N Detroit Street   \n",
       "\n",
       "                      Project Name  Total Units  Land Acres  \\\n",
       "0  First Street North B Apartments           67     0.95000   \n",
       "1           Park Center Apartments           51     1.10000   \n",
       "2              North Housing PSH I           45     0.53000   \n",
       "3         Watts Arms II Apartments           40     2.05000   \n",
       "4                Lexington Gardens           48     0.30886   \n",
       "\n",
       "   Gross Square Feet Type I Boost Type III Boost  \n",
       "0            0.95000           No            Yes  \n",
       "1            1.10000           No             No  \n",
       "2            0.53000           No             No  \n",
       "3            2.05000           No             No  \n",
       "4            0.30886           No             No  "
      ]
     },
     "execution_count": 49,
     "metadata": {},
     "output_type": "execute_result"
    }
   ],
   "source": [
    "nineper23df.head()"
   ]
  },
  {
   "cell_type": "code",
   "execution_count": 51,
   "id": "c4c13292-41ac-4036-b2b6-6487102e238c",
   "metadata": {
    "tags": []
   },
   "outputs": [],
   "source": [
    "nineper23df.to_csv('nineper23df.csv')"
   ]
  },
  {
   "cell_type": "code",
   "execution_count": 152,
   "id": "5f663c71-2c27-4fff-a006-6a948bcd6327",
   "metadata": {
    "tags": []
   },
   "outputs": [],
   "source": [
    "if __name__ == \"__main__\":\n",
    "    # folder_path = 'TCA_2021_4%_test'  # Replace with the path to your folder containing Excel files\n",
    "    eb20239per = cccombo('wins2023',eligible)"
   ]
  },
  {
   "cell_type": "code",
   "execution_count": 153,
   "id": "03ea7c9b-4d6d-4f5c-a0f4-021e1f152113",
   "metadata": {
    "tags": []
   },
   "outputs": [],
   "source": [
    "eb20239per.to_csv('eb20239per.csv')"
   ]
  },
  {
   "cell_type": "code",
   "execution_count": null,
   "id": "ecce4cd0-70fa-4b4c-b348-4538e00e3119",
   "metadata": {},
   "outputs": [],
   "source": []
  },
  {
   "cell_type": "code",
   "execution_count": 381,
   "id": "ccddb061-7ed4-48ee-8640-ca173cb3aefb",
   "metadata": {
    "tags": []
   },
   "outputs": [],
   "source": [
    "if __name__ == \"__main__\":\n",
    "    # folder_path = 'TCA_2021_4%_test'  # Replace with the path to your folder containing Excel files\n",
    "    therestnineper23 = cccombo('wins2023',threst2122nine)"
   ]
  },
  {
   "cell_type": "code",
   "execution_count": 382,
   "id": "19d811e3-8338-4f27-8a8f-106453f4cfe8",
   "metadata": {
    "tags": []
   },
   "outputs": [],
   "source": [
    "therestnineper23.to_csv('therestnineper23.csv')"
   ]
  },
  {
   "cell_type": "code",
   "execution_count": 383,
   "id": "f7ac6cf3-3430-47d3-846b-6cf9b0a3ae1b",
   "metadata": {
    "tags": []
   },
   "outputs": [],
   "source": [
    "if __name__ == \"__main__\":\n",
    "    # folder_path = 'TCA_2021_4%_test'  # Replace with the path to your folder containing Excel files\n",
    "    therestfourper23 = cccombo('TCAC_2023_4%',threst2122four)"
   ]
  },
  {
   "cell_type": "code",
   "execution_count": 400,
   "id": "c5d5785e-6e88-4723-8d38-9a06fdb84a66",
   "metadata": {
    "tags": []
   },
   "outputs": [],
   "source": [
    "therestfourper23.to_csv('therestfourper23.csv')"
   ]
  },
  {
   "cell_type": "markdown",
   "id": "882ac945-277a-4fb4-a8a5-9fbecfb623f8",
   "metadata": {},
   "source": [
    "### Final DFs "
   ]
  },
  {
   "cell_type": "code",
   "execution_count": 7,
   "id": "4389ae97-49b9-497a-978c-2d1282cac5cb",
   "metadata": {
    "tags": []
   },
   "outputs": [],
   "source": [
    "fourper2020Final=pd.read_csv('fourper20df.csv')\n",
    "prevwage=pd.read_csv('prevwage4per20df.csv')\n",
    "fourper2020Final['Prevailing Wage']=prevwage['Prevailing Wage']\n",
    "fourper2020Final.to_csv('fourper2020Final.csv')"
   ]
  },
  {
   "cell_type": "code",
   "execution_count": 8,
   "id": "1f917ee8-8b95-41ba-aa8b-5484f008ccd7",
   "metadata": {
    "tags": []
   },
   "outputs": [],
   "source": [
    "fourper22=pd.read_csv('fourper2122df.csv')\n",
    "fourper23df=pd.read_csv('fourper23df.csv')\n",
    "\n",
    "allfourperfinal=pd.concat([fourper22,fourper23df,fourper2020Final],ignore_index=False)\n",
    "allfourperfinal.drop(allfourperfinal.columns[allfourperfinal.columns.str.contains('unnamed',case = False)],axis = 1, inplace = True)\n"
   ]
  },
  {
   "cell_type": "code",
   "execution_count": 9,
   "id": "d86945aa-bf0e-4d31-a683-1037eb8ce0c0",
   "metadata": {
    "tags": []
   },
   "outputs": [],
   "source": [
    "allfourperfinal['Type']='4%'"
   ]
  },
  {
   "cell_type": "code",
   "execution_count": 10,
   "id": "77e1d19d-6cc2-4559-a23d-ed73d99dc78f",
   "metadata": {
    "tags": []
   },
   "outputs": [],
   "source": [
    "allfourperfinal.to_csv('allfourperfinal.csv')"
   ]
  },
  {
   "cell_type": "code",
   "execution_count": 11,
   "id": "e1032952-49cd-4d01-a3f7-d7f7e62e6eda",
   "metadata": {
    "tags": []
   },
   "outputs": [],
   "source": [
    "eb23=pd.read_csv('eb20239per.csv')\n",
    "nineper23final=pd.read_csv('nineper23df.csv')\n",
    "nineper23final['Eligible Basis']=eb23['Eligible Basis']\n",
    "nineper23final.drop(nineper23final.columns[nineper23final.columns.str.contains('unnamed',case = False)],axis = 1, inplace = True)\n",
    "nineper23final.to_csv('nineper23final.csv')"
   ]
  },
  {
   "cell_type": "code",
   "execution_count": 52,
   "id": "b958eadb-75d5-4651-8496-e956b3ab2e78",
   "metadata": {
    "tags": []
   },
   "outputs": [],
   "source": [
    "nineper20=pd.read_csv('nineper20df.csv')\n",
    "nineper21=pd.read_csv('nineper21df.csv')\n",
    "nineper22=pd.read_csv('nineper22df.csv')\n",
    "nineper23=pd.read_csv('nineper23df.csv')\n",
    "allnineperfinal=pd.concat([nineper20,nineper21,nineper22,nineper23],ignore_index=False)\n",
    "allnineperfinal['Type']='9%'\n"
   ]
  },
  {
   "cell_type": "code",
   "execution_count": 53,
   "id": "7aebce9f-fd64-4b76-8de2-bdad933b419a",
   "metadata": {
    "tags": []
   },
   "outputs": [],
   "source": [
    "allnineperfinal.to_csv('allnineperfinal.csv')"
   ]
  },
  {
   "cell_type": "code",
   "execution_count": 54,
   "id": "8b5b858a-31ea-4e6f-b8fc-417868f2f9c1",
   "metadata": {
    "tags": []
   },
   "outputs": [],
   "source": [
    "allnineperfinal.to_excel('allnineperfinal.xlsx')"
   ]
  },
  {
   "cell_type": "code",
   "execution_count": 14,
   "id": "b193b166-722b-4351-9269-e1dd2f248f6d",
   "metadata": {
    "tags": []
   },
   "outputs": [],
   "source": [
    "fourandnine=pd.concat([allnineperfinal,allfourperfinal],ignore_index=False)\n",
    "                                                                                        "
   ]
  },
  {
   "cell_type": "code",
   "execution_count": 15,
   "id": "891b7fb4-2d02-4727-820c-03f3936c2eb9",
   "metadata": {},
   "outputs": [],
   "source": [
    "fourandnine.drop(fourandnine.columns[fourandnine.columns.str.contains('unnamed',case = False)],axis = 1, inplace = True)\n",
    "fourandnine.loc[fourandnine['Type'] == '9%', 'Prevailing Wage'] = fourandnine.loc[fourandnine['Type'] == '9%', 'Prevailing Wage'].fillna('Not Examined')\n",
    "fourandnine.to_csv('Finalfourandnine.csv')\n",
    "                                                "
   ]
  },
  {
   "cell_type": "markdown",
   "id": "89ca4392-9d23-444a-a1f2-cf95b37d5792",
   "metadata": {},
   "source": [
    "### Adding Info from CDLAC Spreadsheet"
   ]
  },
  {
   "cell_type": "code",
   "execution_count": 16,
   "id": "7ec77233-b95c-46e6-b533-960c5cb657f5",
   "metadata": {
    "tags": []
   },
   "outputs": [],
   "source": [
    "trfour20=pd.read_csv('therestfourper.csv')\n",
    "trfour2122=pd.read_csv('therestfourper2122.csv')\n",
    "trfour23=pd.read_csv('therestfourper23.csv')\n",
    "trnine20=pd.read_csv('therestnineper.csv')\n",
    "trnine21=pd.read_csv('therestnineper21.csv')\n",
    "trnine22=pd.read_csv('therestnineper22.csv')\n",
    "trnine23=pd.read_csv('therestnineper23.csv')"
   ]
  },
  {
   "cell_type": "code",
   "execution_count": 17,
   "id": "57383f5a-5dd6-4aba-b0f0-456191ec013b",
   "metadata": {
    "tags": []
   },
   "outputs": [
    {
     "data": {
      "text/html": [
       "<div>\n",
       "<style scoped>\n",
       "    .dataframe tbody tr th:only-of-type {\n",
       "        vertical-align: middle;\n",
       "    }\n",
       "\n",
       "    .dataframe tbody tr th {\n",
       "        vertical-align: top;\n",
       "    }\n",
       "\n",
       "    .dataframe thead th {\n",
       "        text-align: right;\n",
       "    }\n",
       "</style>\n",
       "<table border=\"1\" class=\"dataframe\">\n",
       "  <thead>\n",
       "    <tr style=\"text-align: right;\">\n",
       "      <th></th>\n",
       "      <th>Application Number</th>\n",
       "      <th>Total Units</th>\n",
       "      <th>City</th>\n",
       "      <th>County</th>\n",
       "    </tr>\n",
       "  </thead>\n",
       "  <tbody>\n",
       "    <tr>\n",
       "      <th>0</th>\n",
       "      <td>20-401</td>\n",
       "      <td>37.0</td>\n",
       "      <td>Bakersfield</td>\n",
       "      <td>Kern</td>\n",
       "    </tr>\n",
       "    <tr>\n",
       "      <th>1</th>\n",
       "      <td>20-402</td>\n",
       "      <td>121.0</td>\n",
       "      <td>Los Angeles</td>\n",
       "      <td>Los Angeles</td>\n",
       "    </tr>\n",
       "    <tr>\n",
       "      <th>2</th>\n",
       "      <td>20-403</td>\n",
       "      <td>40.0</td>\n",
       "      <td>Delano</td>\n",
       "      <td>Kern</td>\n",
       "    </tr>\n",
       "    <tr>\n",
       "      <th>3</th>\n",
       "      <td>20-404</td>\n",
       "      <td>26.0</td>\n",
       "      <td>Los Angeles</td>\n",
       "      <td>Los Angeles</td>\n",
       "    </tr>\n",
       "    <tr>\n",
       "      <th>4</th>\n",
       "      <td>20-405</td>\n",
       "      <td>27.0</td>\n",
       "      <td>Whittier</td>\n",
       "      <td>Los Angeles</td>\n",
       "    </tr>\n",
       "  </tbody>\n",
       "</table>\n",
       "</div>"
      ],
      "text/plain": [
       "  Application Number  Total Units         City       County\n",
       "0             20-401         37.0  Bakersfield         Kern\n",
       "1             20-402        121.0  Los Angeles  Los Angeles\n",
       "2             20-403         40.0       Delano         Kern\n",
       "3             20-404         26.0  Los Angeles  Los Angeles\n",
       "4             20-405         27.0     Whittier  Los Angeles"
      ]
     },
     "execution_count": 17,
     "metadata": {},
     "output_type": "execute_result"
    }
   ],
   "source": [
    "trfourall=pd.concat([trfour20,trfour2122,trfour23],ignore_index=False)\n",
    "trfourall.drop(trfourall.columns[trfourall.columns.str.contains('unnamed',case = False)],axis = 1, inplace = True)\n",
    "trfourall.head()"
   ]
  },
  {
   "cell_type": "code",
   "execution_count": 18,
   "id": "5eaf0e89-d993-474c-a756-0dcf1bbf3c00",
   "metadata": {
    "tags": []
   },
   "outputs": [],
   "source": [
    "cdlac9per= pd.merge(allfourperfinal, trfourall, on='Application Number', how='inner')"
   ]
  },
  {
   "cell_type": "code",
   "execution_count": 19,
   "id": "cdfa74dc-eb5e-4da3-b159-9dc9942c9a67",
   "metadata": {},
   "outputs": [
    {
     "data": {
      "text/html": [
       "<div>\n",
       "<style scoped>\n",
       "    .dataframe tbody tr th:only-of-type {\n",
       "        vertical-align: middle;\n",
       "    }\n",
       "\n",
       "    .dataframe tbody tr th {\n",
       "        vertical-align: top;\n",
       "    }\n",
       "\n",
       "    .dataframe thead th {\n",
       "        text-align: right;\n",
       "    }\n",
       "</style>\n",
       "<table border=\"1\" class=\"dataframe\">\n",
       "  <thead>\n",
       "    <tr style=\"text-align: right;\">\n",
       "      <th></th>\n",
       "      <th>Application Number</th>\n",
       "      <th>Total Units</th>\n",
       "      <th>City</th>\n",
       "      <th>County</th>\n",
       "    </tr>\n",
       "  </thead>\n",
       "  <tbody>\n",
       "    <tr>\n",
       "      <th>0</th>\n",
       "      <td>20-002</td>\n",
       "      <td>52.0</td>\n",
       "      <td>Susanville</td>\n",
       "      <td>Lassen</td>\n",
       "    </tr>\n",
       "    <tr>\n",
       "      <th>1</th>\n",
       "      <td>20-003</td>\n",
       "      <td>100.0</td>\n",
       "      <td>Indio</td>\n",
       "      <td>Riverside</td>\n",
       "    </tr>\n",
       "    <tr>\n",
       "      <th>2</th>\n",
       "      <td>20-008</td>\n",
       "      <td>52.0</td>\n",
       "      <td>Los Angeles</td>\n",
       "      <td>Los Angeles</td>\n",
       "    </tr>\n",
       "    <tr>\n",
       "      <th>3</th>\n",
       "      <td>20-010</td>\n",
       "      <td>44.0</td>\n",
       "      <td>Livingston</td>\n",
       "      <td>Merced</td>\n",
       "    </tr>\n",
       "    <tr>\n",
       "      <th>4</th>\n",
       "      <td>20-011</td>\n",
       "      <td>134.0</td>\n",
       "      <td>Sacramento</td>\n",
       "      <td>Sacramento</td>\n",
       "    </tr>\n",
       "  </tbody>\n",
       "</table>\n",
       "</div>"
      ],
      "text/plain": [
       "  Application Number  Total Units         City       County\n",
       "0             20-002         52.0   Susanville       Lassen\n",
       "1             20-003        100.0        Indio    Riverside\n",
       "2             20-008         52.0  Los Angeles  Los Angeles\n",
       "3             20-010         44.0   Livingston       Merced\n",
       "4             20-011        134.0   Sacramento   Sacramento"
      ]
     },
     "execution_count": 19,
     "metadata": {},
     "output_type": "execute_result"
    }
   ],
   "source": [
    "allnineper=pd.concat([trnine20,trnine21,trnine22,trnine23],ignore_index=False)\n",
    "trnineall.drop(trnineall.columns[trnineall.columns.str.contains('unnamed',case = False)],axis = 1, inplace = True)\n",
    "trnineall.head()"
   ]
  },
  {
   "cell_type": "code",
   "execution_count": 20,
   "id": "116f11ee-3c40-4390-b2ca-33cc75de5af2",
   "metadata": {
    "tags": []
   },
   "outputs": [],
   "source": [
    "cdlac9per= pd.merge(allnineperfinal, trnineall, on='Application Number', how='inner')"
   ]
  },
  {
   "cell_type": "code",
   "execution_count": 21,
   "id": "2a89fa80-d09c-46e8-9614-e51378d536ed",
   "metadata": {
    "tags": []
   },
   "outputs": [
    {
     "data": {
      "text/html": [
       "<div>\n",
       "<style scoped>\n",
       "    .dataframe tbody tr th:only-of-type {\n",
       "        vertical-align: middle;\n",
       "    }\n",
       "\n",
       "    .dataframe tbody tr th {\n",
       "        vertical-align: top;\n",
       "    }\n",
       "\n",
       "    .dataframe thead th {\n",
       "        text-align: right;\n",
       "    }\n",
       "</style>\n",
       "<table border=\"1\" class=\"dataframe\">\n",
       "  <thead>\n",
       "    <tr style=\"text-align: right;\">\n",
       "      <th></th>\n",
       "      <th>Application Number</th>\n",
       "      <th>Cost Per Unit</th>\n",
       "      <th>Eligible Basis</th>\n",
       "      <th>Land Cost</th>\n",
       "      <th>Construction Cost</th>\n",
       "      <th>Total Cost</th>\n",
       "      <th>Type</th>\n",
       "      <th>Total Units</th>\n",
       "      <th>City</th>\n",
       "      <th>County</th>\n",
       "    </tr>\n",
       "  </thead>\n",
       "  <tbody>\n",
       "    <tr>\n",
       "      <th>0</th>\n",
       "      <td>20-002</td>\n",
       "      <td>164864.326923</td>\n",
       "      <td>137947.442308</td>\n",
       "      <td>367000.0</td>\n",
       "      <td>0.0</td>\n",
       "      <td>8.572945e+06</td>\n",
       "      <td>9%</td>\n",
       "      <td>52.0</td>\n",
       "      <td>Susanville</td>\n",
       "      <td>Lassen</td>\n",
       "    </tr>\n",
       "    <tr>\n",
       "      <th>1</th>\n",
       "      <td>20-003</td>\n",
       "      <td>450592.627573</td>\n",
       "      <td>368773.352549</td>\n",
       "      <td>3894330.2</td>\n",
       "      <td>29023655.0</td>\n",
       "      <td>4.505926e+07</td>\n",
       "      <td>9%</td>\n",
       "      <td>100.0</td>\n",
       "      <td>Indio</td>\n",
       "      <td>Riverside</td>\n",
       "    </tr>\n",
       "    <tr>\n",
       "      <th>2</th>\n",
       "      <td>20-008</td>\n",
       "      <td>727049.038462</td>\n",
       "      <td>604981.480769</td>\n",
       "      <td>3259869.0</td>\n",
       "      <td>23922870.0</td>\n",
       "      <td>3.780655e+07</td>\n",
       "      <td>9%</td>\n",
       "      <td>52.0</td>\n",
       "      <td>Los Angeles</td>\n",
       "      <td>Los Angeles</td>\n",
       "    </tr>\n",
       "    <tr>\n",
       "      <th>3</th>\n",
       "      <td>20-010</td>\n",
       "      <td>185829.090909</td>\n",
       "      <td>154502.977273</td>\n",
       "      <td>295000.0</td>\n",
       "      <td>0.0</td>\n",
       "      <td>8.176480e+06</td>\n",
       "      <td>9%</td>\n",
       "      <td>44.0</td>\n",
       "      <td>Livingston</td>\n",
       "      <td>Merced</td>\n",
       "    </tr>\n",
       "    <tr>\n",
       "      <th>4</th>\n",
       "      <td>20-011</td>\n",
       "      <td>445040.305970</td>\n",
       "      <td>364022.238806</td>\n",
       "      <td>2128000.0</td>\n",
       "      <td>29635021.0</td>\n",
       "      <td>5.963540e+07</td>\n",
       "      <td>9%</td>\n",
       "      <td>134.0</td>\n",
       "      <td>Sacramento</td>\n",
       "      <td>Sacramento</td>\n",
       "    </tr>\n",
       "  </tbody>\n",
       "</table>\n",
       "</div>"
      ],
      "text/plain": [
       "  Application Number  Cost Per Unit  Eligible Basis  Land Cost  \\\n",
       "0             20-002  164864.326923   137947.442308   367000.0   \n",
       "1             20-003  450592.627573   368773.352549  3894330.2   \n",
       "2             20-008  727049.038462   604981.480769  3259869.0   \n",
       "3             20-010  185829.090909   154502.977273   295000.0   \n",
       "4             20-011  445040.305970   364022.238806  2128000.0   \n",
       "\n",
       "   Construction Cost    Total Cost Type  Total Units         City       County  \n",
       "0                0.0  8.572945e+06   9%         52.0   Susanville       Lassen  \n",
       "1         29023655.0  4.505926e+07   9%        100.0        Indio    Riverside  \n",
       "2         23922870.0  3.780655e+07   9%         52.0  Los Angeles  Los Angeles  \n",
       "3                0.0  8.176480e+06   9%         44.0   Livingston       Merced  \n",
       "4         29635021.0  5.963540e+07   9%        134.0   Sacramento   Sacramento  "
      ]
     },
     "execution_count": 21,
     "metadata": {},
     "output_type": "execute_result"
    }
   ],
   "source": [
    "cdlac9per.head()"
   ]
  },
  {
   "cell_type": "code",
   "execution_count": 22,
   "id": "671f885c-c7bf-4cd8-9dc8-410820485a69",
   "metadata": {
    "tags": []
   },
   "outputs": [],
   "source": [
    "cdlac9per=cdlac9per.rename(columns={'Eligible Basis':'Eligible Basis/Unit'})\n"
   ]
  },
  {
   "cell_type": "code",
   "execution_count": 23,
   "id": "c57b36aa-1a13-4e25-9416-5c17066f8c78",
   "metadata": {
    "tags": []
   },
   "outputs": [],
   "source": [
    "cdlac9per['Total Eligible Basis']= cdlac9per['Eligible Basis/Unit']*cdlac9per['Total Units']"
   ]
  },
  {
   "cell_type": "code",
   "execution_count": 24,
   "id": "27370012-90bb-4b8c-b48a-1c4e008c2961",
   "metadata": {
    "tags": []
   },
   "outputs": [],
   "source": [
    "cdlac4per= pd.merge(allfourperfinal, trfourall, on='Application Number', how='inner')"
   ]
  },
  {
   "cell_type": "code",
   "execution_count": 25,
   "id": "1b58075a-516b-4ae1-96c7-68fa900d4630",
   "metadata": {
    "tags": []
   },
   "outputs": [],
   "source": [
    "cdlac9per['Year']='20'+cdlac9per['Application Number'].str[:2]\n",
    "cdlac4per['Year']='20'+cdlac4per['Application Number'].str[:2]"
   ]
  },
  {
   "cell_type": "code",
   "execution_count": 26,
   "id": "b81ada3a-f3e7-449b-baf9-905cede2f865",
   "metadata": {
    "tags": []
   },
   "outputs": [],
   "source": [
    "cdlac9per.to_csv('cdlac9per.csv')"
   ]
  },
  {
   "cell_type": "code",
   "execution_count": 27,
   "id": "54b5b32a-828e-4afb-b5d6-01d6027a0be4",
   "metadata": {
    "tags": []
   },
   "outputs": [],
   "source": [
    "cdlac4per.to_csv('cdlac4per.csv')"
   ]
  },
  {
   "cell_type": "code",
   "execution_count": 28,
   "id": "39ddd8b0-35ca-4241-9fbf-c99104430830",
   "metadata": {
    "tags": []
   },
   "outputs": [
    {
     "ename": "NameError",
     "evalue": "name 'both' is not defined",
     "output_type": "error",
     "traceback": [
      "\u001b[1;31m---------------------------------------------------------------------------\u001b[0m",
      "\u001b[1;31mNameError\u001b[0m                                 Traceback (most recent call last)",
      "Cell \u001b[1;32mIn[28], line 3\u001b[0m\n\u001b[0;32m      1\u001b[0m cdlac9per\u001b[38;5;241m.\u001b[39mto_excel(\u001b[38;5;124m'\u001b[39m\u001b[38;5;124mcdlac9per.xlsx\u001b[39m\u001b[38;5;124m'\u001b[39m)\n\u001b[0;32m      2\u001b[0m cdlac4per\u001b[38;5;241m.\u001b[39mto_excel(\u001b[38;5;124m'\u001b[39m\u001b[38;5;124mcdlac4per.xlsx\u001b[39m\u001b[38;5;124m'\u001b[39m)\n\u001b[1;32m----> 3\u001b[0m \u001b[43mboth\u001b[49m\u001b[38;5;241m.\u001b[39mto_excel(\u001b[38;5;124m'\u001b[39m\u001b[38;5;124mCDLACApplications.xlsx\u001b[39m\u001b[38;5;124m'\u001b[39m)\n",
      "\u001b[1;31mNameError\u001b[0m: name 'both' is not defined"
     ]
    }
   ],
   "source": [
    "cdlac9per.to_excel('cdlac9per.xlsx')\n",
    "cdlac4per.to_excel('cdlac4per.xlsx')\n",
    "both.to_excel('CDLACApplications.xlsx')"
   ]
  },
  {
   "cell_type": "code",
   "execution_count": null,
   "id": "2e1ee99d-30e6-4125-84d8-5fee6f12a06d",
   "metadata": {
    "tags": []
   },
   "outputs": [],
   "source": [
    "both=pd.concat([cdlac9per,cdlac4per],ignore_index=False)\n",
    "both.drop(both.columns[both.columns.str.contains('unnamed',case = False)],axis = 1, inplace = True)\n",
    "both.head()"
   ]
  },
  {
   "cell_type": "code",
   "execution_count": 29,
   "id": "5be18b44-a95e-4912-99c6-a43dfe864d99",
   "metadata": {
    "tags": []
   },
   "outputs": [
    {
     "ename": "NameError",
     "evalue": "name 'both' is not defined",
     "output_type": "error",
     "traceback": [
      "\u001b[1;31m---------------------------------------------------------------------------\u001b[0m",
      "\u001b[1;31mNameError\u001b[0m                                 Traceback (most recent call last)",
      "Cell \u001b[1;32mIn[29], line 1\u001b[0m\n\u001b[1;32m----> 1\u001b[0m both\u001b[38;5;241m.\u001b[39mloc[both[\u001b[38;5;124m'\u001b[39m\u001b[38;5;124mType\u001b[39m\u001b[38;5;124m'\u001b[39m] \u001b[38;5;241m==\u001b[39m \u001b[38;5;124m'\u001b[39m\u001b[38;5;124m9\u001b[39m\u001b[38;5;124m%\u001b[39m\u001b[38;5;124m'\u001b[39m, \u001b[38;5;124m'\u001b[39m\u001b[38;5;124mPrevailing Wage\u001b[39m\u001b[38;5;124m'\u001b[39m] \u001b[38;5;241m=\u001b[39m \u001b[43mboth\u001b[49m\u001b[38;5;241m.\u001b[39mloc[both[\u001b[38;5;124m'\u001b[39m\u001b[38;5;124mType\u001b[39m\u001b[38;5;124m'\u001b[39m] \u001b[38;5;241m==\u001b[39m \u001b[38;5;124m'\u001b[39m\u001b[38;5;124m9\u001b[39m\u001b[38;5;124m%\u001b[39m\u001b[38;5;124m'\u001b[39m, \u001b[38;5;124m'\u001b[39m\u001b[38;5;124mPrevailing Wage\u001b[39m\u001b[38;5;124m'\u001b[39m]\u001b[38;5;241m.\u001b[39mfillna(\u001b[38;5;124m'\u001b[39m\u001b[38;5;124mNot Examined\u001b[39m\u001b[38;5;124m'\u001b[39m)\n\u001b[0;32m      2\u001b[0m both\u001b[38;5;241m.\u001b[39msample(\u001b[38;5;241m10\u001b[39m)\n",
      "\u001b[1;31mNameError\u001b[0m: name 'both' is not defined"
     ]
    }
   ],
   "source": [
    "both.loc[both['Type'] == '9%', 'Prevailing Wage'] = both.loc[both['Type'] == '9%', 'Prevailing Wage'].fillna('Not Examined')\n",
    "both.sample(10)"
   ]
  },
  {
   "cell_type": "code",
   "execution_count": 30,
   "id": "ad1b902c-78e8-47c4-8eff-6f2c826865f2",
   "metadata": {
    "tags": []
   },
   "outputs": [
    {
     "ename": "NameError",
     "evalue": "name 'both' is not defined",
     "output_type": "error",
     "traceback": [
      "\u001b[1;31m---------------------------------------------------------------------------\u001b[0m",
      "\u001b[1;31mNameError\u001b[0m                                 Traceback (most recent call last)",
      "Cell \u001b[1;32mIn[30], line 1\u001b[0m\n\u001b[1;32m----> 1\u001b[0m \u001b[43mboth\u001b[49m\u001b[38;5;241m.\u001b[39mto_csv(\u001b[38;5;124m'\u001b[39m\u001b[38;5;124mCDLACApplications.csv\u001b[39m\u001b[38;5;124m'\u001b[39m)\n",
      "\u001b[1;31mNameError\u001b[0m: name 'both' is not defined"
     ]
    }
   ],
   "source": [
    "both.to_csv('CDLACApplications.csv')"
   ]
  },
  {
   "cell_type": "code",
   "execution_count": 31,
   "id": "ec5ace31-a8f1-43c6-9180-9097ea8e74e0",
   "metadata": {
    "tags": []
   },
   "outputs": [],
   "source": [
    "cdlac4per=cdlac4per.rename(columns={'Eligible Basis':'Eligible Basis/Unit'})\n",
    "cdlac4per['Total Eligible Basis']= cdlac4per['Eligible Basis/Unit']*cdlac4per['Total Units']"
   ]
  },
  {
   "cell_type": "code",
   "execution_count": null,
   "id": "7d86bdcc-1e5e-4b8c-b6de-6a1f60a167b5",
   "metadata": {},
   "outputs": [],
   "source": [
    "allnineperfinal=pd.concat([nineper20,nineper21,nineper22,nineper23final],ignore_index=False)\n",
    "allnineperfinal.drop(allnineperfinal.columns[allnineperfinal.columns.str.contains('unnamed',case = False)],axis = 1, inplace = True)\n",
    "allnineperfinal['Type']='9%'"
   ]
  },
  {
   "cell_type": "code",
   "execution_count": 58,
   "id": "3022d985-002e-471c-af6f-c98e6a0fde1d",
   "metadata": {
    "tags": []
   },
   "outputs": [
    {
     "name": "stdout",
     "output_type": "stream",
     "text": [
      "<class 'pandas.core.frame.DataFrame'>\n",
      "Int64Index: 247 entries, 0 to 53\n",
      "Data columns (total 15 columns):\n",
      " #   Column                 Non-Null Count  Dtype  \n",
      "---  ------                 --------------  -----  \n",
      " 0   Application Number     247 non-null    object \n",
      " 1   Cost Per Unit          244 non-null    float64\n",
      " 2   Eligible Basis         190 non-null    float64\n",
      " 3   Land Cost              247 non-null    float64\n",
      " 4   Construction Cost      247 non-null    float64\n",
      " 5   Total Cost             247 non-null    float64\n",
      " 6   Prevailing Wage Boost  127 non-null    object \n",
      " 7   City                   190 non-null    object \n",
      " 8   County                 190 non-null    object \n",
      " 9   Address                174 non-null    object \n",
      " 10  Project Name           190 non-null    object \n",
      " 11  Total Units            190 non-null    float64\n",
      " 12  Land Acres             190 non-null    float64\n",
      " 13  Gross Square Feet      190 non-null    float64\n",
      " 14  Type                   247 non-null    object \n",
      "dtypes: float64(8), object(7)\n",
      "memory usage: 30.9+ KB\n"
     ]
    }
   ],
   "source": [
    "allnineperfinal.info()"
   ]
  },
  {
   "cell_type": "code",
   "execution_count": 32,
   "id": "ffaadf75-0aa6-4e76-adcd-523a516760d1",
   "metadata": {},
   "outputs": [],
   "source": [
    "cdlac9per= pd.merge(allnineperfinal, trnineall, on='Application Number', how='inner')"
   ]
  },
  {
   "cell_type": "code",
   "execution_count": 5,
   "id": "510d4492-24ba-4615-a01a-a51c41804d37",
   "metadata": {
    "tags": []
   },
   "outputs": [],
   "source": [
    "oldlihtc=pd.read_excel('Data/projects.xlsx', sheet_name='California Mapped Projects') "
   ]
  },
  {
   "cell_type": "code",
   "execution_count": 6,
   "id": "fdf17f0f-23e6-49f2-a9b6-3174b5b38e71",
   "metadata": {
    "tags": []
   },
   "outputs": [],
   "source": [
    "# Define a custom function to modify the values\n",
    "def modify_value(value):\n",
    "    if isinstance(value, str):\n",
    "        parts = value.split('-')\n",
    "        if len(parts) == 3:\n",
    "            return parts[1][2:] + '-' + parts[2]\n",
    "    return value\n"
   ]
  },
  {
   "cell_type": "code",
   "execution_count": 7,
   "id": "a4fade71-f5f6-4871-8d70-448c7517c39a",
   "metadata": {
    "tags": []
   },
   "outputs": [],
   "source": [
    "\n",
    "# Apply the custom function to the column\n",
    "oldlihtc['Application Number'] = oldlihtc['Application Number'].apply(modify_value)\n"
   ]
  },
  {
   "cell_type": "code",
   "execution_count": 8,
   "id": "0c5f8353-6655-4699-934d-f4fc0680eeb3",
   "metadata": {
    "tags": []
   },
   "outputs": [],
   "source": [
    "oldlihtc['Application Number'] = oldlihtc['Application Number'].str[0:]"
   ]
  },
  {
   "cell_type": "code",
   "execution_count": 9,
   "id": "5722c2f1-41b9-4d28-a00b-320c7f878981",
   "metadata": {
    "tags": []
   },
   "outputs": [],
   "source": [
    "infocols=['Application Number',\n",
    " 'Type of tax credit funding',\n",
    " 'Construction Type',\n",
    " 'Developer',\n",
    " 'Housing Type',\n",
    " 'Project Address',\n",
    " 'Project Name',\n",
    " 'Project City',\n",
    " 'Project Zip Code',\n",
    " 'Project County',\n",
    " 'Census Tract',\n",
    " \"Assessor's Parcel Number (APN)\",\n",
    " 'Placed in Service (PIS) Date ',\n",
    " 'Total Units',\n",
    " 'Low Income Units',\n",
    " 'Number of SRO/Studio Units',\n",
    " 'Number of 1 Bedroom Units',\n",
    " 'Number of 2 Bedroom Units',\n",
    " 'Number of 3 Bedroom Units',\n",
    " 'Number of 4 Bedroom Units',\n",
    " 'Number of 5 Bedroom Units',\n",
    " 'Number of 6 Bedroom Units',\n",
    " 'Units at or below 20% AMI',\n",
    " 'Units at or below 30% AMI',\n",
    " 'Units at 35% AMI',\n",
    " 'Units at 40% AMI',\n",
    " 'Units at 45% AMI',\n",
    " 'Units at 50% AMI',\n",
    " 'Units at 55% AMI',\n",
    " 'Units at 60% AMI',\n",
    " 'Units at 70% AMI',\n",
    " 'Units at 80% AMI',\n",
    " 'Annual Federal Award',\n",
    " 'Total State Award']"
   ]
  },
  {
   "cell_type": "code",
   "execution_count": 10,
   "id": "fa4b158f-3efc-4d13-9dc0-b3f269a41459",
   "metadata": {
    "tags": []
   },
   "outputs": [],
   "source": [
    "lihtcinfo = oldlihtc[infocols].copy()"
   ]
  },
  {
   "cell_type": "code",
   "execution_count": 11,
   "id": "be5282ab-3838-4bb2-8e6c-6115ebc5da7a",
   "metadata": {
    "tags": []
   },
   "outputs": [],
   "source": [
    "lihtcinfo['FirstTwoDigits'] = lihtcinfo['Application Number'].str[:2].astype(int)\n",
    "# Create a copy of the DataFrame based on the condition (first two numbers greater than 18)\n",
    "filtered_df = lihtcinfo[(lihtcinfo['FirstTwoDigits'] >= 19) & (lihtcinfo['FirstTwoDigits'] <= 23)].copy()\n",
    "\n",
    "# Drop the helper column 'FirstTwoDigits' if needed\n",
    "lihtcinfo1 = filtered_df.drop('FirstTwoDigits', axis=1)"
   ]
  },
  {
   "cell_type": "code",
   "execution_count": 13,
   "id": "c3cea019-0207-4221-b830-0b362aae10e0",
   "metadata": {
    "tags": []
   },
   "outputs": [],
   "source": [
    "lihtcinfo1['Application Number'] = lihtcinfo1['Application Number'].str.strip()"
   ]
  },
  {
   "cell_type": "markdown",
   "id": "53a17954-b8b1-4a44-aef1-d8a1f3b459c8",
   "metadata": {},
   "source": [
    "# Final Nine Percent"
   ]
  },
  {
   "cell_type": "code",
   "execution_count": 24,
   "id": "b6eaa210-d0c4-4daa-83f6-dd432a7ec4ed",
   "metadata": {
    "tags": []
   },
   "outputs": [],
   "source": [
    "cdlac9 = lihtcinfo1[\n",
    "    (lihtcinfo1['Type of tax credit funding'] == '.09') |\n",
    "    (lihtcinfo1['Type of tax credit funding'] == 0.09) |\n",
    "    (lihtcinfo1['Type of tax credit funding'] == '9 %')\n",
    "].copy()"
   ]
  },
  {
   "cell_type": "code",
   "execution_count": 35,
   "id": "d4d8e660-c41e-4486-9498-bc6d70e8fe23",
   "metadata": {
    "tags": []
   },
   "outputs": [],
   "source": [
    "cdlac9 = cdlac9[~cdlac9['Application Number'].str.startswith('19-')]"
   ]
  },
  {
   "cell_type": "code",
   "execution_count": 25,
   "id": "3d33de82-629d-498c-8e63-5d7750406ab7",
   "metadata": {
    "tags": []
   },
   "outputs": [],
   "source": [
    "combined9per=pd.concat([cdlac9,allnineperfinal],ignore_index=False)\n",
    "combined9per.drop(combined9per.columns[combined9per.columns.str.contains('unnamed',case = False)],axis = 1, inplace = True)"
   ]
  },
  {
   "cell_type": "code",
   "execution_count": 41,
   "id": "41a4fd1f-fbff-4707-b565-15bae4d4467c",
   "metadata": {
    "tags": []
   },
   "outputs": [],
   "source": [
    "# Assuming 'application_number' is the column with application numbers in both dataframes\n",
    "combined9per = pd.merge(cdlac9,allnineperfinal, on='Application Number', how='left')\n",
    "\n",
    "# Drop any columns with 'Unnamed' in the column name\n",
    "combined9per = combined9per.loc[:, ~combined9per.columns.str.contains('^Unnamed')]\n",
    "\n",
    "# If needed, reset the index\n",
    "combined9per.reset_index(drop=True, inplace=True)"
   ]
  },
  {
   "cell_type": "code",
   "execution_count": 42,
   "id": "3c8f685b-a057-4900-bb32-753e19380e8c",
   "metadata": {
    "tags": []
   },
   "outputs": [
    {
     "name": "stdout",
     "output_type": "stream",
     "text": [
      "Duplicate Values:\n",
      "105    20-914\n",
      "106    20-914\n",
      "Name: Application Number, dtype: object\n",
      "\n",
      "Counts:\n",
      "20-914    2\n",
      "Name: Application Number, dtype: int64\n"
     ]
    }
   ],
   "source": [
    "duplicates = combined9per.duplicated(subset='Application Number', keep=False)\n",
    "duplicated_values = combined9per[duplicates]['Application Number']\n",
    "\n",
    "# Print the duplicated values and their counts\n",
    "print(\"Duplicate Values:\")\n",
    "print(duplicated_values)\n",
    "\n",
    "print(\"\\nCounts:\")\n",
    "print(duplicated_values.value_counts())"
   ]
  },
  {
   "cell_type": "code",
   "execution_count": 43,
   "id": "f5720ef3-19c4-4522-9bbe-db1341b6ee0c",
   "metadata": {
    "tags": []
   },
   "outputs": [
    {
     "name": "stdout",
     "output_type": "stream",
     "text": [
      "<class 'pandas.core.frame.DataFrame'>\n",
      "RangeIndex: 302 entries, 0 to 301\n",
      "Data columns (total 41 columns):\n",
      " #   Column                          Non-Null Count  Dtype         \n",
      "---  ------                          --------------  -----         \n",
      " 0   Application Number              302 non-null    object        \n",
      " 1   Type of tax credit funding      302 non-null    object        \n",
      " 2   Construction Type               302 non-null    object        \n",
      " 3   Developer                       302 non-null    object        \n",
      " 4   Housing Type                    301 non-null    object        \n",
      " 5   Project Address                 302 non-null    object        \n",
      " 6   Project Name                    302 non-null    object        \n",
      " 7   Project City                    302 non-null    object        \n",
      " 8   Project Zip Code                302 non-null    object        \n",
      " 9   Project County                  302 non-null    object        \n",
      " 10  Census Tract                    300 non-null    object        \n",
      " 11  Assessor's Parcel Number (APN)  296 non-null    object        \n",
      " 12  Placed in Service (PIS) Date    287 non-null    datetime64[ns]\n",
      " 13  Total Units_x                   302 non-null    float64       \n",
      " 14  Low Income Units                302 non-null    float64       \n",
      " 15  Number of SRO/Studio Units      302 non-null    float64       \n",
      " 16  Number of 1 Bedroom Units       302 non-null    float64       \n",
      " 17  Number of 2 Bedroom Units       302 non-null    float64       \n",
      " 18  Number of 3 Bedroom Units       302 non-null    float64       \n",
      " 19  Number of 4 Bedroom Units       302 non-null    float64       \n",
      " 20  Number of 5 Bedroom Units       302 non-null    float64       \n",
      " 21  Number of 6 Bedroom Units       302 non-null    float64       \n",
      " 22  Units at or below 20% AMI       204 non-null    float64       \n",
      " 23  Units at or below 30% AMI       302 non-null    float64       \n",
      " 24  Units at 35% AMI                302 non-null    float64       \n",
      " 25  Units at 40% AMI                302 non-null    float64       \n",
      " 26  Units at 45% AMI                302 non-null    float64       \n",
      " 27  Units at 50% AMI                302 non-null    float64       \n",
      " 28  Units at 55% AMI                302 non-null    float64       \n",
      " 29  Units at 60% AMI                302 non-null    float64       \n",
      " 30  Units at 70% AMI                199 non-null    float64       \n",
      " 31  Units at 80% AMI                206 non-null    float64       \n",
      " 32  Annual Federal Award            302 non-null    object        \n",
      " 33  Total State Award               88 non-null     float64       \n",
      " 34  Cost Per Unit                   213 non-null    float64       \n",
      " 35  Eligible Basis                  187 non-null    float64       \n",
      " 36  Land Cost                       217 non-null    float64       \n",
      " 37  Construction Cost               217 non-null    float64       \n",
      " 38  Total Cost                      217 non-null    float64       \n",
      " 39  Total Units_y                   139 non-null    float64       \n",
      " 40  Type                            217 non-null    object        \n",
      "dtypes: datetime64[ns](1), float64(26), object(14)\n",
      "memory usage: 96.9+ KB\n"
     ]
    }
   ],
   "source": [
    "combined9per.info()"
   ]
  },
  {
   "cell_type": "code",
   "execution_count": 149,
   "id": "2fe5c60d-7dd7-47a6-801b-677f2b149cc7",
   "metadata": {
    "tags": []
   },
   "outputs": [
    {
     "data": {
      "text/html": [
       "<div>\n",
       "<style scoped>\n",
       "    .dataframe tbody tr th:only-of-type {\n",
       "        vertical-align: middle;\n",
       "    }\n",
       "\n",
       "    .dataframe tbody tr th {\n",
       "        vertical-align: top;\n",
       "    }\n",
       "\n",
       "    .dataframe thead th {\n",
       "        text-align: right;\n",
       "    }\n",
       "</style>\n",
       "<table border=\"1\" class=\"dataframe\">\n",
       "  <thead>\n",
       "    <tr style=\"text-align: right;\">\n",
       "      <th></th>\n",
       "      <th>Application Number</th>\n",
       "      <th>Cost Per Unit</th>\n",
       "      <th>Eligible Basis</th>\n",
       "      <th>Land Cost</th>\n",
       "      <th>Construction Cost</th>\n",
       "      <th>Total Cost</th>\n",
       "      <th>Total Units_x</th>\n",
       "      <th>Type</th>\n",
       "      <th>Type of tax credit funding</th>\n",
       "      <th>Construction Type</th>\n",
       "      <th>...</th>\n",
       "      <th>Units at 35% AMI</th>\n",
       "      <th>Units at 40% AMI</th>\n",
       "      <th>Units at 45% AMI</th>\n",
       "      <th>Units at 50% AMI</th>\n",
       "      <th>Units at 55% AMI</th>\n",
       "      <th>Units at 60% AMI</th>\n",
       "      <th>Units at 70% AMI</th>\n",
       "      <th>Units at 80% AMI</th>\n",
       "      <th>Annual Federal Award</th>\n",
       "      <th>Total State Award</th>\n",
       "    </tr>\n",
       "  </thead>\n",
       "  <tbody>\n",
       "    <tr>\n",
       "      <th>459</th>\n",
       "      <td>21-173</td>\n",
       "      <td>345940.493827</td>\n",
       "      <td>328689.308642</td>\n",
       "      <td>387541.0</td>\n",
       "      <td>20110531.0</td>\n",
       "      <td>28021180.0</td>\n",
       "      <td>81.0</td>\n",
       "      <td>9%</td>\n",
       "      <td>9 %</td>\n",
       "      <td>New Construction</td>\n",
       "      <td>...</td>\n",
       "      <td>0.0</td>\n",
       "      <td>14.0</td>\n",
       "      <td>0.0</td>\n",
       "      <td>21.0</td>\n",
       "      <td>0.0</td>\n",
       "      <td>16.0</td>\n",
       "      <td>0.0</td>\n",
       "      <td>0.0</td>\n",
       "      <td>2500000</td>\n",
       "      <td>NaN</td>\n",
       "    </tr>\n",
       "  </tbody>\n",
       "</table>\n",
       "<p>1 rows × 41 columns</p>\n",
       "</div>"
      ],
      "text/plain": [
       "    Application Number  Cost Per Unit  Eligible Basis  Land Cost  \\\n",
       "459             21-173  345940.493827   328689.308642   387541.0   \n",
       "\n",
       "     Construction Cost  Total Cost  Total Units_x Type  \\\n",
       "459         20110531.0  28021180.0           81.0   9%   \n",
       "\n",
       "    Type of tax credit funding Construction Type  ... Units at 35% AMI  \\\n",
       "459                        9 %  New Construction  ...              0.0   \n",
       "\n",
       "    Units at 40% AMI Units at 45% AMI Units at 50% AMI Units at 55% AMI  \\\n",
       "459             14.0              0.0             21.0              0.0   \n",
       "\n",
       "    Units at 60% AMI Units at 70% AMI Units at 80% AMI Annual Federal Award  \\\n",
       "459             16.0              0.0              0.0              2500000   \n",
       "\n",
       "    Total State Award  \n",
       "459               NaN  \n",
       "\n",
       "[1 rows x 41 columns]"
      ]
     },
     "execution_count": 149,
     "metadata": {},
     "output_type": "execute_result"
    }
   ],
   "source": [
    "test = combined9per[combined9per['Application Number'] == '21-173'].copy()\n",
    "test"
   ]
  },
  {
   "cell_type": "markdown",
   "id": "b271193a-567a-4b93-a72b-cbe77982cbaf",
   "metadata": {},
   "source": [
    "# Final Four Percent"
   ]
  },
  {
   "cell_type": "code",
   "execution_count": 340,
   "id": "abc770b7-8bd8-45a6-8e00-778410d68584",
   "metadata": {
    "tags": []
   },
   "outputs": [],
   "source": [
    "cdlac4 = lihtcinfo1[\n",
    "    (lihtcinfo1['Type of tax credit funding'] == '.04') |\n",
    "    (lihtcinfo1['Type of tax credit funding'] == 0.04) |\n",
    "    (lihtcinfo1['Type of tax credit funding'] == '4 %') |\n",
    "    (lihtcinfo1['Type of tax credit funding'] == '4%')\n",
    "].copy()"
   ]
  },
  {
   "cell_type": "code",
   "execution_count": 353,
   "id": "1e427647-a7d1-4232-89c2-3562892452f1",
   "metadata": {
    "tags": []
   },
   "outputs": [],
   "source": [
    "combined4per=pd.concat([cdlac4,allfourperfinal],ignore_index=False)\n",
    "combined4per.drop(combined4per.columns[combined4per.columns.str.contains('unnamed',case = False)],axis = 1, inplace = True)\n",
    "combined4per = combined4per[combined4per['Type'] != '9%']"
   ]
  },
  {
   "cell_type": "code",
   "execution_count": 355,
   "id": "5169f7d5-e5aa-4235-926e-5be050531744",
   "metadata": {
    "tags": []
   },
   "outputs": [
    {
     "name": "stdout",
     "output_type": "stream",
     "text": [
      "Duplicate Values:\n",
      "5084    20-402\n",
      "5085    20-406\n",
      "5086    20-408\n",
      "5087    20-409\n",
      "5088    20-410\n",
      "         ...  \n",
      "314     20-900\n",
      "315     20-901\n",
      "316     20-902\n",
      "317     20-903\n",
      "318     20-904\n",
      "Name: Application Number, Length: 1024, dtype: object\n",
      "\n",
      "Counts:\n",
      "20-402    2\n",
      "20-406    2\n",
      "22-444    2\n",
      "22-442    2\n",
      "22-439    2\n",
      "         ..\n",
      "20-733    2\n",
      "20-731    2\n",
      "20-730    2\n",
      "20-729    2\n",
      "23-575    2\n",
      "Name: Application Number, Length: 512, dtype: int64\n"
     ]
    }
   ],
   "source": [
    "duplicates = combined4per.duplicated(subset='Application Number', keep=False)\n",
    "duplicated_values = combined4per[duplicates]['Application Number']\n",
    "\n",
    "# Print the duplicated values and their counts\n",
    "print(\"Duplicate Values:\")\n",
    "print(duplicated_values)\n",
    "\n",
    "print(\"\\nCounts:\")\n",
    "print(duplicated_values.value_counts())"
   ]
  },
  {
   "cell_type": "code",
   "execution_count": 363,
   "id": "bddd1aa0-c3ba-4bf1-a3e0-8e0605bb7d8b",
   "metadata": {
    "tags": []
   },
   "outputs": [
    {
     "name": "stderr",
     "output_type": "stream",
     "text": [
      "C:\\Users\\thech\\AppData\\Local\\Temp\\ipykernel_8180\\4055294701.py:1: FutureWarning: Not prepending group keys to the result index of transform-like apply. In the future, the group keys will be included in the index, regardless of whether the applied function returns a like-indexed object.\n",
      "To preserve the previous behavior, use\n",
      "\n",
      "\t>>> .groupby(..., group_keys=False)\n",
      "\n",
      "To adopt the future behavior and silence this warning, use \n",
      "\n",
      "\t>>> .groupby(..., group_keys=True)\n",
      "  combined4per2 = combined4per.groupby('Application Number').apply(lambda group: group.ffill().bfill())\n"
     ]
    }
   ],
   "source": [
    "combined4per2 = combined4per.groupby('Application Number').apply(lambda group: group.ffill().bfill())"
   ]
  },
  {
   "cell_type": "markdown",
   "id": "e2d1e930-ff25-430a-9493-d2e7e9c05b50",
   "metadata": {},
   "source": [
    "# To Do"
   ]
  },
  {
   "cell_type": "code",
   "execution_count": null,
   "id": "25979b81-a8b2-407a-b2b7-5eb279de096b",
   "metadata": {},
   "outputs": [],
   "source": [
    "# drop 2019 applications \n",
    "#add addres\n",
    "# add # of Units \n"
   ]
  },
  {
   "cell_type": "code",
   "execution_count": 591,
   "id": "26eb064f-1615-40ee-b0af-0a6a42258d50",
   "metadata": {
    "tags": []
   },
   "outputs": [],
   "source": [
    "combined4per2['Year']='20'+newconstruction['Application Number'].str[:2]"
   ]
  },
  {
   "cell_type": "code",
   "execution_count": 3,
   "id": "db4e2878-3318-4b9e-9325-7cbeeac9d1a3",
   "metadata": {
    "tags": []
   },
   "outputs": [
    {
     "ename": "NameError",
     "evalue": "name 'combined4per2' is not defined",
     "output_type": "error",
     "traceback": [
      "\u001b[1;31m---------------------------------------------------------------------------\u001b[0m",
      "\u001b[1;31mNameError\u001b[0m                                 Traceback (most recent call last)",
      "Cell \u001b[1;32mIn[3], line 1\u001b[0m\n\u001b[1;32m----> 1\u001b[0m \u001b[43mcombined4per2\u001b[49m\u001b[38;5;241m.\u001b[39mto_csv(\u001b[38;5;124m'\u001b[39m\u001b[38;5;124m4\u001b[39m\u001b[38;5;124m%\u001b[39m\u001b[38;5;124mApplications.csv\u001b[39m\u001b[38;5;124m'\u001b[39m)\n",
      "\u001b[1;31mNameError\u001b[0m: name 'combined4per2' is not defined"
     ]
    }
   ],
   "source": [
    "combined4per2.to_csv('4%Applications.csv')"
   ]
  },
  {
   "cell_type": "markdown",
   "id": "81f88440-f686-4577-82e1-7804431c3977",
   "metadata": {},
   "source": [
    " # Analysis"
   ]
  },
  {
   "cell_type": "code",
   "execution_count": 20,
   "id": "560b8ab1-6517-4f27-a62b-857cb4de29ea",
   "metadata": {
    "tags": []
   },
   "outputs": [],
   "source": [
    "lihtcall=pd.read_csv('CDLACApplications.csv')"
   ]
  },
  {
   "cell_type": "code",
   "execution_count": 21,
   "id": "ac39b1c7-f99d-4b40-ba98-1b670728f136",
   "metadata": {
    "tags": []
   },
   "outputs": [],
   "source": [
    "fourper=pd.read_csv('cdlac4per.csv')"
   ]
  },
  {
   "cell_type": "code",
   "execution_count": 5,
   "id": "cd412fca-2dc2-448f-8b6c-e4ef1bbd4281",
   "metadata": {
    "tags": []
   },
   "outputs": [
    {
     "name": "stdout",
     "output_type": "stream",
     "text": [
      "Requirement already satisfied: xlrd in c:\\users\\thech\\anaconda3\\envs\\uds\\lib\\site-packages (2.0.1)\n",
      "Note: you may need to restart the kernel to use updated packages.\n"
     ]
    }
   ],
   "source": [
    "pip install xlrd"
   ]
  },
  {
   "cell_type": "code",
   "execution_count": 6,
   "id": "151c377d-7543-43ef-9011-f4a354f6fbd2",
   "metadata": {
    "tags": []
   },
   "outputs": [],
   "source": [
    "import xlrd"
   ]
  },
  {
   "cell_type": "markdown",
   "id": "308f38e0-37a0-43d0-9268-c2d2520178ec",
   "metadata": {},
   "source": [
    "## Import winning 4 percent application numbers"
   ]
  },
  {
   "cell_type": "code",
   "execution_count": 7,
   "id": "b2a17b78-9390-4ec7-b8fa-cfe849fe6399",
   "metadata": {
    "tags": []
   },
   "outputs": [],
   "source": [
    "fouperwins20r1=pd.read_excel('2020-1st-Round-State-Credit-Applicant-and-Award-List.xls')\n",
    "fouperwins20r2=pd.read_excel('2020-2nd-Round-State-Credit-Applicant-and-Award-List.xlsx')\n",
    "fouperwins20r3=pd.read_excel('2020-cycle-4-december-applicant-list.xlsx')\n",
    "fouperwins21r1=pd.read_excel('2021-Cycle-1-Awards.xlsx')\n",
    "fouperwins21r2=pd.read_excel('2021-Cycle-2-Applicant-List 9-8-21-with-Award.xlsx')\n",
    "fouperwins21r3=pd.read_excel('2021-round-3-award-list.xlsx')\n",
    "fouperwins22r1=pd.read_excel('4Per22R1.xlsx')\n",
    "fouperwins22r2=pd.read_excel('4per22r1 (2).xlsx')\n",
    "fouperwins23r1=pd.read_csv('4Perf23R1.csv')\n",
    "fouperwins23r2=pd.read_csv('4Per23R2.csv',low_memory=False)"
   ]
  },
  {
   "cell_type": "code",
   "execution_count": 8,
   "id": "901f23e8-6ba3-418b-a59b-3a5530ed3e2e",
   "metadata": {
    "tags": []
   },
   "outputs": [],
   "source": [
    "fourperwins20=pd.concat([fouperwins20r1,\n",
    "fouperwins20r2,\n",
    "fouperwins20r3])"
   ]
  },
  {
   "cell_type": "code",
   "execution_count": 9,
   "id": "c9e6f330-49ce-4351-8d40-122600b597dc",
   "metadata": {
    "tags": []
   },
   "outputs": [],
   "source": [
    "fourperwins21=pd.concat([fouperwins21r1,\n",
    "fouperwins21r2,\n",
    "fouperwins21r3])\n"
   ]
  },
  {
   "cell_type": "code",
   "execution_count": 10,
   "id": "2184faa9-7c5d-4cac-a0ea-0880ab9226f5",
   "metadata": {
    "tags": []
   },
   "outputs": [],
   "source": [
    "fourperwins22=pd.concat([fouperwins22r1,\n",
    "fouperwins22r2])"
   ]
  },
  {
   "cell_type": "code",
   "execution_count": 11,
   "id": "e7ec5ba1-5617-45b9-be02-222b90eb8771",
   "metadata": {
    "tags": []
   },
   "outputs": [],
   "source": [
    "fourperwins23=pd.concat([fouperwins23r1,\n",
    "fouperwins23r2])"
   ]
  },
  {
   "cell_type": "code",
   "execution_count": 12,
   "id": "d484182e-0644-4ec8-8c5f-57fb03fe4655",
   "metadata": {
    "tags": []
   },
   "outputs": [],
   "source": [
    "fourperwins20=fourperwins20.rename(columns={'TCAC NUMBER':'APPLICATION NUMBER'})"
   ]
  },
  {
   "cell_type": "code",
   "execution_count": 13,
   "id": "a20fc242-f377-4e9b-8b37-5b9f8359c428",
   "metadata": {
    "tags": []
   },
   "outputs": [],
   "source": [
    "fourperwins=pd.concat([\n",
    "fourperwins20,fourperwins21,fourperwins22,fourperwins23\n",
    "])"
   ]
  },
  {
   "cell_type": "code",
   "execution_count": 14,
   "id": "c2b29012-0e66-4f1a-8dea-0957a70faf1d",
   "metadata": {
    "tags": []
   },
   "outputs": [],
   "source": [
    "fourperwins['APPLICATION NUMBER']= fourperwins['APPLICATION NUMBER'].str.extract(r'(\\d+-\\d+)')"
   ]
  },
  {
   "cell_type": "code",
   "execution_count": 15,
   "id": "a0a1034b-fcee-45ce-ab4e-0a58fb08bdca",
   "metadata": {
    "tags": []
   },
   "outputs": [],
   "source": [
    "listofwins=fourperwins['APPLICATION NUMBER'].to_list()"
   ]
  },
  {
   "cell_type": "code",
   "execution_count": 16,
   "id": "b321c69c-b978-4791-961d-8a4389d46e54",
   "metadata": {
    "tags": []
   },
   "outputs": [],
   "source": [
    "fourper=fourper[fourper['Application Number'].isin(listofwins)]"
   ]
  },
  {
   "cell_type": "code",
   "execution_count": 23,
   "id": "134db0f4-75d0-422d-949b-d13a2703bb8d",
   "metadata": {
    "tags": []
   },
   "outputs": [
    {
     "data": {
      "text/html": [
       "<div>\n",
       "<style scoped>\n",
       "    .dataframe tbody tr th:only-of-type {\n",
       "        vertical-align: middle;\n",
       "    }\n",
       "\n",
       "    .dataframe tbody tr th {\n",
       "        vertical-align: top;\n",
       "    }\n",
       "\n",
       "    .dataframe thead th {\n",
       "        text-align: right;\n",
       "    }\n",
       "</style>\n",
       "<table border=\"1\" class=\"dataframe\">\n",
       "  <thead>\n",
       "    <tr style=\"text-align: right;\">\n",
       "      <th></th>\n",
       "      <th>Unnamed: 0</th>\n",
       "      <th>Application Number</th>\n",
       "      <th>Cost Per Unit</th>\n",
       "      <th>Eligible Basis</th>\n",
       "      <th>Land Cost</th>\n",
       "      <th>Construction Cost</th>\n",
       "      <th>Total Cost</th>\n",
       "      <th>Prevailing Wage</th>\n",
       "      <th>MIP</th>\n",
       "      <th>Recycled Bonds</th>\n",
       "      <th>Type</th>\n",
       "      <th>Total Units</th>\n",
       "      <th>City</th>\n",
       "      <th>County</th>\n",
       "      <th>Year</th>\n",
       "    </tr>\n",
       "  </thead>\n",
       "  <tbody>\n",
       "    <tr>\n",
       "      <th>0</th>\n",
       "      <td>0</td>\n",
       "      <td>21-400</td>\n",
       "      <td>418724.128571</td>\n",
       "      <td>392901.485714</td>\n",
       "      <td>2300000.0</td>\n",
       "      <td>0.0</td>\n",
       "      <td>5.862138e+07</td>\n",
       "      <td>0.0</td>\n",
       "      <td>NaN</td>\n",
       "      <td>NaN</td>\n",
       "      <td>4%</td>\n",
       "      <td>140.0</td>\n",
       "      <td>San Diego</td>\n",
       "      <td>San Diego</td>\n",
       "      <td>2021</td>\n",
       "    </tr>\n",
       "    <tr>\n",
       "      <th>1</th>\n",
       "      <td>1</td>\n",
       "      <td>21-419</td>\n",
       "      <td>533668.316667</td>\n",
       "      <td>463452.966667</td>\n",
       "      <td>3000000.0</td>\n",
       "      <td>19939653.0</td>\n",
       "      <td>3.202010e+07</td>\n",
       "      <td>1039210.0</td>\n",
       "      <td>NaN</td>\n",
       "      <td>NaN</td>\n",
       "      <td>4%</td>\n",
       "      <td>60.0</td>\n",
       "      <td>San Diego</td>\n",
       "      <td>San Diego</td>\n",
       "      <td>2021</td>\n",
       "    </tr>\n",
       "    <tr>\n",
       "      <th>2</th>\n",
       "      <td>2</td>\n",
       "      <td>21-420</td>\n",
       "      <td>458043.102041</td>\n",
       "      <td>425403.693878</td>\n",
       "      <td>602000.0</td>\n",
       "      <td>15096000.0</td>\n",
       "      <td>2.244411e+07</td>\n",
       "      <td>778946.0</td>\n",
       "      <td>NaN</td>\n",
       "      <td>NaN</td>\n",
       "      <td>4%</td>\n",
       "      <td>49.0</td>\n",
       "      <td>Redding</td>\n",
       "      <td>Shasta</td>\n",
       "      <td>2021</td>\n",
       "    </tr>\n",
       "    <tr>\n",
       "      <th>3</th>\n",
       "      <td>3</td>\n",
       "      <td>21-421</td>\n",
       "      <td>436342.487500</td>\n",
       "      <td>387675.025000</td>\n",
       "      <td>3000000.0</td>\n",
       "      <td>44507025.0</td>\n",
       "      <td>6.981480e+07</td>\n",
       "      <td>2154000.0</td>\n",
       "      <td>NaN</td>\n",
       "      <td>Row 931: Recycled Bonds - CSCDA</td>\n",
       "      <td>4%</td>\n",
       "      <td>160.0</td>\n",
       "      <td>Santa Maria</td>\n",
       "      <td>Santa Barbara</td>\n",
       "      <td>2021</td>\n",
       "    </tr>\n",
       "    <tr>\n",
       "      <th>4</th>\n",
       "      <td>4</td>\n",
       "      <td>21-422</td>\n",
       "      <td>394917.583333</td>\n",
       "      <td>256284.416667</td>\n",
       "      <td>600000.0</td>\n",
       "      <td>8752617.0</td>\n",
       "      <td>1.895604e+07</td>\n",
       "      <td>304068.5</td>\n",
       "      <td>NaN</td>\n",
       "      <td>NaN</td>\n",
       "      <td>4%</td>\n",
       "      <td>48.0</td>\n",
       "      <td>Paradise</td>\n",
       "      <td>Butte</td>\n",
       "      <td>2021</td>\n",
       "    </tr>\n",
       "    <tr>\n",
       "      <th>...</th>\n",
       "      <td>...</td>\n",
       "      <td>...</td>\n",
       "      <td>...</td>\n",
       "      <td>...</td>\n",
       "      <td>...</td>\n",
       "      <td>...</td>\n",
       "      <td>...</td>\n",
       "      <td>...</td>\n",
       "      <td>...</td>\n",
       "      <td>...</td>\n",
       "      <td>...</td>\n",
       "      <td>...</td>\n",
       "      <td>...</td>\n",
       "      <td>...</td>\n",
       "      <td>...</td>\n",
       "    </tr>\n",
       "    <tr>\n",
       "      <th>1100</th>\n",
       "      <td>1100</td>\n",
       "      <td>20-901</td>\n",
       "      <td>870368.606061</td>\n",
       "      <td>739111.651515</td>\n",
       "      <td>9633333.0</td>\n",
       "      <td>62358123.0</td>\n",
       "      <td>1.148887e+08</td>\n",
       "      <td>0.0</td>\n",
       "      <td>Row 620: CalHFA - MIP Loan</td>\n",
       "      <td>NaN</td>\n",
       "      <td>4%</td>\n",
       "      <td>132.0</td>\n",
       "      <td>Burlingame</td>\n",
       "      <td>San Mateo</td>\n",
       "      <td>2020</td>\n",
       "    </tr>\n",
       "    <tr>\n",
       "      <th>1101</th>\n",
       "      <td>1101</td>\n",
       "      <td>20-902</td>\n",
       "      <td>387565.057588</td>\n",
       "      <td>331311.170069</td>\n",
       "      <td>14000000.0</td>\n",
       "      <td>83515373.0</td>\n",
       "      <td>1.379732e+08</td>\n",
       "      <td>0.0</td>\n",
       "      <td>Row 619: CalHFA MIP</td>\n",
       "      <td>NaN</td>\n",
       "      <td>4%</td>\n",
       "      <td>356.0</td>\n",
       "      <td>Los Angeles</td>\n",
       "      <td>Los Angeles</td>\n",
       "      <td>2020</td>\n",
       "    </tr>\n",
       "    <tr>\n",
       "      <th>1102</th>\n",
       "      <td>1102</td>\n",
       "      <td>20-903</td>\n",
       "      <td>463354.641509</td>\n",
       "      <td>441944.754717</td>\n",
       "      <td>604311.0</td>\n",
       "      <td>14847670.0</td>\n",
       "      <td>2.455780e+07</td>\n",
       "      <td>0.0</td>\n",
       "      <td>NaN</td>\n",
       "      <td>NaN</td>\n",
       "      <td>4%</td>\n",
       "      <td>53.0</td>\n",
       "      <td>San Diego</td>\n",
       "      <td>San Diego</td>\n",
       "      <td>2020</td>\n",
       "    </tr>\n",
       "    <tr>\n",
       "      <th>1103</th>\n",
       "      <td>1103</td>\n",
       "      <td>20-904</td>\n",
       "      <td>470804.070988</td>\n",
       "      <td>446205.685185</td>\n",
       "      <td>5700000.0</td>\n",
       "      <td>0.0</td>\n",
       "      <td>1.525405e+08</td>\n",
       "      <td>0.0</td>\n",
       "      <td>NaN</td>\n",
       "      <td>NaN</td>\n",
       "      <td>4%</td>\n",
       "      <td>324.0</td>\n",
       "      <td>San Pablo</td>\n",
       "      <td>Contra Costa</td>\n",
       "      <td>2020</td>\n",
       "    </tr>\n",
       "    <tr>\n",
       "      <th>1104</th>\n",
       "      <td>1104</td>\n",
       "      <td>20-915</td>\n",
       "      <td>551090.103448</td>\n",
       "      <td>505518.637931</td>\n",
       "      <td>1460000.0</td>\n",
       "      <td>19931158.0</td>\n",
       "      <td>3.196323e+07</td>\n",
       "      <td>0.0</td>\n",
       "      <td>NaN</td>\n",
       "      <td>NaN</td>\n",
       "      <td>4%</td>\n",
       "      <td>58.0</td>\n",
       "      <td>Bakersfield</td>\n",
       "      <td>Kern</td>\n",
       "      <td>2020</td>\n",
       "    </tr>\n",
       "  </tbody>\n",
       "</table>\n",
       "<p>702 rows × 15 columns</p>\n",
       "</div>"
      ],
      "text/plain": [
       "      Unnamed: 0 Application Number  Cost Per Unit  Eligible Basis  \\\n",
       "0              0             21-400  418724.128571   392901.485714   \n",
       "1              1             21-419  533668.316667   463452.966667   \n",
       "2              2             21-420  458043.102041   425403.693878   \n",
       "3              3             21-421  436342.487500   387675.025000   \n",
       "4              4             21-422  394917.583333   256284.416667   \n",
       "...          ...                ...            ...             ...   \n",
       "1100        1100             20-901  870368.606061   739111.651515   \n",
       "1101        1101             20-902  387565.057588   331311.170069   \n",
       "1102        1102             20-903  463354.641509   441944.754717   \n",
       "1103        1103             20-904  470804.070988   446205.685185   \n",
       "1104        1104             20-915  551090.103448   505518.637931   \n",
       "\n",
       "       Land Cost  Construction Cost    Total Cost  Prevailing Wage  \\\n",
       "0      2300000.0                0.0  5.862138e+07              0.0   \n",
       "1      3000000.0         19939653.0  3.202010e+07        1039210.0   \n",
       "2       602000.0         15096000.0  2.244411e+07         778946.0   \n",
       "3      3000000.0         44507025.0  6.981480e+07        2154000.0   \n",
       "4       600000.0          8752617.0  1.895604e+07         304068.5   \n",
       "...          ...                ...           ...              ...   \n",
       "1100   9633333.0         62358123.0  1.148887e+08              0.0   \n",
       "1101  14000000.0         83515373.0  1.379732e+08              0.0   \n",
       "1102    604311.0         14847670.0  2.455780e+07              0.0   \n",
       "1103   5700000.0                0.0  1.525405e+08              0.0   \n",
       "1104   1460000.0         19931158.0  3.196323e+07              0.0   \n",
       "\n",
       "                             MIP                   Recycled Bonds Type  \\\n",
       "0                            NaN                              NaN   4%   \n",
       "1                            NaN                              NaN   4%   \n",
       "2                            NaN                              NaN   4%   \n",
       "3                            NaN  Row 931: Recycled Bonds - CSCDA   4%   \n",
       "4                            NaN                              NaN   4%   \n",
       "...                          ...                              ...  ...   \n",
       "1100  Row 620: CalHFA - MIP Loan                              NaN   4%   \n",
       "1101         Row 619: CalHFA MIP                              NaN   4%   \n",
       "1102                         NaN                              NaN   4%   \n",
       "1103                         NaN                              NaN   4%   \n",
       "1104                         NaN                              NaN   4%   \n",
       "\n",
       "      Total Units         City         County  Year  \n",
       "0           140.0    San Diego      San Diego  2021  \n",
       "1            60.0    San Diego      San Diego  2021  \n",
       "2            49.0      Redding         Shasta  2021  \n",
       "3           160.0  Santa Maria  Santa Barbara  2021  \n",
       "4            48.0     Paradise          Butte  2021  \n",
       "...           ...          ...            ...   ...  \n",
       "1100        132.0   Burlingame      San Mateo  2020  \n",
       "1101        356.0  Los Angeles    Los Angeles  2020  \n",
       "1102         53.0    San Diego      San Diego  2020  \n",
       "1103        324.0    San Pablo   Contra Costa  2020  \n",
       "1104         58.0  Bakersfield           Kern  2020  \n",
       "\n",
       "[702 rows x 15 columns]"
      ]
     },
     "execution_count": 23,
     "metadata": {},
     "output_type": "execute_result"
    }
   ],
   "source": [
    "fourper"
   ]
  },
  {
   "cell_type": "markdown",
   "id": "c6a3e94c-487f-48de-8798-16ac98dbdd83",
   "metadata": {},
   "source": [
    "## Analysis"
   ]
  },
  {
   "cell_type": "code",
   "execution_count": 22,
   "id": "7bfcda57-445d-4d81-9095-909fa613e839",
   "metadata": {
    "tags": []
   },
   "outputs": [],
   "source": [
    "newconstruction=(fourper[fourper['Construction Cost'] > 0]).copy()"
   ]
  },
  {
   "cell_type": "code",
   "execution_count": null,
   "id": "6a60f3f3-2976-453a-966b-3c59c213f605",
   "metadata": {},
   "outputs": [],
   "source": []
  },
  {
   "cell_type": "code",
   "execution_count": 18,
   "id": "84a030ae-46aa-41bd-b04e-b13363f33917",
   "metadata": {
    "tags": []
   },
   "outputs": [],
   "source": [
    "newconstruction.to_excel('4%NewConstruction.xlsx')"
   ]
  },
  {
   "cell_type": "code",
   "execution_count": 19,
   "id": "96c083dd-081c-4f2b-92af-c575ba119fe6",
   "metadata": {
    "tags": []
   },
   "outputs": [],
   "source": [
    "newconstructionall=(lihtcall[lihtcall['Construction Cost'] > 0]).copy()"
   ]
  },
  {
   "cell_type": "code",
   "execution_count": 20,
   "id": "64c2aff9-537c-4493-9d1b-891ec85d5910",
   "metadata": {
    "tags": []
   },
   "outputs": [],
   "source": [
    "newconstruction['Year']='20'+newconstruction['Application Number'].str[:2]"
   ]
  },
  {
   "cell_type": "code",
   "execution_count": 21,
   "id": "09875ad6-d551-4975-9a00-e9aa75d535b3",
   "metadata": {
    "tags": []
   },
   "outputs": [],
   "source": [
    "newconstructionall['Year']='20'+newconstructionall['Application Number'].str[:2]"
   ]
  },
  {
   "cell_type": "code",
   "execution_count": 22,
   "id": "600cfdff-10ca-4603-8257-683e6dd4c232",
   "metadata": {
    "tags": []
   },
   "outputs": [],
   "source": [
    "newconstruction.to_excel('FourperNewC.xlsx')"
   ]
  },
  {
   "cell_type": "code",
   "execution_count": 23,
   "id": "23026c56-59d2-4c09-a9e9-b6ccc3546e11",
   "metadata": {
    "tags": []
   },
   "outputs": [],
   "source": [
    "laboranalysis=newconstruction[newconstruction['Prevailing Wage'] > 0].copy()"
   ]
  },
  {
   "cell_type": "code",
   "execution_count": 13,
   "id": "07f6a4e7-c227-4fcd-b9e1-2e4d9cc802fb",
   "metadata": {
    "tags": []
   },
   "outputs": [
    {
     "data": {
      "text/plain": [
       "count    8.800000e+02\n",
       "mean     5.762882e+05\n",
       "std      1.900203e+05\n",
       "min      1.769378e+05\n",
       "25%      4.348811e+05\n",
       "50%      5.502898e+05\n",
       "75%      6.829996e+05\n",
       "max      1.205185e+06\n",
       "Name: Cost Per Unit, dtype: float64"
      ]
     },
     "execution_count": 13,
     "metadata": {},
     "output_type": "execute_result"
    }
   ],
   "source": [
    "newconstruction['Cost Per Unit'].describe()"
   ]
  },
  {
   "cell_type": "code",
   "execution_count": 26,
   "id": "7f498abb-739f-4dc0-954a-78349c782826",
   "metadata": {
    "tags": []
   },
   "outputs": [
    {
     "data": {
      "text/plain": [
       "176937.8"
      ]
     },
     "execution_count": 26,
     "metadata": {},
     "output_type": "execute_result"
    }
   ],
   "source": [
    "1.769378e+05"
   ]
  },
  {
   "cell_type": "code",
   "execution_count": 27,
   "id": "ad12244b-3f93-415d-a657-3fe9f3681aa9",
   "metadata": {
    "tags": []
   },
   "outputs": [],
   "source": [
    "latotals = newconstruction[(newconstruction['City'] == 'Los Angeles') | (newconstruction['City'] == 'Los Angeles (Chatsworth)')].copy()"
   ]
  },
  {
   "cell_type": "code",
   "execution_count": 30,
   "id": "5f4d4b73-2cfc-4972-807d-63f13028b742",
   "metadata": {
    "tags": []
   },
   "outputs": [],
   "source": [
    "la23=latotals[latotals['Year'] == '2023']"
   ]
  },
  {
   "cell_type": "code",
   "execution_count": 31,
   "id": "56a11d4f-c90c-4822-bee9-95d560bcb7fc",
   "metadata": {
    "tags": []
   },
   "outputs": [],
   "source": [
    "lihtc2122=newconstructionall[newconstructionall['Year'] == '2023']"
   ]
  },
  {
   "cell_type": "code",
   "execution_count": 32,
   "id": "be9ee510-2626-48af-a0b9-60ab13e2bb23",
   "metadata": {
    "tags": []
   },
   "outputs": [
    {
     "name": "stderr",
     "output_type": "stream",
     "text": [
      "C:\\Users\\thech\\AppData\\Local\\Temp\\ipykernel_13988\\2044171746.py:1: FutureWarning: The default value of numeric_only in DataFrameGroupBy.sum is deprecated. In a future version, numeric_only will default to False. Either specify numeric_only or select only columns which should be valid for the function.\n",
      "  cities2122=lihtc2122.groupby(['County']).sum()\n"
     ]
    }
   ],
   "source": [
    "cities2122=lihtc2122.groupby(['County']).sum()"
   ]
  },
  {
   "cell_type": "code",
   "execution_count": 33,
   "id": "07da8589-e0d2-411c-953b-b546378961b8",
   "metadata": {
    "tags": []
   },
   "outputs": [],
   "source": [
    "cities2122=cities2122.copy()"
   ]
  },
  {
   "cell_type": "code",
   "execution_count": 34,
   "id": "0d4719d4-01a5-4a7c-90a4-d6aef90c31f5",
   "metadata": {
    "tags": []
   },
   "outputs": [
    {
     "data": {
      "text/plain": [
       "21003.0"
      ]
     },
     "execution_count": 34,
     "metadata": {},
     "output_type": "execute_result"
    }
   ],
   "source": [
    "cities2122['Total Units'].sum()"
   ]
  },
  {
   "cell_type": "code",
   "execution_count": 35,
   "id": "7fc3f69e-f8c9-4c03-a82f-9d8c81e10cad",
   "metadata": {
    "tags": []
   },
   "outputs": [],
   "source": [
    "bottom_decile_cities=cities2122['Total Units'].quantile(0.40)"
   ]
  },
  {
   "cell_type": "code",
   "execution_count": 36,
   "id": "9ff48b1e-bc7d-4345-88b4-2cef4df09bd1",
   "metadata": {
    "tags": []
   },
   "outputs": [
    {
     "data": {
      "text/plain": [
       "257.6"
      ]
     },
     "execution_count": 36,
     "metadata": {},
     "output_type": "execute_result"
    }
   ],
   "source": [
    "bottom_decile_cities"
   ]
  },
  {
   "cell_type": "code",
   "execution_count": 37,
   "id": "a4972ac0-1a71-4fcc-ac45-9394b87710b0",
   "metadata": {
    "tags": []
   },
   "outputs": [],
   "source": [
    "cities2122dec=cities2122[cities2122['Total Units'] <= bottom_decile_cities]"
   ]
  },
  {
   "cell_type": "code",
   "execution_count": 38,
   "id": "d9235742-36ab-4756-9152-dbb509880e93",
   "metadata": {
    "tags": []
   },
   "outputs": [],
   "source": [
    "citydrop=[\n",
    " 'Cost Per Unit',\n",
    " 'Eligible Basis/Unit',\n",
    " 'Land Cost',\n",
    " 'Construction Cost',\n",
    " 'Total Cost',\n",
    " 'Total Eligible Basis',\n",
    " 'Prevailing Wage',\n",
    " 'Labor Percentage of Construction',\n",
    " 'Labor Percentage of Total']"
   ]
  },
  {
   "cell_type": "code",
   "execution_count": 39,
   "id": "79ae96bc-31fe-4a12-93a1-c0b336a88c82",
   "metadata": {
    "tags": []
   },
   "outputs": [],
   "source": [
    "cities2122dec= cities2122dec[[\"Total Units\"]]"
   ]
  },
  {
   "cell_type": "code",
   "execution_count": 40,
   "id": "a10a6066-b5e0-4f6e-9d1b-195962309f22",
   "metadata": {
    "tags": []
   },
   "outputs": [],
   "source": [
    "cities2122dec['% of all Units']=cities2122dec['Total Units']/21003"
   ]
  },
  {
   "cell_type": "code",
   "execution_count": 41,
   "id": "8e1ec18e-251b-4bf0-b22d-205baf0f7991",
   "metadata": {
    "tags": []
   },
   "outputs": [
    {
     "data": {
      "text/html": [
       "<div>\n",
       "<style scoped>\n",
       "    .dataframe tbody tr th:only-of-type {\n",
       "        vertical-align: middle;\n",
       "    }\n",
       "\n",
       "    .dataframe tbody tr th {\n",
       "        vertical-align: top;\n",
       "    }\n",
       "\n",
       "    .dataframe thead th {\n",
       "        text-align: right;\n",
       "    }\n",
       "</style>\n",
       "<table border=\"1\" class=\"dataframe\">\n",
       "  <thead>\n",
       "    <tr style=\"text-align: right;\">\n",
       "      <th></th>\n",
       "      <th>Total Units</th>\n",
       "      <th>% of all Units</th>\n",
       "    </tr>\n",
       "    <tr>\n",
       "      <th>County</th>\n",
       "      <th></th>\n",
       "      <th></th>\n",
       "    </tr>\n",
       "  </thead>\n",
       "  <tbody>\n",
       "    <tr>\n",
       "      <th>Colusa</th>\n",
       "      <td>31.0</td>\n",
       "      <td>0.001476</td>\n",
       "    </tr>\n",
       "    <tr>\n",
       "      <th>Del Norte</th>\n",
       "      <td>213.0</td>\n",
       "      <td>0.010141</td>\n",
       "    </tr>\n",
       "    <tr>\n",
       "      <th>El Dorado</th>\n",
       "      <td>72.0</td>\n",
       "      <td>0.003428</td>\n",
       "    </tr>\n",
       "    <tr>\n",
       "      <th>Imperial</th>\n",
       "      <td>224.0</td>\n",
       "      <td>0.010665</td>\n",
       "    </tr>\n",
       "    <tr>\n",
       "      <th>Nevada</th>\n",
       "      <td>55.0</td>\n",
       "      <td>0.002619</td>\n",
       "    </tr>\n",
       "    <tr>\n",
       "      <th>San Joaquin</th>\n",
       "      <td>51.0</td>\n",
       "      <td>0.002428</td>\n",
       "    </tr>\n",
       "    <tr>\n",
       "      <th>San Luis Obispo</th>\n",
       "      <td>124.0</td>\n",
       "      <td>0.005904</td>\n",
       "    </tr>\n",
       "    <tr>\n",
       "      <th>Santa Cruz</th>\n",
       "      <td>200.0</td>\n",
       "      <td>0.009522</td>\n",
       "    </tr>\n",
       "    <tr>\n",
       "      <th>Shasta</th>\n",
       "      <td>49.0</td>\n",
       "      <td>0.002333</td>\n",
       "    </tr>\n",
       "    <tr>\n",
       "      <th>Solano</th>\n",
       "      <td>160.0</td>\n",
       "      <td>0.007618</td>\n",
       "    </tr>\n",
       "    <tr>\n",
       "      <th>Stanislaus</th>\n",
       "      <td>144.0</td>\n",
       "      <td>0.006856</td>\n",
       "    </tr>\n",
       "    <tr>\n",
       "      <th>Yolo</th>\n",
       "      <td>18.0</td>\n",
       "      <td>0.000857</td>\n",
       "    </tr>\n",
       "    <tr>\n",
       "      <th>Yuba</th>\n",
       "      <td>32.0</td>\n",
       "      <td>0.001524</td>\n",
       "    </tr>\n",
       "  </tbody>\n",
       "</table>\n",
       "</div>"
      ],
      "text/plain": [
       "                 Total Units  % of all Units\n",
       "County                                      \n",
       "Colusa                  31.0        0.001476\n",
       "Del Norte              213.0        0.010141\n",
       "El Dorado               72.0        0.003428\n",
       "Imperial               224.0        0.010665\n",
       "Nevada                  55.0        0.002619\n",
       "San Joaquin             51.0        0.002428\n",
       "San Luis Obispo        124.0        0.005904\n",
       "Santa Cruz             200.0        0.009522\n",
       "Shasta                  49.0        0.002333\n",
       "Solano                 160.0        0.007618\n",
       "Stanislaus             144.0        0.006856\n",
       "Yolo                    18.0        0.000857\n",
       "Yuba                    32.0        0.001524"
      ]
     },
     "execution_count": 41,
     "metadata": {},
     "output_type": "execute_result"
    }
   ],
   "source": [
    "cities2122dec"
   ]
  },
  {
   "cell_type": "code",
   "execution_count": 42,
   "id": "d47eeeda-8c55-402c-bf67-9c58e00b8658",
   "metadata": {
    "tags": []
   },
   "outputs": [
    {
     "data": {
      "text/html": [
       "<div>\n",
       "<style scoped>\n",
       "    .dataframe tbody tr th:only-of-type {\n",
       "        vertical-align: middle;\n",
       "    }\n",
       "\n",
       "    .dataframe tbody tr th {\n",
       "        vertical-align: top;\n",
       "    }\n",
       "\n",
       "    .dataframe thead th {\n",
       "        text-align: right;\n",
       "    }\n",
       "</style>\n",
       "<table border=\"1\" class=\"dataframe\">\n",
       "  <thead>\n",
       "    <tr style=\"text-align: right;\">\n",
       "      <th></th>\n",
       "      <th>Unnamed: 0</th>\n",
       "      <th>Application Number</th>\n",
       "      <th>Cost Per Unit</th>\n",
       "      <th>Eligible Basis/Unit</th>\n",
       "      <th>Land Cost</th>\n",
       "      <th>Construction Cost</th>\n",
       "      <th>Total Cost</th>\n",
       "      <th>Type</th>\n",
       "      <th>Total Units</th>\n",
       "      <th>City</th>\n",
       "      <th>County</th>\n",
       "      <th>Total Eligible Basis</th>\n",
       "      <th>Year</th>\n",
       "      <th>Prevailing Wage</th>\n",
       "      <th>MIP</th>\n",
       "      <th>Recycled Bonds</th>\n",
       "      <th>Labor Percentage of Construction</th>\n",
       "      <th>Labor Percentage of Total</th>\n",
       "    </tr>\n",
       "  </thead>\n",
       "  <tbody>\n",
       "    <tr>\n",
       "      <th>952</th>\n",
       "      <td>952</td>\n",
       "      <td>23-001</td>\n",
       "      <td>787499.402985</td>\n",
       "      <td>609221.298507</td>\n",
       "      <td>0.0</td>\n",
       "      <td>34232518.0</td>\n",
       "      <td>5.276246e+07</td>\n",
       "      <td>9%</td>\n",
       "      <td>67.0</td>\n",
       "      <td>Los. Angeles</td>\n",
       "      <td>Los Angeles</td>\n",
       "      <td>4.081783e+07</td>\n",
       "      <td>2023</td>\n",
       "      <td>NaN</td>\n",
       "      <td>NaN</td>\n",
       "      <td>NaN</td>\n",
       "      <td>NaN</td>\n",
       "      <td>NaN</td>\n",
       "    </tr>\n",
       "    <tr>\n",
       "      <th>953</th>\n",
       "      <td>953</td>\n",
       "      <td>23-002</td>\n",
       "      <td>586467.588235</td>\n",
       "      <td>492267.000000</td>\n",
       "      <td>663000.0</td>\n",
       "      <td>10262926.0</td>\n",
       "      <td>2.990985e+07</td>\n",
       "      <td>9%</td>\n",
       "      <td>51.0</td>\n",
       "      <td>Stockton</td>\n",
       "      <td>San Joaquin</td>\n",
       "      <td>2.510562e+07</td>\n",
       "      <td>2023</td>\n",
       "      <td>NaN</td>\n",
       "      <td>NaN</td>\n",
       "      <td>NaN</td>\n",
       "      <td>NaN</td>\n",
       "      <td>NaN</td>\n",
       "    </tr>\n",
       "    <tr>\n",
       "      <th>954</th>\n",
       "      <td>954</td>\n",
       "      <td>23-003</td>\n",
       "      <td>911630.535200</td>\n",
       "      <td>786966.599318</td>\n",
       "      <td>2061601.0</td>\n",
       "      <td>24353154.0</td>\n",
       "      <td>4.102337e+07</td>\n",
       "      <td>9%</td>\n",
       "      <td>45.0</td>\n",
       "      <td>Alameda</td>\n",
       "      <td>Alameda</td>\n",
       "      <td>3.541350e+07</td>\n",
       "      <td>2023</td>\n",
       "      <td>NaN</td>\n",
       "      <td>NaN</td>\n",
       "      <td>NaN</td>\n",
       "      <td>NaN</td>\n",
       "      <td>NaN</td>\n",
       "    </tr>\n",
       "    <tr>\n",
       "      <th>956</th>\n",
       "      <td>956</td>\n",
       "      <td>23-005</td>\n",
       "      <td>820757.250000</td>\n",
       "      <td>678208.908333</td>\n",
       "      <td>4850000.0</td>\n",
       "      <td>22826827.0</td>\n",
       "      <td>3.939635e+07</td>\n",
       "      <td>9%</td>\n",
       "      <td>48.0</td>\n",
       "      <td>West Hollywood</td>\n",
       "      <td>Los Angeles</td>\n",
       "      <td>3.255403e+07</td>\n",
       "      <td>2023</td>\n",
       "      <td>NaN</td>\n",
       "      <td>NaN</td>\n",
       "      <td>NaN</td>\n",
       "      <td>NaN</td>\n",
       "      <td>NaN</td>\n",
       "    </tr>\n",
       "    <tr>\n",
       "      <th>957</th>\n",
       "      <td>957</td>\n",
       "      <td>23-006</td>\n",
       "      <td>870512.580000</td>\n",
       "      <td>671554.100000</td>\n",
       "      <td>6400000.0</td>\n",
       "      <td>24085188.0</td>\n",
       "      <td>4.352563e+07</td>\n",
       "      <td>9%</td>\n",
       "      <td>50.0</td>\n",
       "      <td>West Hollywood</td>\n",
       "      <td>Los Angeles</td>\n",
       "      <td>3.357770e+07</td>\n",
       "      <td>2023</td>\n",
       "      <td>NaN</td>\n",
       "      <td>NaN</td>\n",
       "      <td>NaN</td>\n",
       "      <td>NaN</td>\n",
       "      <td>NaN</td>\n",
       "    </tr>\n",
       "  </tbody>\n",
       "</table>\n",
       "</div>"
      ],
      "text/plain": [
       "     Unnamed: 0 Application Number  Cost Per Unit  Eligible Basis/Unit  \\\n",
       "952         952             23-001  787499.402985        609221.298507   \n",
       "953         953             23-002  586467.588235        492267.000000   \n",
       "954         954             23-003  911630.535200        786966.599318   \n",
       "956         956             23-005  820757.250000        678208.908333   \n",
       "957         957             23-006  870512.580000        671554.100000   \n",
       "\n",
       "     Land Cost  Construction Cost    Total Cost Type  Total Units  \\\n",
       "952        0.0         34232518.0  5.276246e+07   9%         67.0   \n",
       "953   663000.0         10262926.0  2.990985e+07   9%         51.0   \n",
       "954  2061601.0         24353154.0  4.102337e+07   9%         45.0   \n",
       "956  4850000.0         22826827.0  3.939635e+07   9%         48.0   \n",
       "957  6400000.0         24085188.0  4.352563e+07   9%         50.0   \n",
       "\n",
       "               City       County  Total Eligible Basis  Year  Prevailing Wage  \\\n",
       "952    Los. Angeles  Los Angeles          4.081783e+07  2023              NaN   \n",
       "953        Stockton  San Joaquin          2.510562e+07  2023              NaN   \n",
       "954         Alameda      Alameda          3.541350e+07  2023              NaN   \n",
       "956  West Hollywood  Los Angeles          3.255403e+07  2023              NaN   \n",
       "957  West Hollywood  Los Angeles          3.357770e+07  2023              NaN   \n",
       "\n",
       "     MIP Recycled Bonds  Labor Percentage of Construction  \\\n",
       "952  NaN            NaN                               NaN   \n",
       "953  NaN            NaN                               NaN   \n",
       "954  NaN            NaN                               NaN   \n",
       "956  NaN            NaN                               NaN   \n",
       "957  NaN            NaN                               NaN   \n",
       "\n",
       "     Labor Percentage of Total  \n",
       "952                        NaN  \n",
       "953                        NaN  \n",
       "954                        NaN  \n",
       "956                        NaN  \n",
       "957                        NaN  "
      ]
     },
     "execution_count": 42,
     "metadata": {},
     "output_type": "execute_result"
    }
   ],
   "source": [
    "lihtc2122.head()"
   ]
  },
  {
   "cell_type": "code",
   "execution_count": 43,
   "id": "ed7ca7de-02d3-478b-93d6-ae308505107e",
   "metadata": {
    "tags": []
   },
   "outputs": [],
   "source": [
    "laboranalysis['Labor Percentage of Construction']=laboranalysis['Prevailing Wage']/laboranalysis['Construction Cost']\n",
    "laboranalysis['Labor Percentage of Total']=laboranalysis['Prevailing Wage']/laboranalysis['Total Cost']"
   ]
  },
  {
   "cell_type": "code",
   "execution_count": 44,
   "id": "f7de6f37-2010-479a-9f9a-80881299b477",
   "metadata": {
    "tags": []
   },
   "outputs": [
    {
     "data": {
      "text/plain": [
       "0.04311210790902908"
      ]
     },
     "execution_count": 44,
     "metadata": {},
     "output_type": "execute_result"
    }
   ],
   "source": [
    "laboranalysis['Labor Percentage of Construction'].mean()"
   ]
  },
  {
   "cell_type": "code",
   "execution_count": 45,
   "id": "d5c1a7e0-d50d-4a68-a697-7cd637769d4b",
   "metadata": {
    "tags": []
   },
   "outputs": [
    {
     "data": {
      "text/plain": [
       "0.02562256227318832"
      ]
     },
     "execution_count": 45,
     "metadata": {},
     "output_type": "execute_result"
    }
   ],
   "source": [
    "laboranalysis['Labor Percentage of Total'].mean()"
   ]
  },
  {
   "cell_type": "code",
   "execution_count": 46,
   "id": "050b5a53-e535-478b-8008-e0d047555a36",
   "metadata": {
    "tags": []
   },
   "outputs": [
    {
     "data": {
      "text/plain": [
       "count        82.000000\n",
       "mean     611313.562226\n",
       "std      110384.073567\n",
       "min      387565.057588\n",
       "25%      540123.250739\n",
       "50%      603065.550671\n",
       "75%      646957.304409\n",
       "max      986372.559322\n",
       "Name: Cost Per Unit, dtype: float64"
      ]
     },
     "execution_count": 46,
     "metadata": {},
     "output_type": "execute_result"
    }
   ],
   "source": [
    "latotals['Cost Per Unit'].describe()"
   ]
  },
  {
   "cell_type": "code",
   "execution_count": 47,
   "id": "c57ec19f-0783-4b6c-95c4-64e8ff913ea9",
   "metadata": {
    "tags": []
   },
   "outputs": [
    {
     "data": {
      "text/plain": [
       "0.5595238095238095"
      ]
     },
     "execution_count": 47,
     "metadata": {},
     "output_type": "execute_result"
    }
   ],
   "source": [
    "47/84"
   ]
  },
  {
   "cell_type": "code",
   "execution_count": 48,
   "id": "88d27513-76c2-4a7a-a46a-70cc1f6cb301",
   "metadata": {
    "tags": []
   },
   "outputs": [
    {
     "name": "stdout",
     "output_type": "stream",
     "text": [
      "City\n",
      "Alameda                          0.002882\n",
      "Anaheim                          0.002882\n",
      "Atascadero                       0.002882\n",
      "Bakersfield                      0.005764\n",
      "Bay Point (Unincorporated)       0.002882\n",
      "Beaumont                         0.002882\n",
      "Berkeley                         0.005764\n",
      "Berkeley                         0.002882\n",
      "Burbank                          0.002882\n",
      "Burlingame                       0.002882\n",
      "Camarillo                        0.005764\n",
      "Capitola                         0.002882\n",
      "Carlsbad                         0.005764\n",
      "Chula Vista                      0.002882\n",
      "Coalinga                         0.005764\n",
      "Concord                          0.005764\n",
      "Diamond Springs                  0.005764\n",
      "Dixon                            0.002882\n",
      "East Garrison                    0.005764\n",
      "El Centro                        0.002882\n",
      "El Monte                         0.002882\n",
      "Elk Grove                        0.025937\n",
      "Escondido                        0.008646\n",
      "Eureka                           0.002882\n",
      "Fair Oaks                        0.002882\n",
      "Folsom                           0.005764\n",
      "Fremont                          0.008646\n",
      "Fresno                           0.005764\n",
      "Gilroy                           0.002882\n",
      "Glendale                         0.008646\n",
      "Goshen                           0.005764\n",
      "Gridley                          0.002882\n",
      "Hanford                          0.005764\n",
      "Hayward                          0.008646\n",
      "Holtville                        0.002882\n",
      "Huntington Beach                 0.002882\n",
      "Huron                            0.008646\n",
      "Imperial                         0.002882\n",
      "Imperial                         0.005764\n",
      "Imperial                         0.002882\n",
      "Indio                            0.005764\n",
      "Irvine                           0.011527\n",
      "La Mesa                          0.002882\n",
      "Lake Forest                      0.008646\n",
      "Lakre Forest                     0.002882\n",
      "Lindsay                          0.005764\n",
      "Live Oak                         0.002882\n",
      "Livermore                        0.002882\n",
      "Long Beach                       0.014409\n",
      "Los Angeles                      0.126801\n",
      "Los Angeles                      0.005764\n",
      "Los Angeles (Chatsworth)         0.002882\n",
      "Mammoth Lakes                    0.008646\n",
      "Marina                           0.011527\n",
      "Merced                           0.005764\n",
      "Milpitas                         0.002882\n",
      "Moorpark                         0.005764\n",
      "Morgan Hill                      0.005764\n",
      "Morgan Hill                      0.002882\n",
      "Morro Bay                        0.005764\n",
      "Mountain View                    0.002882\n",
      "Murrieta                         0.005764\n",
      "National City                    0.005764\n",
      "North Hills                      0.002882\n",
      "Oakland                          0.031700\n",
      "Oakland                          0.008646\n",
      "Oakley                           0.002882\n",
      "Orange                           0.011527\n",
      "Orland                           0.005764\n",
      "Oxnard                           0.011527\n",
      "Palm Desert                      0.011527\n",
      "Palm Desert                      0.002882\n",
      "Palm Springs                     0.005764\n",
      "Palmdale                         0.008646\n",
      "Panorama City                    0.005764\n",
      "Paradise                         0.002882\n",
      "Pasadena                         0.005764\n",
      "Perris                           0.002882\n",
      "Pinole                           0.002882\n",
      "Pismo Beach                      0.002882\n",
      "Placentia                        0.002882\n",
      "Placerville                      0.005764\n",
      "Plumas Lake                      0.005764\n",
      "Pomona                           0.002882\n",
      "Porterville                      0.002882\n",
      "Quartz Hill                      0.005764\n",
      "Rancho Cordova                   0.002882\n",
      "Redding                          0.005764\n",
      "Redwood City                     0.002882\n",
      "Ridgecrest                       0.002882\n",
      "Riverside                        0.005764\n",
      "Riverside                        0.002882\n",
      "Rocklin                          0.002882\n",
      "Roseville                        0.011527\n",
      "Sacramento                       0.031700\n",
      "San Diego                        0.051873\n",
      "San Diego                        0.002882\n",
      "San Francisco                    0.031700\n",
      "San Francisco                    0.002882\n",
      "San Jose                         0.040346\n",
      "San Leandro                      0.011527\n",
      "San Luis Obispo                  0.002882\n",
      "San Marcos                       0.002882\n",
      "San Mateo                        0.002882\n",
      "San Pablo                        0.008646\n",
      "San Ramon                        0.005764\n",
      "San Ysidro                       0.008646\n",
      "Santa Ana                        0.002882\n",
      "Santa Clara                      0.005764\n",
      "Santa Clara                      0.008646\n",
      "Santa Fe Springs Village         0.002882\n",
      "Santa Maria                      0.008646\n",
      "Santa Monica                     0.002882\n",
      "Santa Rosa                       0.014409\n",
      "Simi Valley                      0.005764\n",
      "Soledad                          0.002882\n",
      "Somis                            0.005764\n",
      "South Lake Tahoe                 0.002882\n",
      "Sunnyvale                        0.002882\n",
      "Temecula                         0.005764\n",
      "Torrance                         0.002882\n",
      "Tulare                           0.002882\n",
      "Unincorporated                   0.011527\n",
      "Unincorporated                   0.005764\n",
      "Unincorporated Los Angeles       0.002882\n",
      "Unincorporated Marin County      0.002882\n",
      "Unincorporated Ventura County    0.002882\n",
      "Vacaville                        0.002882\n",
      "Vallejo                          0.002882\n",
      "Ventura                          0.002882\n",
      "Wasco                            0.002882\n",
      "West Sacramento                  0.002882\n",
      "Wheatland                        0.002882\n",
      "Whittier                         0.002882\n",
      "Windsor                          0.017291\n",
      "unincorporated                   0.002882\n",
      "Name: Application Number, dtype: float64\n"
     ]
    }
   ],
   "source": [
    "city=laboranalysis.groupby('City')\n",
    "city\n",
    "citycounts = city['Application Number'].count()/347\n",
    "\n",
    "pd.set_option('display.max_rows', None)\n",
    "\n",
    "# Display the counts\n",
    "print(citycounts)\n",
    "\n",
    "# Reset display option to default (optional)\n",
    "pd.reset_option('display.max_rows')"
   ]
  },
  {
   "cell_type": "code",
   "execution_count": 49,
   "id": "0bf4511e-5755-41f8-a56d-3ae1be549a8d",
   "metadata": {
    "tags": []
   },
   "outputs": [],
   "source": [
    "lalaboranalysis=laboranalysis[laboranalysis['City'] == 'Los Angeles'].copy()"
   ]
  },
  {
   "cell_type": "code",
   "execution_count": 50,
   "id": "924bd97a-23aa-47e9-9494-0910f863174f",
   "metadata": {
    "tags": []
   },
   "outputs": [
    {
     "data": {
      "text/plain": [
       "0.13544668587896252"
      ]
     },
     "execution_count": 50,
     "metadata": {},
     "output_type": "execute_result"
    }
   ],
   "source": [
    "47/347"
   ]
  },
  {
   "cell_type": "code",
   "execution_count": 51,
   "id": "bf18eb83-00c5-4d42-b880-012996f6e6c9",
   "metadata": {
    "tags": []
   },
   "outputs": [
    {
     "name": "stdout",
     "output_type": "stream",
     "text": [
      "<class 'pandas.core.frame.DataFrame'>\n",
      "Int64Index: 44 entries, 79 to 1089\n",
      "Data columns (total 17 columns):\n",
      " #   Column                            Non-Null Count  Dtype  \n",
      "---  ------                            --------------  -----  \n",
      " 0   Unnamed: 0                        44 non-null     int64  \n",
      " 1   Application Number                44 non-null     object \n",
      " 2   Cost Per Unit                     44 non-null     float64\n",
      " 3   Eligible Basis                    44 non-null     float64\n",
      " 4   Land Cost                         44 non-null     float64\n",
      " 5   Construction Cost                 44 non-null     float64\n",
      " 6   Total Cost                        44 non-null     float64\n",
      " 7   Prevailing Wage                   44 non-null     float64\n",
      " 8   MIP                               0 non-null      object \n",
      " 9   Recycled Bonds                    6 non-null      object \n",
      " 10  Type                              44 non-null     object \n",
      " 11  Total Units                       44 non-null     float64\n",
      " 12  City                              44 non-null     object \n",
      " 13  County                            44 non-null     object \n",
      " 14  Year                              44 non-null     object \n",
      " 15  Labor Percentage of Construction  44 non-null     float64\n",
      " 16  Labor Percentage of Total         44 non-null     float64\n",
      "dtypes: float64(9), int64(1), object(7)\n",
      "memory usage: 6.2+ KB\n"
     ]
    }
   ],
   "source": [
    "lalaboranalysis.info()"
   ]
  },
  {
   "cell_type": "code",
   "execution_count": 78,
   "id": "4e6c0f3c-3aff-46b0-b04b-7a953a7f3a98",
   "metadata": {
    "tags": []
   },
   "outputs": [
    {
     "data": {
      "text/plain": [
       "0.6003460207612457"
      ]
     },
     "execution_count": 78,
     "metadata": {},
     "output_type": "execute_result"
    }
   ],
   "source": [
    "347 /578"
   ]
  },
  {
   "cell_type": "code",
   "execution_count": 72,
   "id": "f8f55477-00e8-4937-a908-c075d696a6b1",
   "metadata": {
    "tags": []
   },
   "outputs": [
    {
     "data": {
      "text/plain": [
       "0.18858131487889274"
      ]
     },
     "execution_count": 72,
     "metadata": {},
     "output_type": "execute_result"
    }
   ],
   "source": [
    "109/578"
   ]
  },
  {
   "cell_type": "code",
   "execution_count": 132,
   "id": "99a36214-e046-431c-86a4-52ef0255b389",
   "metadata": {
    "tags": []
   },
   "outputs": [
    {
     "data": {
      "text/plain": [
       "0.0975609756097561"
      ]
     },
     "execution_count": 132,
     "metadata": {},
     "output_type": "execute_result"
    }
   ],
   "source": [
    "8/82"
   ]
  },
  {
   "cell_type": "code",
   "execution_count": 130,
   "id": "4012ce06-29f9-47a7-ae66-0907e3d588ad",
   "metadata": {
    "tags": []
   },
   "outputs": [
    {
     "name": "stdout",
     "output_type": "stream",
     "text": [
      "<class 'pandas.core.frame.DataFrame'>\n",
      "Int64Index: 82 entries, 79 to 1101\n",
      "Data columns (total 15 columns):\n",
      " #   Column              Non-Null Count  Dtype  \n",
      "---  ------              --------------  -----  \n",
      " 0   Unnamed: 0          82 non-null     int64  \n",
      " 1   Application Number  82 non-null     object \n",
      " 2   Cost Per Unit       82 non-null     float64\n",
      " 3   Eligible Basis      82 non-null     float64\n",
      " 4   Land Cost           82 non-null     float64\n",
      " 5   Construction Cost   82 non-null     float64\n",
      " 6   Total Cost          82 non-null     float64\n",
      " 7   Prevailing Wage     82 non-null     float64\n",
      " 8   MIP                 4 non-null      object \n",
      " 9   Recycled Bonds      8 non-null      object \n",
      " 10  Type                82 non-null     object \n",
      " 11  Total Units         82 non-null     float64\n",
      " 12  City                82 non-null     object \n",
      " 13  County              82 non-null     object \n",
      " 14  Year                82 non-null     object \n",
      "dtypes: float64(7), int64(1), object(7)\n",
      "memory usage: 10.2+ KB\n"
     ]
    }
   ],
   "source": [
    "latotals.info()"
   ]
  },
  {
   "cell_type": "code",
   "execution_count": 68,
   "id": "9d3b66d0-daea-42f9-bf94-4e1831135af0",
   "metadata": {
    "tags": []
   },
   "outputs": [],
   "source": [
    "g=newconstruction[(newconstruction['MIP'].notnull()) | (newconstruction['Recycled Bonds'].notnull())]\n"
   ]
  },
  {
   "cell_type": "code",
   "execution_count": 100,
   "id": "706be38d-c259-4d2d-875d-59dd4bd289bc",
   "metadata": {
    "tags": []
   },
   "outputs": [],
   "source": [
    "lamip=latotals[(latotals['MIP'].notnull()) | (latotals['Recycled Bonds'].notnull())]\n"
   ]
  },
  {
   "cell_type": "code",
   "execution_count": 145,
   "id": "00d17449-b8a7-4765-a8f2-7e92c8cd33e2",
   "metadata": {
    "tags": []
   },
   "outputs": [],
   "source": [
    "lamip.to_excel('LAMIP.xlsx')"
   ]
  },
  {
   "cell_type": "code",
   "execution_count": 59,
   "id": "e7cb8b27-1d1f-45a3-8673-673af3bef63b",
   "metadata": {
    "tags": []
   },
   "outputs": [],
   "source": [
    "mipapps=g['Application Number'].to_list()"
   ]
  },
  {
   "cell_type": "code",
   "execution_count": 60,
   "id": "aa0c2ecc-2848-49d8-8feb-a031b71417dd",
   "metadata": {
    "tags": []
   },
   "outputs": [
    {
     "data": {
      "text/plain": [
       "['21-508',\n",
       " '21-562',\n",
       " '21-714',\n",
       " '21-741',\n",
       " '22-447',\n",
       " '23-442',\n",
       " '23-451',\n",
       " '23-472',\n",
       " '20-427',\n",
       " '20-428',\n",
       " '20-541',\n",
       " '20-902']"
      ]
     },
     "execution_count": 60,
     "metadata": {},
     "output_type": "execute_result"
    }
   ],
   "source": [
    "mipapps"
   ]
  },
  {
   "cell_type": "code",
   "execution_count": 61,
   "id": "f50e1f71-4f71-4a12-97ae-551a3e0f1a1c",
   "metadata": {
    "tags": []
   },
   "outputs": [],
   "source": [
    "mipapps=[''+s for s in mipapps]"
   ]
  },
  {
   "cell_type": "code",
   "execution_count": 66,
   "id": "8358f3b1-3744-4d57-b9cc-24bbfcbd35e3",
   "metadata": {
    "tags": []
   },
   "outputs": [
    {
     "data": {
      "text/plain": [
       "0.020442930153321975"
      ]
     },
     "execution_count": 66,
     "metadata": {},
     "output_type": "execute_result"
    }
   ],
   "source": [
    "12/587"
   ]
  },
  {
   "cell_type": "code",
   "execution_count": 130,
   "id": "d5ccdb46-c342-46f7-a370-2f9c05cad631",
   "metadata": {
    "tags": []
   },
   "outputs": [
    {
     "data": {
      "text/html": [
       "<div>\n",
       "<style scoped>\n",
       "    .dataframe tbody tr th:only-of-type {\n",
       "        vertical-align: middle;\n",
       "    }\n",
       "\n",
       "    .dataframe tbody tr th {\n",
       "        vertical-align: top;\n",
       "    }\n",
       "\n",
       "    .dataframe thead th {\n",
       "        text-align: right;\n",
       "    }\n",
       "</style>\n",
       "<table border=\"1\" class=\"dataframe\">\n",
       "  <thead>\n",
       "    <tr style=\"text-align: right;\">\n",
       "      <th></th>\n",
       "      <th>Unnamed: 0</th>\n",
       "      <th>Application Number</th>\n",
       "      <th>Cost Per Unit</th>\n",
       "      <th>Eligible Basis</th>\n",
       "      <th>Land Cost</th>\n",
       "      <th>Construction Cost</th>\n",
       "      <th>Total Cost</th>\n",
       "      <th>Prevailing Wage</th>\n",
       "      <th>MIP</th>\n",
       "      <th>Recycled Bonds</th>\n",
       "      <th>Type</th>\n",
       "      <th>Total Units</th>\n",
       "      <th>City</th>\n",
       "      <th>County</th>\n",
       "      <th>Year</th>\n",
       "    </tr>\n",
       "  </thead>\n",
       "  <tbody>\n",
       "    <tr>\n",
       "      <th>883</th>\n",
       "      <td>883</td>\n",
       "      <td>20-516</td>\n",
       "      <td>176937.761111</td>\n",
       "      <td>159040.111111</td>\n",
       "      <td>2250000.0</td>\n",
       "      <td>20077826.0</td>\n",
       "      <td>31848797.0</td>\n",
       "      <td>0.0</td>\n",
       "      <td>Row 621: CalHFA MIP Loan</td>\n",
       "      <td>NaN</td>\n",
       "      <td>4%</td>\n",
       "      <td>180.0</td>\n",
       "      <td>Fresno</td>\n",
       "      <td>Fresno</td>\n",
       "      <td>2020</td>\n",
       "    </tr>\n",
       "  </tbody>\n",
       "</table>\n",
       "</div>"
      ],
      "text/plain": [
       "     Unnamed: 0 Application Number  Cost Per Unit  Eligible Basis  Land Cost  \\\n",
       "883         883             20-516  176937.761111   159040.111111  2250000.0   \n",
       "\n",
       "     Construction Cost  Total Cost  Prevailing Wage                       MIP  \\\n",
       "883         20077826.0  31848797.0              0.0  Row 621: CalHFA MIP Loan   \n",
       "\n",
       "    Recycled Bonds Type  Total Units    City  County  Year  \n",
       "883            NaN   4%        180.0  Fresno  Fresno  2020  "
      ]
     },
     "execution_count": 130,
     "metadata": {},
     "output_type": "execute_result"
    }
   ],
   "source": [
    "newconstruction[newconstruction['Cost Per Unit'] <= 176938]"
   ]
  },
  {
   "cell_type": "code",
   "execution_count": 131,
   "id": "7f0ec51b-ba85-4c86-8285-b06425df1de3",
   "metadata": {
    "tags": []
   },
   "outputs": [
    {
     "data": {
      "text/plain": [
       "Los Angeles                 44\n",
       "San Diego                   18\n",
       "San Jose                    14\n",
       "Sacramento                  11\n",
       "San Francisco               11\n",
       "                            ..\n",
       "North Hills                  1\n",
       "Los Angeles (Chatsworth)     1\n",
       "San Diego                    1\n",
       "Porterville                  1\n",
       "Vacaville                    1\n",
       "Name: City, Length: 136, dtype: int64"
      ]
     },
     "execution_count": 131,
     "metadata": {},
     "output_type": "execute_result"
    }
   ],
   "source": [
    "laboranalysis['City'].value_counts()"
   ]
  },
  {
   "cell_type": "code",
   "execution_count": 132,
   "id": "d560ed89-dc8c-43fe-aebf-cdf59fa26852",
   "metadata": {
    "tags": []
   },
   "outputs": [],
   "source": [
    "noprevwage=newconstruction[newconstruction['Prevailing Wage'] <=  0].copy()"
   ]
  },
  {
   "cell_type": "code",
   "execution_count": 133,
   "id": "aaf37afd-c2b7-4d2b-959b-5381f5d0f575",
   "metadata": {
    "tags": []
   },
   "outputs": [
    {
     "data": {
      "text/plain": [
       "612104.5530055369"
      ]
     },
     "execution_count": 133,
     "metadata": {},
     "output_type": "execute_result"
    }
   ],
   "source": [
    "latotals['Cost Per Unit'].mean()"
   ]
  },
  {
   "cell_type": "code",
   "execution_count": 134,
   "id": "d8d409e8-053c-45bc-9846-60059175f604",
   "metadata": {
    "tags": []
   },
   "outputs": [
    {
     "data": {
      "text/plain": [
       "622150.2285326087"
      ]
     },
     "execution_count": 134,
     "metadata": {},
     "output_type": "execute_result"
    }
   ],
   "source": [
    "lalaboranalysis['Cost Per Unit'].mean()"
   ]
  },
  {
   "cell_type": "code",
   "execution_count": 135,
   "id": "e53ce247-ccd2-4a9b-84f5-2228bc0689ff",
   "metadata": {
    "tags": []
   },
   "outputs": [],
   "source": [
    "lanoprevwage=noprevwage[noprevwage['City'] == 'Los Angeles'].copy()"
   ]
  },
  {
   "cell_type": "code",
   "execution_count": 136,
   "id": "c400de89-82a6-4e47-867a-d5e2da3977e1",
   "metadata": {
    "tags": []
   },
   "outputs": [
    {
     "data": {
      "text/plain": [
       "612104.5530055369"
      ]
     },
     "execution_count": 136,
     "metadata": {},
     "output_type": "execute_result"
    }
   ],
   "source": [
    "latotals['Cost Per Unit'].mean()"
   ]
  },
  {
   "cell_type": "code",
   "execution_count": 137,
   "id": "cbbc65d8-d0c3-4603-b639-eb2d37e238d0",
   "metadata": {
    "tags": []
   },
   "outputs": [
    {
     "data": {
      "text/plain": [
       "677827.6177139251"
      ]
     },
     "execution_count": 137,
     "metadata": {},
     "output_type": "execute_result"
    }
   ],
   "source": [
    "la23['Cost Per Unit'].mean()"
   ]
  },
  {
   "cell_type": "code",
   "execution_count": 138,
   "id": "6e19dc18-fce7-4bb3-bd88-09a968a9c2bf",
   "metadata": {
    "tags": []
   },
   "outputs": [],
   "source": [
    "bottom_decile_values23 = la23['Cost Per Unit'].quantile(0.1)\n"
   ]
  },
  {
   "cell_type": "code",
   "execution_count": 139,
   "id": "e75cdebf-dec8-4602-b2d7-26a22690db46",
   "metadata": {
    "tags": []
   },
   "outputs": [],
   "source": [
    "bottom_decile_values23 = la23['Cost Per Unit'].quantile(0.1)\n"
   ]
  },
  {
   "cell_type": "code",
   "execution_count": 140,
   "id": "59c3d3c8-6ac0-46ea-a567-54fbf7e88251",
   "metadata": {
    "tags": []
   },
   "outputs": [],
   "source": [
    "la23dec=la23[la23['Cost Per Unit'] <= bottom_decile_values23]"
   ]
  },
  {
   "cell_type": "code",
   "execution_count": 142,
   "id": "73cfeae5-97ca-4be5-b033-ef3fceb6ae39",
   "metadata": {
    "tags": []
   },
   "outputs": [
    {
     "data": {
      "text/html": [
       "<div>\n",
       "<style scoped>\n",
       "    .dataframe tbody tr th:only-of-type {\n",
       "        vertical-align: middle;\n",
       "    }\n",
       "\n",
       "    .dataframe tbody tr th {\n",
       "        vertical-align: top;\n",
       "    }\n",
       "\n",
       "    .dataframe thead th {\n",
       "        text-align: right;\n",
       "    }\n",
       "</style>\n",
       "<table border=\"1\" class=\"dataframe\">\n",
       "  <thead>\n",
       "    <tr style=\"text-align: right;\">\n",
       "      <th></th>\n",
       "      <th>Unnamed: 0</th>\n",
       "      <th>Application Number</th>\n",
       "      <th>Cost Per Unit</th>\n",
       "      <th>Eligible Basis</th>\n",
       "      <th>Land Cost</th>\n",
       "      <th>Construction Cost</th>\n",
       "      <th>Total Cost</th>\n",
       "      <th>Prevailing Wage</th>\n",
       "      <th>MIP</th>\n",
       "      <th>Recycled Bonds</th>\n",
       "      <th>Type</th>\n",
       "      <th>Total Units</th>\n",
       "      <th>City</th>\n",
       "      <th>County</th>\n",
       "      <th>Year</th>\n",
       "    </tr>\n",
       "  </thead>\n",
       "  <tbody>\n",
       "    <tr>\n",
       "      <th>628</th>\n",
       "      <td>628</td>\n",
       "      <td>23-482</td>\n",
       "      <td>563290.940000</td>\n",
       "      <td>463977.710000</td>\n",
       "      <td>4400000.0</td>\n",
       "      <td>3.357348e+07</td>\n",
       "      <td>5.632909e+07</td>\n",
       "      <td>0.0</td>\n",
       "      <td>NaN</td>\n",
       "      <td>NaN</td>\n",
       "      <td>4%</td>\n",
       "      <td>100.0</td>\n",
       "      <td>Los Angeles</td>\n",
       "      <td>Los Angeles</td>\n",
       "      <td>2023</td>\n",
       "    </tr>\n",
       "    <tr>\n",
       "      <th>588</th>\n",
       "      <td>588</td>\n",
       "      <td>23-442</td>\n",
       "      <td>581128.565694</td>\n",
       "      <td>486518.544356</td>\n",
       "      <td>10650300.0</td>\n",
       "      <td>5.430909e+07</td>\n",
       "      <td>1.005352e+08</td>\n",
       "      <td>0.0</td>\n",
       "      <td>NaN</td>\n",
       "      <td>Row 552: Loan, Tax-Exempt, Recycled</td>\n",
       "      <td>4%</td>\n",
       "      <td>173.0</td>\n",
       "      <td>Los Angeles</td>\n",
       "      <td>Los Angeles</td>\n",
       "      <td>2023</td>\n",
       "    </tr>\n",
       "    <tr>\n",
       "      <th>645</th>\n",
       "      <td>645</td>\n",
       "      <td>23-500</td>\n",
       "      <td>597458.792589</td>\n",
       "      <td>501844.106028</td>\n",
       "      <td>8000100.0</td>\n",
       "      <td>5.590155e+07</td>\n",
       "      <td>9.559341e+07</td>\n",
       "      <td>0.0</td>\n",
       "      <td>NaN</td>\n",
       "      <td>NaN</td>\n",
       "      <td>4%</td>\n",
       "      <td>160.0</td>\n",
       "      <td>Los Angeles</td>\n",
       "      <td>Los Angeles</td>\n",
       "      <td>2023</td>\n",
       "    </tr>\n",
       "    <tr>\n",
       "      <th>597</th>\n",
       "      <td>597</td>\n",
       "      <td>23-451</td>\n",
       "      <td>646997.106667</td>\n",
       "      <td>578947.240000</td>\n",
       "      <td>0.0</td>\n",
       "      <td>3.084083e+07</td>\n",
       "      <td>4.852478e+07</td>\n",
       "      <td>5000000.0</td>\n",
       "      <td>NaN</td>\n",
       "      <td>Row 623: Loan, Tax-Exempt, Recycled</td>\n",
       "      <td>4%</td>\n",
       "      <td>75.0</td>\n",
       "      <td>Los Angeles</td>\n",
       "      <td>Los Angeles</td>\n",
       "      <td>2023</td>\n",
       "    </tr>\n",
       "    <tr>\n",
       "      <th>618</th>\n",
       "      <td>618</td>\n",
       "      <td>23-472</td>\n",
       "      <td>747296.000000</td>\n",
       "      <td>659595.880000</td>\n",
       "      <td>7500000.0</td>\n",
       "      <td>4.279327e+07</td>\n",
       "      <td>7.472960e+07</td>\n",
       "      <td>0.0</td>\n",
       "      <td>NaN</td>\n",
       "      <td>Row 555: Citibank, N.A. - Recycled Bonds</td>\n",
       "      <td>4%</td>\n",
       "      <td>100.0</td>\n",
       "      <td>Los Angeles</td>\n",
       "      <td>Los Angeles</td>\n",
       "      <td>2023</td>\n",
       "    </tr>\n",
       "    <tr>\n",
       "      <th>608</th>\n",
       "      <td>608</td>\n",
       "      <td>23-462</td>\n",
       "      <td>790533.619048</td>\n",
       "      <td>656263.761905</td>\n",
       "      <td>6000000.0</td>\n",
       "      <td>3.724542e+07</td>\n",
       "      <td>6.640482e+07</td>\n",
       "      <td>0.0</td>\n",
       "      <td>NaN</td>\n",
       "      <td>NaN</td>\n",
       "      <td>4%</td>\n",
       "      <td>84.0</td>\n",
       "      <td>Los Angeles</td>\n",
       "      <td>Los Angeles</td>\n",
       "      <td>2023</td>\n",
       "    </tr>\n",
       "    <tr>\n",
       "      <th>630</th>\n",
       "      <td>630</td>\n",
       "      <td>23-484</td>\n",
       "      <td>818088.300000</td>\n",
       "      <td>626897.370000</td>\n",
       "      <td>7350000.0</td>\n",
       "      <td>4.422134e+07</td>\n",
       "      <td>8.180883e+07</td>\n",
       "      <td>0.0</td>\n",
       "      <td>NaN</td>\n",
       "      <td>NaN</td>\n",
       "      <td>4%</td>\n",
       "      <td>100.0</td>\n",
       "      <td>Los Angeles</td>\n",
       "      <td>Los Angeles</td>\n",
       "      <td>2023</td>\n",
       "    </tr>\n",
       "  </tbody>\n",
       "</table>\n",
       "</div>"
      ],
      "text/plain": [
       "     Unnamed: 0 Application Number  Cost Per Unit  Eligible Basis   Land Cost  \\\n",
       "628         628             23-482  563290.940000   463977.710000   4400000.0   \n",
       "588         588             23-442  581128.565694   486518.544356  10650300.0   \n",
       "645         645             23-500  597458.792589   501844.106028   8000100.0   \n",
       "597         597             23-451  646997.106667   578947.240000         0.0   \n",
       "618         618             23-472  747296.000000   659595.880000   7500000.0   \n",
       "608         608             23-462  790533.619048   656263.761905   6000000.0   \n",
       "630         630             23-484  818088.300000   626897.370000   7350000.0   \n",
       "\n",
       "     Construction Cost    Total Cost  Prevailing Wage  MIP  \\\n",
       "628       3.357348e+07  5.632909e+07              0.0  NaN   \n",
       "588       5.430909e+07  1.005352e+08              0.0  NaN   \n",
       "645       5.590155e+07  9.559341e+07              0.0  NaN   \n",
       "597       3.084083e+07  4.852478e+07        5000000.0  NaN   \n",
       "618       4.279327e+07  7.472960e+07              0.0  NaN   \n",
       "608       3.724542e+07  6.640482e+07              0.0  NaN   \n",
       "630       4.422134e+07  8.180883e+07              0.0  NaN   \n",
       "\n",
       "                               Recycled Bonds Type  Total Units         City  \\\n",
       "628                                       NaN   4%        100.0  Los Angeles   \n",
       "588       Row 552: Loan, Tax-Exempt, Recycled   4%        173.0  Los Angeles   \n",
       "645                                       NaN   4%        160.0  Los Angeles   \n",
       "597       Row 623: Loan, Tax-Exempt, Recycled   4%         75.0  Los Angeles   \n",
       "618  Row 555: Citibank, N.A. - Recycled Bonds   4%        100.0  Los Angeles   \n",
       "608                                       NaN   4%         84.0  Los Angeles   \n",
       "630                                       NaN   4%        100.0  Los Angeles   \n",
       "\n",
       "          County  Year  \n",
       "628  Los Angeles  2023  \n",
       "588  Los Angeles  2023  \n",
       "645  Los Angeles  2023  \n",
       "597  Los Angeles  2023  \n",
       "618  Los Angeles  2023  \n",
       "608  Los Angeles  2023  \n",
       "630  Los Angeles  2023  "
      ]
     },
     "execution_count": 142,
     "metadata": {},
     "output_type": "execute_result"
    }
   ],
   "source": [
    "la23.sort_values('Cost Per Unit')"
   ]
  },
  {
   "cell_type": "code",
   "execution_count": 138,
   "id": "f6273be2-c1d2-406f-9399-141ac3afdc7c",
   "metadata": {
    "tags": []
   },
   "outputs": [
    {
     "data": {
      "text/plain": [
       "494575.3635391347"
      ]
     },
     "execution_count": 138,
     "metadata": {},
     "output_type": "execute_result"
    }
   ],
   "source": [
    "bottom_decile_values = latotals['Cost Per Unit'].quantile(0.1)\n",
    "bottom_decile_values "
   ]
  },
  {
   "cell_type": "code",
   "execution_count": 143,
   "id": "4970dd85-301b-4b8c-ae51-d55e098c1b6e",
   "metadata": {
    "tags": []
   },
   "outputs": [],
   "source": [
    "p=latotals[latotals['Cost Per Unit'] <= 496575]"
   ]
  },
  {
   "cell_type": "code",
   "execution_count": 144,
   "id": "ce6bfba6-cf1d-4112-8e26-53c8e506e413",
   "metadata": {
    "tags": []
   },
   "outputs": [
    {
     "data": {
      "text/html": [
       "<div>\n",
       "<style scoped>\n",
       "    .dataframe tbody tr th:only-of-type {\n",
       "        vertical-align: middle;\n",
       "    }\n",
       "\n",
       "    .dataframe tbody tr th {\n",
       "        vertical-align: top;\n",
       "    }\n",
       "\n",
       "    .dataframe thead th {\n",
       "        text-align: right;\n",
       "    }\n",
       "</style>\n",
       "<table border=\"1\" class=\"dataframe\">\n",
       "  <thead>\n",
       "    <tr style=\"text-align: right;\">\n",
       "      <th></th>\n",
       "      <th>Unnamed: 0</th>\n",
       "      <th>Application Number</th>\n",
       "      <th>Cost Per Unit</th>\n",
       "      <th>Eligible Basis</th>\n",
       "      <th>Land Cost</th>\n",
       "      <th>Construction Cost</th>\n",
       "      <th>Total Cost</th>\n",
       "      <th>Prevailing Wage</th>\n",
       "      <th>MIP</th>\n",
       "      <th>Recycled Bonds</th>\n",
       "      <th>Type</th>\n",
       "      <th>Total Units</th>\n",
       "      <th>City</th>\n",
       "      <th>County</th>\n",
       "      <th>Year</th>\n",
       "    </tr>\n",
       "  </thead>\n",
       "  <tbody>\n",
       "    <tr>\n",
       "      <th>90</th>\n",
       "      <td>90</td>\n",
       "      <td>21-508</td>\n",
       "      <td>449840.959150</td>\n",
       "      <td>330921.804150</td>\n",
       "      <td>22275000.0</td>\n",
       "      <td>3.573013e+07</td>\n",
       "      <td>8.996819e+07</td>\n",
       "      <td>1341927.25</td>\n",
       "      <td>NaN</td>\n",
       "      <td>Row 565: Citi Community Cap - RecycledBonds</td>\n",
       "      <td>4%</td>\n",
       "      <td>200.0</td>\n",
       "      <td>Los Angeles</td>\n",
       "      <td>Los Angeles</td>\n",
       "      <td>2021</td>\n",
       "    </tr>\n",
       "    <tr>\n",
       "      <th>113</th>\n",
       "      <td>113</td>\n",
       "      <td>21-531</td>\n",
       "      <td>468997.468085</td>\n",
       "      <td>365041.425532</td>\n",
       "      <td>3200000.0</td>\n",
       "      <td>1.125232e+07</td>\n",
       "      <td>2.204288e+07</td>\n",
       "      <td>514210.00</td>\n",
       "      <td>NaN</td>\n",
       "      <td>NaN</td>\n",
       "      <td>4%</td>\n",
       "      <td>47.0</td>\n",
       "      <td>Los Angeles</td>\n",
       "      <td>Los Angeles</td>\n",
       "      <td>2021</td>\n",
       "    </tr>\n",
       "    <tr>\n",
       "      <th>144</th>\n",
       "      <td>144</td>\n",
       "      <td>21-562</td>\n",
       "      <td>449832.655000</td>\n",
       "      <td>360668.880000</td>\n",
       "      <td>16275000.0</td>\n",
       "      <td>4.209252e+07</td>\n",
       "      <td>8.996653e+07</td>\n",
       "      <td>1648427.00</td>\n",
       "      <td>NaN</td>\n",
       "      <td>Row 565: ATAX - Recycled Bonds</td>\n",
       "      <td>4%</td>\n",
       "      <td>200.0</td>\n",
       "      <td>Los Angeles</td>\n",
       "      <td>Los Angeles</td>\n",
       "      <td>2021</td>\n",
       "    </tr>\n",
       "    <tr>\n",
       "      <th>295</th>\n",
       "      <td>295</td>\n",
       "      <td>21-714</td>\n",
       "      <td>491638.520000</td>\n",
       "      <td>401698.520000</td>\n",
       "      <td>16275000.0</td>\n",
       "      <td>4.122898e+07</td>\n",
       "      <td>9.832770e+07</td>\n",
       "      <td>1438741.00</td>\n",
       "      <td>NaN</td>\n",
       "      <td>Row 565: ATAX - Recycled Bonds</td>\n",
       "      <td>4%</td>\n",
       "      <td>200.0</td>\n",
       "      <td>Los Angeles</td>\n",
       "      <td>Los Angeles</td>\n",
       "      <td>2021</td>\n",
       "    </tr>\n",
       "    <tr>\n",
       "      <th>322</th>\n",
       "      <td>322</td>\n",
       "      <td>21-741</td>\n",
       "      <td>466556.116788</td>\n",
       "      <td>449091.554745</td>\n",
       "      <td>0.0</td>\n",
       "      <td>4.477092e+07</td>\n",
       "      <td>6.391819e+07</td>\n",
       "      <td>882532.50</td>\n",
       "      <td>NaN</td>\n",
       "      <td>Row 565: Recycled Bonds</td>\n",
       "      <td>4%</td>\n",
       "      <td>137.0</td>\n",
       "      <td>Los Angeles</td>\n",
       "      <td>Los Angeles</td>\n",
       "      <td>2021</td>\n",
       "    </tr>\n",
       "    <tr>\n",
       "      <th>906</th>\n",
       "      <td>906</td>\n",
       "      <td>20-539</td>\n",
       "      <td>452014.020408</td>\n",
       "      <td>408535.979592</td>\n",
       "      <td>1500000.0</td>\n",
       "      <td>1.482955e+07</td>\n",
       "      <td>2.214869e+07</td>\n",
       "      <td>0.00</td>\n",
       "      <td>NaN</td>\n",
       "      <td>NaN</td>\n",
       "      <td>4%</td>\n",
       "      <td>49.0</td>\n",
       "      <td>Los Angeles</td>\n",
       "      <td>Los Angeles</td>\n",
       "      <td>2020</td>\n",
       "    </tr>\n",
       "    <tr>\n",
       "      <th>929</th>\n",
       "      <td>929</td>\n",
       "      <td>20-562</td>\n",
       "      <td>408753.510204</td>\n",
       "      <td>345502.510204</td>\n",
       "      <td>3500000.0</td>\n",
       "      <td>2.864196e+07</td>\n",
       "      <td>4.005784e+07</td>\n",
       "      <td>0.00</td>\n",
       "      <td>NaN</td>\n",
       "      <td>NaN</td>\n",
       "      <td>4%</td>\n",
       "      <td>98.0</td>\n",
       "      <td>Los Angeles</td>\n",
       "      <td>Los Angeles</td>\n",
       "      <td>2020</td>\n",
       "    </tr>\n",
       "    <tr>\n",
       "      <th>1053</th>\n",
       "      <td>1053</td>\n",
       "      <td>20-695</td>\n",
       "      <td>494330.882353</td>\n",
       "      <td>459820.431373</td>\n",
       "      <td>0.0</td>\n",
       "      <td>1.497361e+07</td>\n",
       "      <td>2.521088e+07</td>\n",
       "      <td>0.00</td>\n",
       "      <td>NaN</td>\n",
       "      <td>NaN</td>\n",
       "      <td>4%</td>\n",
       "      <td>51.0</td>\n",
       "      <td>Los Angeles</td>\n",
       "      <td>Los Angeles</td>\n",
       "      <td>2020</td>\n",
       "    </tr>\n",
       "    <tr>\n",
       "      <th>1101</th>\n",
       "      <td>1101</td>\n",
       "      <td>20-902</td>\n",
       "      <td>387565.057588</td>\n",
       "      <td>331311.170069</td>\n",
       "      <td>14000000.0</td>\n",
       "      <td>8.351537e+07</td>\n",
       "      <td>1.379732e+08</td>\n",
       "      <td>0.00</td>\n",
       "      <td>Row 619: CalHFA MIP</td>\n",
       "      <td>NaN</td>\n",
       "      <td>4%</td>\n",
       "      <td>356.0</td>\n",
       "      <td>Los Angeles</td>\n",
       "      <td>Los Angeles</td>\n",
       "      <td>2020</td>\n",
       "    </tr>\n",
       "  </tbody>\n",
       "</table>\n",
       "</div>"
      ],
      "text/plain": [
       "      Unnamed: 0 Application Number  Cost Per Unit  Eligible Basis  \\\n",
       "90            90             21-508  449840.959150   330921.804150   \n",
       "113          113             21-531  468997.468085   365041.425532   \n",
       "144          144             21-562  449832.655000   360668.880000   \n",
       "295          295             21-714  491638.520000   401698.520000   \n",
       "322          322             21-741  466556.116788   449091.554745   \n",
       "906          906             20-539  452014.020408   408535.979592   \n",
       "929          929             20-562  408753.510204   345502.510204   \n",
       "1053        1053             20-695  494330.882353   459820.431373   \n",
       "1101        1101             20-902  387565.057588   331311.170069   \n",
       "\n",
       "       Land Cost  Construction Cost    Total Cost  Prevailing Wage  \\\n",
       "90    22275000.0       3.573013e+07  8.996819e+07       1341927.25   \n",
       "113    3200000.0       1.125232e+07  2.204288e+07        514210.00   \n",
       "144   16275000.0       4.209252e+07  8.996653e+07       1648427.00   \n",
       "295   16275000.0       4.122898e+07  9.832770e+07       1438741.00   \n",
       "322          0.0       4.477092e+07  6.391819e+07        882532.50   \n",
       "906    1500000.0       1.482955e+07  2.214869e+07             0.00   \n",
       "929    3500000.0       2.864196e+07  4.005784e+07             0.00   \n",
       "1053         0.0       1.497361e+07  2.521088e+07             0.00   \n",
       "1101  14000000.0       8.351537e+07  1.379732e+08             0.00   \n",
       "\n",
       "                      MIP                               Recycled Bonds Type  \\\n",
       "90                    NaN  Row 565: Citi Community Cap - RecycledBonds   4%   \n",
       "113                   NaN                                          NaN   4%   \n",
       "144                   NaN               Row 565: ATAX - Recycled Bonds   4%   \n",
       "295                   NaN               Row 565: ATAX - Recycled Bonds   4%   \n",
       "322                   NaN                      Row 565: Recycled Bonds   4%   \n",
       "906                   NaN                                          NaN   4%   \n",
       "929                   NaN                                          NaN   4%   \n",
       "1053                  NaN                                          NaN   4%   \n",
       "1101  Row 619: CalHFA MIP                                          NaN   4%   \n",
       "\n",
       "      Total Units         City       County  Year  \n",
       "90          200.0  Los Angeles  Los Angeles  2021  \n",
       "113          47.0  Los Angeles  Los Angeles  2021  \n",
       "144         200.0  Los Angeles  Los Angeles  2021  \n",
       "295         200.0  Los Angeles  Los Angeles  2021  \n",
       "322         137.0  Los Angeles  Los Angeles  2021  \n",
       "906          49.0  Los Angeles  Los Angeles  2020  \n",
       "929          98.0  Los Angeles  Los Angeles  2020  \n",
       "1053         51.0  Los Angeles  Los Angeles  2020  \n",
       "1101        356.0  Los Angeles  Los Angeles  2020  "
      ]
     },
     "execution_count": 144,
     "metadata": {},
     "output_type": "execute_result"
    }
   ],
   "source": [
    "p"
   ]
  },
  {
   "cell_type": "code",
   "execution_count": 87,
   "id": "90d93a14-4e3c-4dbf-a091-1cc88bf67521",
   "metadata": {},
   "outputs": [
    {
     "data": {
      "text/plain": [
       "count       113.000000\n",
       "mean     619498.066180\n",
       "std      123815.842209\n",
       "min      330528.932886\n",
       "25%      538175.664474\n",
       "50%      606242.703704\n",
       "75%      673796.045455\n",
       "max      986372.559322\n",
       "Name: Cost Per Unit, dtype: float64"
      ]
     },
     "execution_count": 87,
     "metadata": {},
     "output_type": "execute_result"
    }
   ],
   "source": [
    "latotals['Cost Per Unit'].describe()"
   ]
  },
  {
   "cell_type": "code",
   "execution_count": null,
   "id": "78eeacf5-59f9-4767-8ccb-a299ae5d176c",
   "metadata": {},
   "outputs": [],
   "source": []
  },
  {
   "cell_type": "code",
   "execution_count": 90,
   "id": "5ba62c9f-7938-41aa-b50d-31ac0d6e4cf6",
   "metadata": {
    "tags": []
   },
   "outputs": [],
   "source": [
    "latotals['Innovative Finance'] = np.where((latotals['MIP'].notnull()) | (latotals['Recycled Bonds'].notnull()), 1, 0)"
   ]
  },
  {
   "cell_type": "code",
   "execution_count": null,
   "id": "cc62b3c7-ec9d-4f09-8044-1a85f000424f",
   "metadata": {},
   "outputs": [],
   "source": []
  },
  {
   "cell_type": "code",
   "execution_count": 91,
   "id": "3b7f7c79-ce09-46d6-8131-646b2f576305",
   "metadata": {
    "tags": []
   },
   "outputs": [
    {
     "data": {
      "text/html": [
       "<div>\n",
       "<style scoped>\n",
       "    .dataframe tbody tr th:only-of-type {\n",
       "        vertical-align: middle;\n",
       "    }\n",
       "\n",
       "    .dataframe tbody tr th {\n",
       "        vertical-align: top;\n",
       "    }\n",
       "\n",
       "    .dataframe thead th {\n",
       "        text-align: right;\n",
       "    }\n",
       "</style>\n",
       "<table border=\"1\" class=\"dataframe\">\n",
       "  <thead>\n",
       "    <tr style=\"text-align: right;\">\n",
       "      <th></th>\n",
       "      <th>Unnamed: 0</th>\n",
       "      <th>Application Number</th>\n",
       "      <th>Cost Per Unit</th>\n",
       "      <th>Eligible Basis</th>\n",
       "      <th>Land Cost</th>\n",
       "      <th>Construction Cost</th>\n",
       "      <th>Total Cost</th>\n",
       "      <th>Prevailing Wage</th>\n",
       "      <th>MIP</th>\n",
       "      <th>Recycled Bonds</th>\n",
       "      <th>Type</th>\n",
       "      <th>Total Units</th>\n",
       "      <th>City</th>\n",
       "      <th>County</th>\n",
       "      <th>Year</th>\n",
       "      <th>Innovative Finance</th>\n",
       "    </tr>\n",
       "  </thead>\n",
       "  <tbody>\n",
       "    <tr>\n",
       "      <th>79</th>\n",
       "      <td>79</td>\n",
       "      <td>21-497</td>\n",
       "      <td>605922.789474</td>\n",
       "      <td>410673.842105</td>\n",
       "      <td>7700000.0</td>\n",
       "      <td>2.750808e+07</td>\n",
       "      <td>5.756266e+07</td>\n",
       "      <td>5.806090e+05</td>\n",
       "      <td>NaN</td>\n",
       "      <td>NaN</td>\n",
       "      <td>4%</td>\n",
       "      <td>95.0</td>\n",
       "      <td>Los Angeles</td>\n",
       "      <td>Los Angeles</td>\n",
       "      <td>2021</td>\n",
       "      <td>0</td>\n",
       "    </tr>\n",
       "    <tr>\n",
       "      <th>90</th>\n",
       "      <td>90</td>\n",
       "      <td>21-508</td>\n",
       "      <td>449840.959150</td>\n",
       "      <td>330921.804150</td>\n",
       "      <td>22275000.0</td>\n",
       "      <td>3.573013e+07</td>\n",
       "      <td>8.996819e+07</td>\n",
       "      <td>1.341927e+06</td>\n",
       "      <td>NaN</td>\n",
       "      <td>Row 565: Citi Community Cap - RecycledBonds</td>\n",
       "      <td>4%</td>\n",
       "      <td>200.0</td>\n",
       "      <td>Los Angeles</td>\n",
       "      <td>Los Angeles</td>\n",
       "      <td>2021</td>\n",
       "      <td>1</td>\n",
       "    </tr>\n",
       "    <tr>\n",
       "      <th>91</th>\n",
       "      <td>91</td>\n",
       "      <td>21-509</td>\n",
       "      <td>986372.559322</td>\n",
       "      <td>940967.101695</td>\n",
       "      <td>0.0</td>\n",
       "      <td>8.066209e+07</td>\n",
       "      <td>1.163920e+08</td>\n",
       "      <td>8.018440e+05</td>\n",
       "      <td>NaN</td>\n",
       "      <td>NaN</td>\n",
       "      <td>4%</td>\n",
       "      <td>118.0</td>\n",
       "      <td>Los Angeles</td>\n",
       "      <td>Los Angeles</td>\n",
       "      <td>2021</td>\n",
       "      <td>0</td>\n",
       "    </tr>\n",
       "    <tr>\n",
       "      <th>92</th>\n",
       "      <td>92</td>\n",
       "      <td>21-510</td>\n",
       "      <td>804045.645161</td>\n",
       "      <td>758362.129032</td>\n",
       "      <td>0.0</td>\n",
       "      <td>3.202103e+07</td>\n",
       "      <td>4.985083e+07</td>\n",
       "      <td>2.906220e+05</td>\n",
       "      <td>NaN</td>\n",
       "      <td>NaN</td>\n",
       "      <td>4%</td>\n",
       "      <td>62.0</td>\n",
       "      <td>Los Angeles</td>\n",
       "      <td>Los Angeles</td>\n",
       "      <td>2021</td>\n",
       "      <td>0</td>\n",
       "    </tr>\n",
       "    <tr>\n",
       "      <th>111</th>\n",
       "      <td>111</td>\n",
       "      <td>21-529</td>\n",
       "      <td>650425.612821</td>\n",
       "      <td>615736.976106</td>\n",
       "      <td>0.0</td>\n",
       "      <td>3.404629e+07</td>\n",
       "      <td>5.073320e+07</td>\n",
       "      <td>1.370449e+06</td>\n",
       "      <td>NaN</td>\n",
       "      <td>NaN</td>\n",
       "      <td>4%</td>\n",
       "      <td>78.0</td>\n",
       "      <td>Los Angeles</td>\n",
       "      <td>Los Angeles</td>\n",
       "      <td>2021</td>\n",
       "      <td>0</td>\n",
       "    </tr>\n",
       "    <tr>\n",
       "      <th>...</th>\n",
       "      <td>...</td>\n",
       "      <td>...</td>\n",
       "      <td>...</td>\n",
       "      <td>...</td>\n",
       "      <td>...</td>\n",
       "      <td>...</td>\n",
       "      <td>...</td>\n",
       "      <td>...</td>\n",
       "      <td>...</td>\n",
       "      <td>...</td>\n",
       "      <td>...</td>\n",
       "      <td>...</td>\n",
       "      <td>...</td>\n",
       "      <td>...</td>\n",
       "      <td>...</td>\n",
       "      <td>...</td>\n",
       "    </tr>\n",
       "    <tr>\n",
       "      <th>1084</th>\n",
       "      <td>1084</td>\n",
       "      <td>20-728</td>\n",
       "      <td>570206.115179</td>\n",
       "      <td>517210.392857</td>\n",
       "      <td>750000.0</td>\n",
       "      <td>1.919985e+07</td>\n",
       "      <td>3.193154e+07</td>\n",
       "      <td>0.000000e+00</td>\n",
       "      <td>NaN</td>\n",
       "      <td>NaN</td>\n",
       "      <td>4%</td>\n",
       "      <td>56.0</td>\n",
       "      <td>Los Angeles</td>\n",
       "      <td>Los Angeles</td>\n",
       "      <td>2020</td>\n",
       "      <td>0</td>\n",
       "    </tr>\n",
       "    <tr>\n",
       "      <th>1086</th>\n",
       "      <td>1086</td>\n",
       "      <td>20-730</td>\n",
       "      <td>578434.952381</td>\n",
       "      <td>472703.365079</td>\n",
       "      <td>4490000.0</td>\n",
       "      <td>2.030341e+07</td>\n",
       "      <td>3.644140e+07</td>\n",
       "      <td>0.000000e+00</td>\n",
       "      <td>NaN</td>\n",
       "      <td>NaN</td>\n",
       "      <td>4%</td>\n",
       "      <td>63.0</td>\n",
       "      <td>Los Angeles</td>\n",
       "      <td>Los Angeles</td>\n",
       "      <td>2020</td>\n",
       "      <td>0</td>\n",
       "    </tr>\n",
       "    <tr>\n",
       "      <th>1089</th>\n",
       "      <td>1089</td>\n",
       "      <td>20-733</td>\n",
       "      <td>847649.719430</td>\n",
       "      <td>713217.061203</td>\n",
       "      <td>250000.0</td>\n",
       "      <td>1.168237e+07</td>\n",
       "      <td>6.696433e+07</td>\n",
       "      <td>2.478000e+06</td>\n",
       "      <td>NaN</td>\n",
       "      <td>NaN</td>\n",
       "      <td>4%</td>\n",
       "      <td>79.0</td>\n",
       "      <td>Los Angeles</td>\n",
       "      <td>Los Angeles</td>\n",
       "      <td>2020</td>\n",
       "      <td>0</td>\n",
       "    </tr>\n",
       "    <tr>\n",
       "      <th>1096</th>\n",
       "      <td>1096</td>\n",
       "      <td>20-741</td>\n",
       "      <td>635983.957447</td>\n",
       "      <td>528415.382979</td>\n",
       "      <td>6150000.0</td>\n",
       "      <td>3.136554e+07</td>\n",
       "      <td>5.978249e+07</td>\n",
       "      <td>0.000000e+00</td>\n",
       "      <td>NaN</td>\n",
       "      <td>NaN</td>\n",
       "      <td>4%</td>\n",
       "      <td>94.0</td>\n",
       "      <td>Los Angeles</td>\n",
       "      <td>Los Angeles</td>\n",
       "      <td>2020</td>\n",
       "      <td>0</td>\n",
       "    </tr>\n",
       "    <tr>\n",
       "      <th>1101</th>\n",
       "      <td>1101</td>\n",
       "      <td>20-902</td>\n",
       "      <td>387565.057588</td>\n",
       "      <td>331311.170069</td>\n",
       "      <td>14000000.0</td>\n",
       "      <td>8.351537e+07</td>\n",
       "      <td>1.379732e+08</td>\n",
       "      <td>0.000000e+00</td>\n",
       "      <td>Row 619: CalHFA MIP</td>\n",
       "      <td>NaN</td>\n",
       "      <td>4%</td>\n",
       "      <td>356.0</td>\n",
       "      <td>Los Angeles</td>\n",
       "      <td>Los Angeles</td>\n",
       "      <td>2020</td>\n",
       "      <td>1</td>\n",
       "    </tr>\n",
       "  </tbody>\n",
       "</table>\n",
       "<p>113 rows × 16 columns</p>\n",
       "</div>"
      ],
      "text/plain": [
       "      Unnamed: 0 Application Number  Cost Per Unit  Eligible Basis  \\\n",
       "79            79             21-497  605922.789474   410673.842105   \n",
       "90            90             21-508  449840.959150   330921.804150   \n",
       "91            91             21-509  986372.559322   940967.101695   \n",
       "92            92             21-510  804045.645161   758362.129032   \n",
       "111          111             21-529  650425.612821   615736.976106   \n",
       "...          ...                ...            ...             ...   \n",
       "1084        1084             20-728  570206.115179   517210.392857   \n",
       "1086        1086             20-730  578434.952381   472703.365079   \n",
       "1089        1089             20-733  847649.719430   713217.061203   \n",
       "1096        1096             20-741  635983.957447   528415.382979   \n",
       "1101        1101             20-902  387565.057588   331311.170069   \n",
       "\n",
       "       Land Cost  Construction Cost    Total Cost  Prevailing Wage  \\\n",
       "79     7700000.0       2.750808e+07  5.756266e+07     5.806090e+05   \n",
       "90    22275000.0       3.573013e+07  8.996819e+07     1.341927e+06   \n",
       "91           0.0       8.066209e+07  1.163920e+08     8.018440e+05   \n",
       "92           0.0       3.202103e+07  4.985083e+07     2.906220e+05   \n",
       "111          0.0       3.404629e+07  5.073320e+07     1.370449e+06   \n",
       "...          ...                ...           ...              ...   \n",
       "1084    750000.0       1.919985e+07  3.193154e+07     0.000000e+00   \n",
       "1086   4490000.0       2.030341e+07  3.644140e+07     0.000000e+00   \n",
       "1089    250000.0       1.168237e+07  6.696433e+07     2.478000e+06   \n",
       "1096   6150000.0       3.136554e+07  5.978249e+07     0.000000e+00   \n",
       "1101  14000000.0       8.351537e+07  1.379732e+08     0.000000e+00   \n",
       "\n",
       "                      MIP                               Recycled Bonds Type  \\\n",
       "79                    NaN                                          NaN   4%   \n",
       "90                    NaN  Row 565: Citi Community Cap - RecycledBonds   4%   \n",
       "91                    NaN                                          NaN   4%   \n",
       "92                    NaN                                          NaN   4%   \n",
       "111                   NaN                                          NaN   4%   \n",
       "...                   ...                                          ...  ...   \n",
       "1084                  NaN                                          NaN   4%   \n",
       "1086                  NaN                                          NaN   4%   \n",
       "1089                  NaN                                          NaN   4%   \n",
       "1096                  NaN                                          NaN   4%   \n",
       "1101  Row 619: CalHFA MIP                                          NaN   4%   \n",
       "\n",
       "      Total Units         City       County  Year  Innovative Finance  \n",
       "79           95.0  Los Angeles  Los Angeles  2021                   0  \n",
       "90          200.0  Los Angeles  Los Angeles  2021                   1  \n",
       "91          118.0  Los Angeles  Los Angeles  2021                   0  \n",
       "92           62.0  Los Angeles  Los Angeles  2021                   0  \n",
       "111          78.0  Los Angeles  Los Angeles  2021                   0  \n",
       "...           ...          ...          ...   ...                 ...  \n",
       "1084         56.0  Los Angeles  Los Angeles  2020                   0  \n",
       "1086         63.0  Los Angeles  Los Angeles  2020                   0  \n",
       "1089         79.0  Los Angeles  Los Angeles  2020                   0  \n",
       "1096         94.0  Los Angeles  Los Angeles  2020                   0  \n",
       "1101        356.0  Los Angeles  Los Angeles  2020                   1  \n",
       "\n",
       "[113 rows x 16 columns]"
      ]
     },
     "execution_count": 91,
     "metadata": {},
     "output_type": "execute_result"
    }
   ],
   "source": [
    "latotals"
   ]
  },
  {
   "cell_type": "code",
   "execution_count": 148,
   "id": "233135cd-7e75-4724-b138-2885dfae5241",
   "metadata": {
    "tags": []
   },
   "outputs": [],
   "source": [
    "p.to_excel('BottomDecileLA.xlsx')"
   ]
  },
  {
   "cell_type": "code",
   "execution_count": 149,
   "id": "0675afc1-fcc9-4791-9e3a-438db8395e20",
   "metadata": {
    "tags": []
   },
   "outputs": [],
   "source": [
    "newconstruction['Innovative Finance'] = np.where((newconstruction['MIP'].notnull()) | (newconstruction['Recycled Bonds'].notnull()), 1, 0)"
   ]
  },
  {
   "cell_type": "code",
   "execution_count": 150,
   "id": "994cd932-3efe-48e3-a03c-41c8acc0650e",
   "metadata": {
    "tags": []
   },
   "outputs": [],
   "source": [
    "latotals['Innovative Finance'] = np.where((latotals['MIP'].notnull()) | (latotals['Recycled Bonds'].notnull()), 1, 0)"
   ]
  },
  {
   "cell_type": "code",
   "execution_count": 151,
   "id": "10a65b64-72fa-4f76-b4e1-8c5fa584ca8e",
   "metadata": {},
   "outputs": [
    {
     "name": "stdout",
     "output_type": "stream",
     "text": [
      "                            OLS Regression Results                            \n",
      "==============================================================================\n",
      "Dep. Variable:          Cost Per Unit   R-squared:                       0.541\n",
      "Model:                            OLS   Adj. R-squared:                  0.511\n",
      "Method:                 Least Squares   F-statistic:                     17.90\n",
      "Date:                Fri, 01 Dec 2023   Prob (F-statistic):           1.09e-11\n",
      "Time:                        18:48:33   Log-Likelihood:                -1036.1\n",
      "No. Observations:                  82   AIC:                             2084.\n",
      "Df Residuals:                      76   BIC:                             2099.\n",
      "Df Model:                           5                                         \n",
      "Covariance Type:            nonrobust                                         \n",
      "======================================================================================\n",
      "                         coef    std err          t      P>|t|      [0.025      0.975]\n",
      "--------------------------------------------------------------------------------------\n",
      "const               6.017e+05   1.81e+04     33.316      0.000    5.66e+05    6.38e+05\n",
      "Construction Cost      0.0090      0.001      8.550      0.000       0.007       0.011\n",
      "Prevailing Wage        0.0075      0.008      0.918      0.362      -0.009       0.024\n",
      "Land Cost              0.0096      0.003      3.182      0.002       0.004       0.016\n",
      "Innovative Finance  2.154e+04   2.85e+04      0.755      0.452   -3.53e+04    7.83e+04\n",
      "Total Units        -3565.8401    449.814     -7.927      0.000   -4461.723   -2669.957\n",
      "==============================================================================\n",
      "Omnibus:                       57.849   Durbin-Watson:                   1.703\n",
      "Prob(Omnibus):                  0.000   Jarque-Bera (JB):              330.116\n",
      "Skew:                           2.092   Prob(JB):                     2.07e-72\n",
      "Kurtosis:                      11.895   Cond. No.                     1.20e+08\n",
      "==============================================================================\n",
      "\n",
      "Notes:\n",
      "[1] Standard Errors assume that the covariance matrix of the errors is correctly specified.\n",
      "[2] The condition number is large, 1.2e+08. This might indicate that there are\n",
      "strong multicollinearity or other numerical problems.\n"
     ]
    }
   ],
   "source": [
    "import statsmodels.api as sm\n",
    "import pandas as pd\n",
    "\n",
    "# Assuming df is your dataframe\n",
    "# X contains the independent variables, and y is the dependent variable\n",
    "X = latotals[['Construction Cost', 'Prevailing Wage', 'Land Cost','Innovative Finance','Total Units']]\n",
    "y = latotals['Cost Per Unit']\n",
    "\n",
    "# Add a constant term to the independent variables\n",
    "X = sm.add_constant(X)\n",
    "\n",
    "# Fit the regression model\n",
    "model = sm.OLS(y, X).fit()\n",
    "\n",
    "# Print the summary\n",
    "print(model.summary())"
   ]
  },
  {
   "cell_type": "code",
   "execution_count": 1,
   "id": "300af64f-cd7e-43c0-ad52-346b80b200d9",
   "metadata": {
    "tags": []
   },
   "outputs": [
    {
     "data": {
      "text/plain": [
       "21540.0"
      ]
     },
     "execution_count": 1,
     "metadata": {},
     "output_type": "execute_result"
    }
   ],
   "source": [
    "2.154e+04 \n"
   ]
  },
  {
   "cell_type": "code",
   "execution_count": 152,
   "id": "0f96ff94-6c9b-420b-85a8-fab155bddefe",
   "metadata": {
    "tags": []
   },
   "outputs": [],
   "source": [
    "fillit=['Cost Per Unit',\n",
    " 'Eligible Basis',\n",
    " 'Land Cost',\n",
    " 'Construction Cost',\n",
    " 'Total Cost',\n",
    " 'Prevailing Wage','Total Units']"
   ]
  },
  {
   "cell_type": "code",
   "execution_count": 153,
   "id": "4c2e25cd-7318-456e-8416-a9deca1689af",
   "metadata": {
    "tags": []
   },
   "outputs": [],
   "source": [
    "for column in fillit:\n",
    "    newconstruction[column] = newconstruction[column].fillna(0)"
   ]
  },
  {
   "cell_type": "code",
   "execution_count": 154,
   "id": "069f86e7-6007-436b-863b-d9a209adeffc",
   "metadata": {
    "tags": []
   },
   "outputs": [
    {
     "name": "stdout",
     "output_type": "stream",
     "text": [
      "                            OLS Regression Results                            \n",
      "==============================================================================\n",
      "Dep. Variable:          Cost Per Unit   R-squared:                       0.731\n",
      "Model:                            OLS   Adj. R-squared:                  0.728\n",
      "Method:                 Least Squares   F-statistic:                     310.3\n",
      "Date:                Fri, 01 Dec 2023   Prob (F-statistic):          2.81e-160\n",
      "Time:                        18:48:35   Log-Likelihood:                -7449.3\n",
      "No. Observations:                 578   AIC:                         1.491e+04\n",
      "Df Residuals:                     572   BIC:                         1.494e+04\n",
      "Df Model:                           5                                         \n",
      "Covariance Type:            nonrobust                                         \n",
      "======================================================================================\n",
      "                         coef    std err          t      P>|t|      [0.025      0.975]\n",
      "--------------------------------------------------------------------------------------\n",
      "const               5.329e+05   8421.061     63.287      0.000    5.16e+05    5.49e+05\n",
      "Construction Cost      0.0098      0.000     36.144      0.000       0.009       0.010\n",
      "Total Units        -3272.0878    105.626    -30.978      0.000   -3479.549   -3064.626\n",
      "Prevailing Wage        0.0091      0.004      2.380      0.018       0.002       0.017\n",
      "Land Cost              0.0104      0.001      8.099      0.000       0.008       0.013\n",
      "Innovative Finance -2.046e+04   9987.437     -2.049      0.041   -4.01e+04    -847.791\n",
      "==============================================================================\n",
      "Omnibus:                       76.870   Durbin-Watson:                   1.765\n",
      "Prob(Omnibus):                  0.000   Jarque-Bera (JB):              719.016\n",
      "Skew:                           0.083   Prob(JB):                    7.37e-157\n",
      "Kurtosis:                       8.461   Cond. No.                     1.02e+08\n",
      "==============================================================================\n",
      "\n",
      "Notes:\n",
      "[1] Standard Errors assume that the covariance matrix of the errors is correctly specified.\n",
      "[2] The condition number is large, 1.02e+08. This might indicate that there are\n",
      "strong multicollinearity or other numerical problems.\n"
     ]
    }
   ],
   "source": [
    "# Assuming df is your dataframe\n",
    "# X contains the independent variables, and y is the dependent variable\n",
    "X = newconstruction[['Construction Cost','Total Units', 'Prevailing Wage', 'Land Cost','Innovative Finance']]\n",
    "y = newconstruction['Cost Per Unit']\n",
    "\n",
    "# Add a constant term to the independent variables\n",
    "X = sm.add_constant(X)\n",
    "\n",
    "# Fit the regression model\n",
    "model = sm.OLS(y, X).fit()\n",
    "\n",
    "# Print the summary\n",
    "print(model.summary())"
   ]
  },
  {
   "cell_type": "code",
   "execution_count": 155,
   "id": "c3bcc40a-e40a-43c4-9b44-ff4864491691",
   "metadata": {
    "tags": []
   },
   "outputs": [],
   "source": [
    "from scipy.stats import ttest_ind\n",
    "\n",
    "group1 = latotals[latotals['Innovative Finance'] == 0]['Cost Per Unit']\n",
    "group2 = latotals[latotals['Innovative Finance'] == 1]['Cost Per Unit']\n",
    "\n",
    "t_stat, p_value = ttest_ind(group1, group2)"
   ]
  },
  {
   "cell_type": "code",
   "execution_count": 172,
   "id": "bdccdf84-0f3a-4b01-aa68-be71005c9422",
   "metadata": {
    "tags": []
   },
   "outputs": [
    {
     "data": {
      "text/plain": [
       "2.278303448696218"
      ]
     },
     "execution_count": 172,
     "metadata": {},
     "output_type": "execute_result"
    }
   ],
   "source": [
    "t_stat"
   ]
  },
  {
   "cell_type": "markdown",
   "id": "ee83e918-2c7b-4417-bd71-ca0336e5e2de",
   "metadata": {},
   "source": [
    "# Pulling additional Information for Los Angeles Projects "
   ]
  },
  {
   "cell_type": "markdown",
   "id": "bbf4681a-8488-4765-aa27-d4b4d717abd0",
   "metadata": {
    "tags": []
   },
   "source": [
    "## Separating LA Projects "
   ]
  },
  {
   "cell_type": "code",
   "execution_count": 26,
   "id": "ce9d067b-d295-4a66-af74-250b4372d153",
   "metadata": {
    "tags": []
   },
   "outputs": [],
   "source": [
    "lacounty= newconstruction[(newconstruction['County'] == 'Los Angeles')].copy()"
   ]
  },
  {
   "cell_type": "code",
   "execution_count": 27,
   "id": "e79a752a-86a2-4a13-b8b3-87b27b2c5d10",
   "metadata": {
    "tags": []
   },
   "outputs": [
    {
     "data": {
      "text/html": [
       "<div>\n",
       "<style scoped>\n",
       "    .dataframe tbody tr th:only-of-type {\n",
       "        vertical-align: middle;\n",
       "    }\n",
       "\n",
       "    .dataframe tbody tr th {\n",
       "        vertical-align: top;\n",
       "    }\n",
       "\n",
       "    .dataframe thead th {\n",
       "        text-align: right;\n",
       "    }\n",
       "</style>\n",
       "<table border=\"1\" class=\"dataframe\">\n",
       "  <thead>\n",
       "    <tr style=\"text-align: right;\">\n",
       "      <th></th>\n",
       "      <th>Unnamed: 0</th>\n",
       "      <th>Application Number</th>\n",
       "      <th>Cost Per Unit</th>\n",
       "      <th>Eligible Basis</th>\n",
       "      <th>Land Cost</th>\n",
       "      <th>Construction Cost</th>\n",
       "      <th>Total Cost</th>\n",
       "      <th>Prevailing Wage</th>\n",
       "      <th>MIP</th>\n",
       "      <th>Recycled Bonds</th>\n",
       "      <th>Type</th>\n",
       "      <th>Total Units</th>\n",
       "      <th>City</th>\n",
       "      <th>County</th>\n",
       "      <th>Year</th>\n",
       "    </tr>\n",
       "  </thead>\n",
       "  <tbody>\n",
       "    <tr>\n",
       "      <th>12</th>\n",
       "      <td>12</td>\n",
       "      <td>21-430</td>\n",
       "      <td>246439.950276</td>\n",
       "      <td>211438.254144</td>\n",
       "      <td>5500000.0</td>\n",
       "      <td>26384017.0</td>\n",
       "      <td>4.460563e+07</td>\n",
       "      <td>1372580.0</td>\n",
       "      <td>NaN</td>\n",
       "      <td>NaN</td>\n",
       "      <td>4%</td>\n",
       "      <td>181.0</td>\n",
       "      <td>Pasadena</td>\n",
       "      <td>Los Angeles</td>\n",
       "      <td>2021</td>\n",
       "    </tr>\n",
       "    <tr>\n",
       "      <th>19</th>\n",
       "      <td>19</td>\n",
       "      <td>21-437</td>\n",
       "      <td>603625.738636</td>\n",
       "      <td>543108.193182</td>\n",
       "      <td>1875000.0</td>\n",
       "      <td>34200406.0</td>\n",
       "      <td>5.311906e+07</td>\n",
       "      <td>777032.5</td>\n",
       "      <td>NaN</td>\n",
       "      <td>NaN</td>\n",
       "      <td>4%</td>\n",
       "      <td>88.0</td>\n",
       "      <td>Long Beach</td>\n",
       "      <td>Los Angeles</td>\n",
       "      <td>2021</td>\n",
       "    </tr>\n",
       "    <tr>\n",
       "      <th>21</th>\n",
       "      <td>21</td>\n",
       "      <td>21-439</td>\n",
       "      <td>316328.085662</td>\n",
       "      <td>276728.482353</td>\n",
       "      <td>3060000.0</td>\n",
       "      <td>31407072.0</td>\n",
       "      <td>5.377577e+07</td>\n",
       "      <td>1439796.0</td>\n",
       "      <td>NaN</td>\n",
       "      <td>Row 565: Merchants Capital Recycled Bonds</td>\n",
       "      <td>4%</td>\n",
       "      <td>170.0</td>\n",
       "      <td>Palmdale</td>\n",
       "      <td>Los Angeles</td>\n",
       "      <td>2021</td>\n",
       "    </tr>\n",
       "    <tr>\n",
       "      <th>39</th>\n",
       "      <td>39</td>\n",
       "      <td>21-457</td>\n",
       "      <td>640825.573529</td>\n",
       "      <td>550142.661765</td>\n",
       "      <td>2950000.0</td>\n",
       "      <td>24492757.0</td>\n",
       "      <td>4.357614e+07</td>\n",
       "      <td>527784.0</td>\n",
       "      <td>NaN</td>\n",
       "      <td>NaN</td>\n",
       "      <td>4%</td>\n",
       "      <td>68.0</td>\n",
       "      <td>Long Beach</td>\n",
       "      <td>Los Angeles</td>\n",
       "      <td>2021</td>\n",
       "    </tr>\n",
       "    <tr>\n",
       "      <th>53</th>\n",
       "      <td>53</td>\n",
       "      <td>21-471</td>\n",
       "      <td>604331.520000</td>\n",
       "      <td>548723.856000</td>\n",
       "      <td>2790000.0</td>\n",
       "      <td>46111240.0</td>\n",
       "      <td>7.554144e+07</td>\n",
       "      <td>2426907.0</td>\n",
       "      <td>NaN</td>\n",
       "      <td>NaN</td>\n",
       "      <td>4%</td>\n",
       "      <td>125.0</td>\n",
       "      <td>Pomona</td>\n",
       "      <td>Los Angeles</td>\n",
       "      <td>2021</td>\n",
       "    </tr>\n",
       "  </tbody>\n",
       "</table>\n",
       "</div>"
      ],
      "text/plain": [
       "    Unnamed: 0 Application Number  Cost Per Unit  Eligible Basis  Land Cost  \\\n",
       "12          12             21-430  246439.950276   211438.254144  5500000.0   \n",
       "19          19             21-437  603625.738636   543108.193182  1875000.0   \n",
       "21          21             21-439  316328.085662   276728.482353  3060000.0   \n",
       "39          39             21-457  640825.573529   550142.661765  2950000.0   \n",
       "53          53             21-471  604331.520000   548723.856000  2790000.0   \n",
       "\n",
       "    Construction Cost    Total Cost  Prevailing Wage  MIP  \\\n",
       "12         26384017.0  4.460563e+07        1372580.0  NaN   \n",
       "19         34200406.0  5.311906e+07         777032.5  NaN   \n",
       "21         31407072.0  5.377577e+07        1439796.0  NaN   \n",
       "39         24492757.0  4.357614e+07         527784.0  NaN   \n",
       "53         46111240.0  7.554144e+07        2426907.0  NaN   \n",
       "\n",
       "                               Recycled Bonds Type  Total Units        City  \\\n",
       "12                                        NaN   4%        181.0    Pasadena   \n",
       "19                                        NaN   4%         88.0  Long Beach   \n",
       "21  Row 565: Merchants Capital Recycled Bonds   4%        170.0    Palmdale   \n",
       "39                                        NaN   4%         68.0  Long Beach   \n",
       "53                                        NaN   4%        125.0      Pomona   \n",
       "\n",
       "         County  Year  \n",
       "12  Los Angeles  2021  \n",
       "19  Los Angeles  2021  \n",
       "21  Los Angeles  2021  \n",
       "39  Los Angeles  2021  \n",
       "53  Los Angeles  2021  "
      ]
     },
     "execution_count": 27,
     "metadata": {},
     "output_type": "execute_result"
    }
   ],
   "source": [
    "lacounty.head()"
   ]
  },
  {
   "cell_type": "code",
   "execution_count": 33,
   "id": "230ece47-e3b5-4690-ac03-506935614218",
   "metadata": {},
   "outputs": [
    {
     "name": "stdout",
     "output_type": "stream",
     "text": [
      "Files copied/moved successfully.\n"
     ]
    }
   ],
   "source": [
    "\n",
    "output_folder = 'LA County'\n",
    "os.makedirs(output_folder, exist_ok=True)\n",
    "\n",
    "# Convert 'Application Number' column to a set for faster lookup\n",
    "application_numbers = set(lacounty['Application Number'].tolist())\n",
    "\n",
    "# Specify the paths to the folders containing the Excel files\n",
    "excel_folders = ['TCAC_2020_4%', 'TCAC_2021_4%','TCAC_2023_4%']\n",
    "\n",
    "for excel_folder in excel_folders:\n",
    "    # Loop through the files in the source folder\n",
    "    for file_name in os.listdir(excel_folder):\n",
    "        # Check if the file is in the list of application numbers\n",
    "        if file_name.endswith('.xlsx') and file_name[:-5] in application_numbers:\n",
    "            source_path = os.path.join(excel_folder, file_name)\n",
    "            destination_path = os.path.join(output_folder, file_name)\n",
    "\n",
    "            # Use shutil.copy2 to preserve metadata\n",
    "            shutil.copy2(source_path, destination_path)\n",
    "            # Uncomment the line below if you want to move instead of copy\n",
    "            # shutil.move(source_path, destination_path)\n",
    "\n",
    "print(\"Files copied/moved successfully.\")"
   ]
  },
  {
   "cell_type": "code",
   "execution_count": 35,
   "id": "ffd40783-cea5-4edc-beae-724e36bff227",
   "metadata": {
    "tags": []
   },
   "outputs": [
    {
     "name": "stdout",
     "output_type": "stream",
     "text": [
      "Files copied/moved successfully.\n"
     ]
    }
   ],
   "source": [
    "source_folder = 'LA County'\n",
    "output_folders = ['2020', '2021', '2022', '2023']\n",
    "\n",
    "# Create output subfolders within the source folder if they don't exist\n",
    "for folder in output_folders:\n",
    "    os.makedirs(os.path.join(source_folder, folder), exist_ok=True)\n",
    "\n",
    "# Loop through the files in the source folder\n",
    "for file_name in os.listdir(source_folder):\n",
    "    if file_name.endswith('.xlsx') and file_name.startswith(('20', '21', '22', '23')) and len(file_name) >= 4:\n",
    "        source_path = os.path.join(source_folder, file_name)\n",
    "\n",
    "        # Get the first two digits of the file name\n",
    "        first_two_digits = file_name[:2]\n",
    "\n",
    "        # Ensure the subfolder for the year exists\n",
    "        year_subfolder = os.path.join(source_folder, first_two_digits)\n",
    "        os.makedirs(year_subfolder, exist_ok=True)\n",
    "\n",
    "        # Construct the destination path within the corresponding output subfolder\n",
    "        destination_path = os.path.join(year_subfolder, file_name)\n",
    "\n",
    "        # Use shutil.copy2 to preserve metadata\n",
    "        shutil.copy2(source_path, destination_path)\n",
    "        # Uncomment the line below if you want to move instead of copy\n",
    "        # shutil.move(source_path, destination_path)\n",
    "\n",
    "print(\"Files copied/moved successfully.\")"
   ]
  },
  {
   "cell_type": "markdown",
   "id": "d6a99cdd-fa54-4c15-97b4-3498ebdb3a8d",
   "metadata": {},
   "source": [
    "## Extracting Data "
   ]
  },
  {
   "cell_type": "markdown",
   "id": "aafa9582-33ad-4be7-8bb2-b562cca8612c",
   "metadata": {},
   "source": [
    "## 2020"
   ]
  },
  {
   "cell_type": "code",
   "execution_count": 3,
   "id": "c18ea35b-9185-462a-9aa7-ee857a4125db",
   "metadata": {},
   "outputs": [],
   "source": [
    "def ladata2020(file_name):\n",
    "    import openpyxl\n",
    "    import os\n",
    "    import pandas as pd\n",
    "    # Load the Excel file with openpyxl\n",
    "    costperunit= None\n",
    "    eligible= None\n",
    "    landcost= None\n",
    "    constructioncost= None\n",
    "    totalcost= None\n",
    "    prevailing= None\n",
    "    mip= None\n",
    "    recycled= None\n",
    "    \n",
    "    # Load the Excel file with openpyxl\n",
    "    excel_file = openpyxl.load_workbook(file_name, data_only=True)\n",
    "    \n",
    "    # Access a specific sheet\n",
    "    sheet_name1 = 'Application'\n",
    "    sheet_name2='Sources and Uses Budget'\n",
    "    sheet1 = excel_file[sheet_name1]\n",
    "    sheet2 = excel_file[sheet_name2]\n",
    "\n",
    "    # Extract the value from the merged cell (AC447)\n",
    "    costperunit = sheet1['AC441'].value\n",
    "    eligible= sheet1['AC443'].value\n",
    "    landcost = sheet2['B4'].value\n",
    "    constructioncost = sheet2['B36'].value\n",
    "    totalcost= sheet2['B105'].value\n",
    "    prevailing = sheet1['AA955'].value\n",
    "    \n",
    "     # Initialize MIP and Recycled Bonds variables\n",
    "    mip = None\n",
    "    recycled = None\n",
    "\n",
    "    # # Search for 'MIP' or 'CDLAC' in cells C618-C629\n",
    "    found_mip= False\n",
    "    for row_number in range(608, 652):\n",
    "        row = sheet1[row_number]\n",
    "        for cell in row:\n",
    "            if cell.value:\n",
    "                if ('MIP' in str(cell.value).strip() or 'CDLAC' in str(cell.value).strip()):\n",
    "                # MIP = cell_value\n",
    "                    mip = (f\"Row {row_number}: {cell.value}\")\n",
    "                    found_mip=True\n",
    "                    break  # Stop searching when the first match is found\n",
    "        if found_mip:\n",
    "            break \n",
    "\n",
    "    # Search for 'recycled' throughout the entire 'Application' sheet (case-insensitive)\n",
    "    # Iterate over rows from row 556 to 934\n",
    "    found_recycled = False\n",
    "    for row_number in range(537, 913):\n",
    "        row = sheet1[row_number]\n",
    "\n",
    "        for cell in row:\n",
    "            if cell.value:\n",
    "                if 'Recycled' in str(cell.value).strip():\n",
    "                    recycled=(f\"Row {row_number}: {cell.value}\")\n",
    "                    found_recycled = True\n",
    "                    break\n",
    "        if found_recycled:\n",
    "            break  # Stop searching if 'Recycled' is found\n",
    "\n",
    "    # Create a DataFrame\n",
    "    excel = os.path.basename(file_name)\n",
    "    df = pd.DataFrame({\n",
    "        'Application Number': [excel.strip('.xlsx')],\n",
    "        'Cost Per Unit': [costperunit],\n",
    "        'Eligible Basis': [eligible],\n",
    "        'Land Cost': [landcost],\n",
    "        'Construction Cost': [constructioncost],\n",
    "        'Total Cost': [totalcost],\n",
    "        'Prevailing Wage': [prevailing],\n",
    "        'MIP': [mip],\n",
    "        'Recycled Bonds': [recycled],\n",
    "    })\n",
    "    return df"
   ]
  },
  {
   "cell_type": "markdown",
   "id": "5195386b-652c-4818-a709-a5d38c2b96b1",
   "metadata": {},
   "source": [
    "## 2021"
   ]
  },
  {
   "cell_type": "code",
   "execution_count": 16,
   "id": "32bbf611-9dc6-4fd3-acce-8bf7422fb22f",
   "metadata": {
    "tags": []
   },
   "outputs": [],
   "source": [
    "def ladata2021(file_name):\n",
    "    import openpyxl\n",
    "    import os\n",
    "    import pandas as pd\n",
    "    \n",
    "    try:\n",
    "        # Load the Excel file\n",
    "        excel_file = openpyxl.load_workbook(file_name, data_only=True)\n",
    "\n",
    "      # Access the 'Application' sheet\n",
    "        sheet_name1 = 'Application'\n",
    "        sheet1 = excel_file[sheet_name1]\n",
    "        sheet_name2 = 'Sources and Uses Budget'\n",
    "        sheet2 = excel_file[sheet_name2]\n",
    "\n",
    "        # Extract the value from the merged cell (AC447)\n",
    "        costperunit = sheet1['AC453'].value\n",
    "        eligible = sheet1['AC455'].value\n",
    "        landcost = sheet2['B4'].value\n",
    "        constructioncost = sheet2['B38'].value\n",
    "        totalcost = sheet2['B105'].value\n",
    "        prevailing = sheet1['AG953'].value\n",
    "\n",
    "        # Initialize MIP and Recycled Bonds variables\n",
    "        mip = None\n",
    "        recycled = None\n",
    "\n",
    "        # # Search for 'MIP' or 'CDLAC' in cells C618-C629\n",
    "        found_mip= False\n",
    "        for row_number in range(619, 652):\n",
    "            row = sheet1[row_number]\n",
    "            for cell in row:\n",
    "                if cell.value:\n",
    "                    if ('MIP' in str(cell.value).strip() or 'CDLAC' in str(cell.value).strip()):\n",
    "                    # MIP = cell_value\n",
    "                        mip = (f\"Row {row_number}: {cell.value}\")\n",
    "                        found_mip=True\n",
    "                        break  # Stop searching when the first match is found\n",
    "            if found_mip:\n",
    "                break \n",
    "\n",
    "        # Search for 'recycled' throughout the entire 'Application' sheet (case-insensitive)\n",
    "        # Iterate over rows from row 556 to 934\n",
    "        found_recycled = False\n",
    "        for row_number in range(556, 935):\n",
    "            row = sheet1[row_number]\n",
    "\n",
    "            for cell in row:\n",
    "                if cell.value:\n",
    "                    if 'Recycled' in str(cell.value).strip():\n",
    "                        recycled=(f\"Row {row_number}: {cell.value}\")\n",
    "                        found_recycled = True\n",
    "                        break\n",
    "            if found_recycled:\n",
    "                break  # Stop searching if 'Recycled' is found\n",
    "\n",
    "        # Create a DataFrame\n",
    "        excel = os.path.basename(file_name)\n",
    "        df = pd.DataFrame({\n",
    "            'Application Number': [excel.strip('.xlsx')],\n",
    "            'Cost Per Unit': [costperunit],\n",
    "            'Eligible Basis': [eligible],\n",
    "            'Land Cost': [landcost],\n",
    "            'Construction Cost': [constructioncost],\n",
    "            'Total Cost': [totalcost],\n",
    "            'Prevailing Wage': [prevailing],\n",
    "            'MIP': [mip],\n",
    "            'Recycled Bonds': [recycled],\n",
    "        })\n",
    "        return df\n",
    "    except Exception as e:\n",
    "        print(f\"Error processing {file_name}: {e}\")\n",
    "        return None"
   ]
  },
  {
   "cell_type": "markdown",
   "id": "811c2a98-45e0-4c91-a6e8-ce15cab925f0",
   "metadata": {},
   "source": [
    "## 2022"
   ]
  },
  {
   "cell_type": "code",
   "execution_count": 17,
   "id": "24779469-e5da-44b3-bc41-efb8adbe2c67",
   "metadata": {
    "tags": []
   },
   "outputs": [],
   "source": [
    "def ladata2022(file_name):\n",
    "    import openpyxl\n",
    "    import os\n",
    "    import pandas as pd\n",
    "    \n",
    "    try:\n",
    "        # Load the Excel file\n",
    "        excel_file = openpyxl.load_workbook(file_name, data_only=True)\n",
    "\n",
    "      # Access the 'Application' sheet\n",
    "        sheet_name1 = 'Application'\n",
    "        sheet1 = excel_file[sheet_name1]\n",
    "        sheet_name2 = 'Sources and Uses Budget'\n",
    "        sheet2 = excel_file[sheet_name2]\n",
    "\n",
    "        # Extract the value from the merged cell (AC447)\n",
    "        costperunit = sheet1['AC453'].value\n",
    "        eligible = sheet1['AC455'].value\n",
    "        landcost = sheet2['B4'].value\n",
    "        constructioncost = sheet2['B38'].value\n",
    "        totalcost = sheet2['B105'].value\n",
    "        prevailing = sheet1['AG955'].value\n",
    "\n",
    "        # Initialize MIP and Recycled Bonds variables\n",
    "        mip = None\n",
    "        recycled = None\n",
    "\n",
    "        # # Search for 'MIP' or 'CDLAC' in cells C618-C629\n",
    "        found_mip= False\n",
    "        for row_number in range(619, 652):\n",
    "            row = sheet1[row_number]\n",
    "            for cell in row:\n",
    "                if cell.value:\n",
    "                    if ('MIP' in str(cell.value).strip() or 'CDLAC' in str(cell.value).strip()):\n",
    "                    # MIP = cell_value\n",
    "                        mip = (f\"Row {row_number}: {cell.value}\")\n",
    "                        found_mip=True\n",
    "                        break  # Stop searching when the first match is found\n",
    "            if found_mip:\n",
    "                break \n",
    "\n",
    "        # Search for 'recycled' throughout the entire 'Application' sheet (case-insensitive)\n",
    "        # Iterate over rows from row 556 to 934\n",
    "        found_recycled = False\n",
    "        for row_number in range(556, 935):\n",
    "            row = sheet1[row_number]\n",
    "\n",
    "            for cell in row:\n",
    "                if cell.value:\n",
    "                    if 'Recycled' in str(cell.value).strip():\n",
    "                        recycled=(f\"Row {row_number}: {cell.value}\")\n",
    "                        found_recycled = True\n",
    "                        break\n",
    "            if found_recycled:\n",
    "                break  # Stop searching if 'Recycled' is found\n",
    "\n",
    "        # Create a DataFrame\n",
    "        excel = os.path.basename(file_name)\n",
    "        df = pd.DataFrame({\n",
    "            'Application Number': [excel.strip('.xlsx')],\n",
    "            'Cost Per Unit': [costperunit],\n",
    "            'Eligible Basis': [eligible],\n",
    "            'Land Cost': [landcost],\n",
    "            'Construction Cost': [constructioncost],\n",
    "            'Total Cost': [totalcost],\n",
    "            'Prevailing Wage': [prevailing],\n",
    "            'MIP': [mip],\n",
    "            'Recycled Bonds': [recycled],\n",
    "        })\n",
    "        return df\n",
    "    except Exception as e:\n",
    "        print(f\"Error processing {file_name}: {e}\")\n",
    "        return None"
   ]
  },
  {
   "cell_type": "markdown",
   "id": "b0366c67-89d5-4bda-b8b1-7e2f719646bb",
   "metadata": {},
   "source": [
    "## 2023"
   ]
  },
  {
   "cell_type": "code",
   "execution_count": 18,
   "id": "e3bd6feb-5a45-4b2b-8d48-7d12ca25ef62",
   "metadata": {
    "tags": []
   },
   "outputs": [],
   "source": [
    "def ladata2023(file_name):\n",
    "    import openpyxl\n",
    "    import os\n",
    "    import pandas as pd\n",
    "      # Load the Excel file\n",
    "    try:\n",
    "        \n",
    "        excel_file = openpyxl.load_workbook(file_name, data_only=True)\n",
    "\n",
    "      # Access the 'Application' sheet\n",
    "        sheet_name1 = 'Application'\n",
    "        sheet1 = excel_file[sheet_name1]\n",
    "        sheet_name2 = 'Sources and Uses Budget'\n",
    "        sheet2 = excel_file[sheet_name2]\n",
    "\n",
    "        # Extract the value from the merged cell (AC447)\n",
    "        costperunit = sheet1['AC453'].value\n",
    "        eligible = sheet1['AC455'].value\n",
    "        landcost = sheet2['B4'].value\n",
    "        constructioncost = sheet2['B38'].value\n",
    "        totalcost = sheet2['B105'].value\n",
    "        prevailing = sheet1['AG941'].value\n",
    "        \n",
    "        \n",
    "\n",
    "        # Initialize MIP and Recycled Bonds variables\n",
    "        mip = None\n",
    "        recycled = None\n",
    "\n",
    "        # # Search for 'MIP' or 'CDLAC' in cells C618-C629\n",
    "        found_mip= False\n",
    "        for row_number in range(619, 638):\n",
    "            row = sheet1[row_number]\n",
    "            for cell in row:\n",
    "                if cell.value:\n",
    "                    if ('MIP' in str(cell.value).strip() or 'CDLAC' in str(cell.value).strip()):\n",
    "                    # MIP = cell_value\n",
    "                        mip = (f\"Row {row_number}: {cell.value}\")\n",
    "                        found_mip=True\n",
    "                        break  # Stop searching when the first match is found\n",
    "            if found_mip:\n",
    "                break \n",
    "\n",
    "        # Search for 'recycled' throughout the entire 'Application' sheet (case-insensitive)\n",
    "        # Iterate over rows from row 556 to 934\n",
    "        found_recycled = False\n",
    "        for row_number in range(548, 921):\n",
    "            row = sheet1[row_number]\n",
    "\n",
    "            for cell in row:\n",
    "                if cell.value:\n",
    "                    if 'Recycled' in str(cell.value).strip():\n",
    "                        recycled=(f\"Row {row_number}: {cell.value}\")\n",
    "                        found_recycled = True\n",
    "                        break\n",
    "            if found_recycled:\n",
    "                break  # Stop searching if 'Recycled' is found\n",
    "\n",
    "        # Create a DataFrame\n",
    "        excel = os.path.basename(file_name)\n",
    "        df = pd.DataFrame({\n",
    "            'Application Number': [excel.strip('.xlsx')],\n",
    "            'Cost Per Unit': [costperunit],\n",
    "            'Eligible Basis': [eligible],\n",
    "            'Land Cost': [landcost],\n",
    "            'Construction Cost': [constructioncost],\n",
    "            'Total Cost': [totalcost],\n",
    "            'Prevailing Wage': [prevailing],\n",
    "            'MIP': [mip],\n",
    "            'Recycled Bonds': [recycled],\n",
    "        })\n",
    "        return df\n",
    "    except Exception as e:\n",
    "        print(f\"Error processing {file_name}: {e}\")\n",
    "        return None"
   ]
  },
  {
   "cell_type": "markdown",
   "id": "78edac7b-8878-453d-83cf-17bd1198440b",
   "metadata": {},
   "source": [
    "## Running the Processes"
   ]
  },
  {
   "cell_type": "code",
   "execution_count": 19,
   "id": "104bb93c-ba7c-4eda-a95a-56a036f551db",
   "metadata": {
    "tags": []
   },
   "outputs": [],
   "source": [
    "if __name__ == \"__main__\":\n",
    "    # folder_path = 'TCA_2021_4%_test'  # Replace with the path to your folder containing Excel files\n",
    "    doneladata2020 = cccombo('LA County/20',ladata2020)"
   ]
  },
  {
   "cell_type": "code",
   "execution_count": 20,
   "id": "6576ff77-427b-4478-91de-c8218cec790d",
   "metadata": {
    "tags": []
   },
   "outputs": [],
   "source": [
    "if __name__ == \"__main__\":\n",
    "    # folder_path = 'TCA_2021_4%_test'  # Replace with the path to your folder containing Excel files\n",
    "    doneladata2021 = cccombo('LA County/21',ladata2021)"
   ]
  },
  {
   "cell_type": "code",
   "execution_count": 21,
   "id": "371f896b-9902-4944-a140-1ecc078253f2",
   "metadata": {
    "tags": []
   },
   "outputs": [],
   "source": [
    "if __name__ == \"__main__\":\n",
    "    # folder_path = 'TCA_2021_4%_test'  # Replace with the path to your folder containing Excel files\n",
    "    doneladata2022 = cccombo('LA County/22',ladata2022)"
   ]
  },
  {
   "cell_type": "code",
   "execution_count": 74,
   "id": "1f092aa9-e52a-4d79-8d87-2b357aff17b0",
   "metadata": {
    "tags": []
   },
   "outputs": [
    {
     "ename": "NameError",
     "evalue": "name 'ladata2023' is not defined",
     "output_type": "error",
     "traceback": [
      "\u001b[1;31m---------------------------------------------------------------------------\u001b[0m",
      "\u001b[1;31mNameError\u001b[0m                                 Traceback (most recent call last)",
      "Cell \u001b[1;32mIn[74], line 3\u001b[0m\n\u001b[0;32m      1\u001b[0m \u001b[38;5;28;01mif\u001b[39;00m \u001b[38;5;18m__name__\u001b[39m \u001b[38;5;241m==\u001b[39m \u001b[38;5;124m\"\u001b[39m\u001b[38;5;124m__main__\u001b[39m\u001b[38;5;124m\"\u001b[39m:\n\u001b[0;32m      2\u001b[0m     \u001b[38;5;66;03m# folder_path = 'TCA_2021_4%_test'  # Replace with the path to your folder containing Excel files\u001b[39;00m\n\u001b[1;32m----> 3\u001b[0m     doneladata2023 \u001b[38;5;241m=\u001b[39m cccombo(\u001b[38;5;124m'\u001b[39m\u001b[38;5;124mLA County/23\u001b[39m\u001b[38;5;124m'\u001b[39m,\u001b[43mladata2023\u001b[49m)\n",
      "\u001b[1;31mNameError\u001b[0m: name 'ladata2023' is not defined"
     ]
    }
   ],
   "source": [
    "if __name__ == \"__main__\":\n",
    "    # folder_path = 'TCA_2021_4%_test'  # Replace with the path to your folder containing Excel files\n",
    "    doneladata2023 = cccombo('LA County/23',ladata2023)"
   ]
  },
  {
   "cell_type": "code",
   "execution_count": 75,
   "id": "6401f7dd-146b-4e48-a310-596c1492216e",
   "metadata": {
    "tags": []
   },
   "outputs": [
    {
     "ename": "NameError",
     "evalue": "name 'doneladata2020' is not defined",
     "output_type": "error",
     "traceback": [
      "\u001b[1;31m---------------------------------------------------------------------------\u001b[0m",
      "\u001b[1;31mNameError\u001b[0m                                 Traceback (most recent call last)",
      "Cell \u001b[1;32mIn[75], line 1\u001b[0m\n\u001b[1;32m----> 1\u001b[0m \u001b[43mdoneladata2020\u001b[49m\u001b[38;5;241m.\u001b[39mhead()\n",
      "\u001b[1;31mNameError\u001b[0m: name 'doneladata2020' is not defined"
     ]
    }
   ],
   "source": [
    "doneladata2020.head()"
   ]
  },
  {
   "cell_type": "code",
   "execution_count": 35,
   "id": "574d6314-aa45-4623-86b3-5d6ac9759cab",
   "metadata": {
    "tags": []
   },
   "outputs": [],
   "source": [
    "lacountydata=pd.concat([doneladata2020,\n",
    "doneladata2021,\n",
    "doneladata2022,doneladata2023])\n"
   ]
  },
  {
   "cell_type": "code",
   "execution_count": 40,
   "id": "2a17fc53-197b-4773-bdc9-c91f4dc2909e",
   "metadata": {
    "tags": []
   },
   "outputs": [
    {
     "data": {
      "text/plain": [
       "count    1.910000e+02\n",
       "mean     4.086011e+06\n",
       "std      4.246520e+06\n",
       "min      0.000000e+00\n",
       "25%      1.221000e+06\n",
       "50%      2.950000e+06\n",
       "75%      5.700000e+06\n",
       "max      2.227500e+07\n",
       "Name: Land Cost, dtype: float64"
      ]
     },
     "execution_count": 40,
     "metadata": {},
     "output_type": "execute_result"
    }
   ],
   "source": [
    "lacountydata['Land Cost'].describe()"
   ]
  },
  {
   "cell_type": "code",
   "execution_count": 56,
   "id": "50ecb21d-0802-471c-81c0-07943c78d11d",
   "metadata": {
    "tags": []
   },
   "outputs": [],
   "source": [
    "lacountydata['Land Cost Per Unit']=lacountydata['Land Cost']/lacountydata['Units']\n",
    "lacountydata['Construction Cost Per Unit']=lacountydata['Construction Cost']/lacountydata['Units']\n",
    "lacountydata['Eligible Basis Per Unit']=lacountydata['Eligible Basis']/lacountydata['Units']"
   ]
  },
  {
   "cell_type": "code",
   "execution_count": 59,
   "id": "b65a7ff1-5c10-4fda-b65f-147b53fbb4f8",
   "metadata": {
    "tags": []
   },
   "outputs": [
    {
     "name": "stdout",
     "output_type": "stream",
     "text": [
      "<class 'pandas.core.frame.DataFrame'>\n",
      "Int64Index: 191 entries, 0 to 29\n",
      "Data columns (total 13 columns):\n",
      " #   Column                      Non-Null Count  Dtype  \n",
      "---  ------                      --------------  -----  \n",
      " 0   Application Number          191 non-null    object \n",
      " 1   Cost Per Unit               191 non-null    float64\n",
      " 2   Eligible Basis              191 non-null    float64\n",
      " 3   Land Cost                   191 non-null    float64\n",
      " 4   Construction Cost           191 non-null    float64\n",
      " 5   Total Cost                  191 non-null    float64\n",
      " 6   Prevailing Wage             65 non-null     object \n",
      " 7   MIP                         12 non-null     object \n",
      " 8   Recycled Bonds              28 non-null     object \n",
      " 9   Units                       191 non-null    float64\n",
      " 10  Land Cost Per Unit          191 non-null    float64\n",
      " 11  Construction Cost Per Unit  191 non-null    float64\n",
      " 12  Eligible Basis Per Unit     191 non-null    float64\n",
      "dtypes: float64(9), object(4)\n",
      "memory usage: 25.0+ KB\n"
     ]
    }
   ],
   "source": [
    "lacountydata.info()"
   ]
  },
  {
   "cell_type": "code",
   "execution_count": 41,
   "id": "813fe4c2-78bb-46d2-bae5-72e893f9d1c4",
   "metadata": {
    "tags": []
   },
   "outputs": [
    {
     "data": {
      "text/plain": [
       "4086011.0"
      ]
     },
     "execution_count": 41,
     "metadata": {},
     "output_type": "execute_result"
    }
   ],
   "source": [
    "4.086011e+06"
   ]
  },
  {
   "cell_type": "code",
   "execution_count": 57,
   "id": "b8b9cda3-4647-48c9-bce8-9d64aea58a1b",
   "metadata": {
    "tags": []
   },
   "outputs": [
    {
     "data": {
      "text/html": [
       "<div>\n",
       "<style scoped>\n",
       "    .dataframe tbody tr th:only-of-type {\n",
       "        vertical-align: middle;\n",
       "    }\n",
       "\n",
       "    .dataframe tbody tr th {\n",
       "        vertical-align: top;\n",
       "    }\n",
       "\n",
       "    .dataframe thead th {\n",
       "        text-align: right;\n",
       "    }\n",
       "</style>\n",
       "<table border=\"1\" class=\"dataframe\">\n",
       "  <thead>\n",
       "    <tr style=\"text-align: right;\">\n",
       "      <th></th>\n",
       "      <th>Application Number</th>\n",
       "      <th>Cost Per Unit</th>\n",
       "      <th>Eligible Basis</th>\n",
       "      <th>Land Cost</th>\n",
       "      <th>Construction Cost</th>\n",
       "      <th>Total Cost</th>\n",
       "      <th>Prevailing Wage</th>\n",
       "      <th>MIP</th>\n",
       "      <th>Recycled Bonds</th>\n",
       "      <th>Units</th>\n",
       "      <th>Land Cost Per Unit</th>\n",
       "      <th>Construction Cost Per Unit</th>\n",
       "      <th>Eligible Basis Per Unit</th>\n",
       "    </tr>\n",
       "  </thead>\n",
       "  <tbody>\n",
       "    <tr>\n",
       "      <th>0</th>\n",
       "      <td>20-402</td>\n",
       "      <td>496775.694215</td>\n",
       "      <td>380365.404959</td>\n",
       "      <td>8450000.0</td>\n",
       "      <td>33619985.0</td>\n",
       "      <td>60109859.0</td>\n",
       "      <td>Yes</td>\n",
       "      <td>None</td>\n",
       "      <td>None</td>\n",
       "      <td>121.0</td>\n",
       "      <td>69834.710744</td>\n",
       "      <td>277851.115702</td>\n",
       "      <td>3143.515743</td>\n",
       "    </tr>\n",
       "    <tr>\n",
       "      <th>1</th>\n",
       "      <td>20-404</td>\n",
       "      <td>663898.307692</td>\n",
       "      <td>599025.747981</td>\n",
       "      <td>1200000.0</td>\n",
       "      <td>10221387.0</td>\n",
       "      <td>17261356.0</td>\n",
       "      <td>Yes</td>\n",
       "      <td>None</td>\n",
       "      <td>None</td>\n",
       "      <td>26.0</td>\n",
       "      <td>46153.846154</td>\n",
       "      <td>393130.269231</td>\n",
       "      <td>23039.451845</td>\n",
       "    </tr>\n",
       "    <tr>\n",
       "      <th>2</th>\n",
       "      <td>20-405</td>\n",
       "      <td>584739.814815</td>\n",
       "      <td>542380.629630</td>\n",
       "      <td>0.0</td>\n",
       "      <td>9464438.0</td>\n",
       "      <td>15787975.0</td>\n",
       "      <td>Yes</td>\n",
       "      <td>None</td>\n",
       "      <td>None</td>\n",
       "      <td>27.0</td>\n",
       "      <td>0.000000</td>\n",
       "      <td>350534.740741</td>\n",
       "      <td>20088.171468</td>\n",
       "    </tr>\n",
       "    <tr>\n",
       "      <th>3</th>\n",
       "      <td>20-418</td>\n",
       "      <td>676406.627907</td>\n",
       "      <td>562945.790698</td>\n",
       "      <td>2159000.0</td>\n",
       "      <td>16635305.0</td>\n",
       "      <td>29085485.0</td>\n",
       "      <td>Yes</td>\n",
       "      <td>None</td>\n",
       "      <td>None</td>\n",
       "      <td>43.0</td>\n",
       "      <td>50209.302326</td>\n",
       "      <td>386867.558140</td>\n",
       "      <td>13091.762574</td>\n",
       "    </tr>\n",
       "    <tr>\n",
       "      <th>4</th>\n",
       "      <td>20-427</td>\n",
       "      <td>618389.069767</td>\n",
       "      <td>527658.604651</td>\n",
       "      <td>1850000.0</td>\n",
       "      <td>14351403.0</td>\n",
       "      <td>26590730.0</td>\n",
       "      <td>Yes</td>\n",
       "      <td>Row 623: CDLAC Refundable Performance Deposit</td>\n",
       "      <td>None</td>\n",
       "      <td>43.0</td>\n",
       "      <td>43023.255814</td>\n",
       "      <td>333753.558140</td>\n",
       "      <td>12271.130341</td>\n",
       "    </tr>\n",
       "  </tbody>\n",
       "</table>\n",
       "</div>"
      ],
      "text/plain": [
       "  Application Number  Cost Per Unit  Eligible Basis  Land Cost  \\\n",
       "0             20-402  496775.694215   380365.404959  8450000.0   \n",
       "1             20-404  663898.307692   599025.747981  1200000.0   \n",
       "2             20-405  584739.814815   542380.629630        0.0   \n",
       "3             20-418  676406.627907   562945.790698  2159000.0   \n",
       "4             20-427  618389.069767   527658.604651  1850000.0   \n",
       "\n",
       "   Construction Cost  Total Cost Prevailing Wage  \\\n",
       "0         33619985.0  60109859.0             Yes   \n",
       "1         10221387.0  17261356.0             Yes   \n",
       "2          9464438.0  15787975.0             Yes   \n",
       "3         16635305.0  29085485.0             Yes   \n",
       "4         14351403.0  26590730.0             Yes   \n",
       "\n",
       "                                             MIP Recycled Bonds  Units  \\\n",
       "0                                           None           None  121.0   \n",
       "1                                           None           None   26.0   \n",
       "2                                           None           None   27.0   \n",
       "3                                           None           None   43.0   \n",
       "4  Row 623: CDLAC Refundable Performance Deposit           None   43.0   \n",
       "\n",
       "   Land Cost Per Unit  Construction Cost Per Unit  Eligible Basis Per Unit  \n",
       "0        69834.710744               277851.115702              3143.515743  \n",
       "1        46153.846154               393130.269231             23039.451845  \n",
       "2            0.000000               350534.740741             20088.171468  \n",
       "3        50209.302326               386867.558140             13091.762574  \n",
       "4        43023.255814               333753.558140             12271.130341  "
      ]
     },
     "execution_count": 57,
     "metadata": {},
     "output_type": "execute_result"
    }
   ],
   "source": [
    "lacountydata.head()"
   ]
  },
  {
   "cell_type": "markdown",
   "id": "6946410c-4b5c-4483-a546-d0b10b40f410",
   "metadata": {},
   "source": [
    "# Adding Financing Costs to Winning Applications \n",
    "\n"
   ]
  },
  {
   "cell_type": "code",
   "execution_count": 29,
   "id": "34c2b6ef-f338-446a-8375-744b7b762f3b",
   "metadata": {
    "tags": []
   },
   "outputs": [
    {
     "name": "stdout",
     "output_type": "stream",
     "text": [
      "Files copied/moved successfully.\n"
     ]
    }
   ],
   "source": [
    "output_folder = 'New Construction Four Percent'\n",
    "os.makedirs(output_folder, exist_ok=True)\n",
    "\n",
    "# Convert 'Application Number' column to a set for faster lookup\n",
    "application_numbers = set(newconstruction['Application Number'].tolist())\n",
    "\n",
    "# Specify the paths to the folders containing the Excel files\n",
    "excel_folders = ['TCAC_2020_4%', 'TCAC_2021_4%','TCAC_2023_4%']\n",
    "\n",
    "for excel_folder in excel_folders:\n",
    "    # Loop through the files in the source folder\n",
    "    for file_name in os.listdir(excel_folder):\n",
    "        # Check if the file is in the list of application numbers\n",
    "        if file_name.endswith('.xlsx') and file_name[:-5] in application_numbers:\n",
    "            source_path = os.path.join(excel_folder, file_name)\n",
    "            destination_path = os.path.join(output_folder, file_name)\n",
    "\n",
    "            # Use shutil.copy2 to preserve metadata\n",
    "            shutil.copy2(source_path, destination_path)\n",
    "            # Uncomment the line below if you want to move instead of copy\n",
    "            # shutil.move(source_path, destination_path)\n",
    "\n",
    "print(\"Files copied/moved successfully.\")"
   ]
  },
  {
   "cell_type": "code",
   "execution_count": 30,
   "id": "27f458b0-145e-4823-82d5-a1821e0a4cb1",
   "metadata": {
    "tags": []
   },
   "outputs": [
    {
     "name": "stdout",
     "output_type": "stream",
     "text": [
      "Files copied/moved successfully.\n"
     ]
    }
   ],
   "source": [
    "source_folder = 'New Construction Four Percent'\n",
    "output_folders = ['NC2020', 'NC2021', 'NC2022', 'NC2023']\n",
    "\n",
    "# Create output subfolders within the source folder if they don't exist\n",
    "for folder in output_folders:\n",
    "    os.makedirs(os.path.join(source_folder, folder), exist_ok=True)\n",
    "\n",
    "# Loop through the files in the source folder\n",
    "for file_name in os.listdir(source_folder):\n",
    "    if file_name.endswith('.xlsx') and file_name.startswith(('20', '21', '22', '23')) and len(file_name) >= 4:\n",
    "        source_path = os.path.join(source_folder, file_name)\n",
    "\n",
    "        # Get the first two digits of the file name\n",
    "        first_two_digits = file_name[:2]\n",
    "\n",
    "        # Ensure the subfolder for the year exists\n",
    "        year_subfolder = os.path.join(source_folder, first_two_digits)\n",
    "        os.makedirs(year_subfolder, exist_ok=True)\n",
    "\n",
    "        # Construct the destination path within the corresponding output subfolder\n",
    "        destination_path = os.path.join(year_subfolder, file_name)\n",
    "\n",
    "        # Use shutil.copy2 to preserve metadata\n",
    "        shutil.copy2(source_path, destination_path)\n",
    "        # Uncomment the line below if you want to move instead of copy\n",
    "        # shutil.move(source_path, destination_path)\n",
    "\n",
    "print(\"Files copied/moved successfully.\")"
   ]
  },
  {
   "cell_type": "markdown",
   "id": "35aa31db-8f57-4469-9fb8-6c0f98614c2e",
   "metadata": {},
   "source": [
    "## 2020"
   ]
  },
  {
   "cell_type": "code",
   "execution_count": 6,
   "id": "63956203-b037-473d-a956-7a95bf81f07d",
   "metadata": {},
   "outputs": [],
   "source": [
    "def ncdata2020(file_name):\n",
    "    import openpyxl\n",
    "    import os\n",
    "    import pandas as pd\n",
    "    # Load the Excel file with openpyxl\n",
    "   \n",
    "    constructionfinance= None\n",
    "    permanentfinance= None\n",
    "    prevailing= None\n",
    "    permloan= None\n",
    "    tcequity= None\n",
    "    softmoney= None\n",
    "    \n",
    "    # Load the Excel file with openpyxl\n",
    "    excel_file = openpyxl.load_workbook(file_name, data_only=True)\n",
    "    \n",
    "    # Access a specific sheet\n",
    "    sheet_name1 = 'Application'\n",
    "    sheet_name2='Sources and Uses Budget'\n",
    "    sheet1 = excel_file[sheet_name1]\n",
    "    sheet2 = excel_file[sheet_name2]\n",
    "\n",
    "       # Extract values from specific cells\n",
    "    constructionfinance = sheet2['B53'].value\n",
    "    permanentfinance = sheet2['B62'].value\n",
    "    prevailing = sheet1['AA955'].value\n",
    "    permloan = sheet1['AG618'].value\n",
    "    tcequity = sheet1['AG631'].value\n",
    "    totalpermsources= sheet1['AG630'].value\n",
    "    \n",
    "    # Sum values from a range of cells (AG619-AG629)\n",
    "    softmoney_range = sheet1['AG619':'AG629']\n",
    "    softmoney = 0\n",
    "    for row in softmoney_range:\n",
    "        for cell in row:\n",
    "            try:\n",
    "                softmoney += float(cell.value)\n",
    "            except (TypeError, ValueError):\n",
    "                pass  # Skip non-numeric values\n",
    "    \n",
    "    # Create a DataFrame\n",
    "    excel = os.path.basename(file_name)\n",
    "    df = pd.DataFrame({\n",
    "        'Application Number': [excel.strip('.xlsx')],\n",
    "        'Prevailing Wage': [prevailing],\n",
    "        'Construction Finance Cost': [constructionfinance],\n",
    "        'Permanent Finance Cost': [permanentfinance],\n",
    "        'Soft Money': [softmoney], \n",
    "        'Perm Loan':[permloan],\n",
    "        'TC Equity':[tcequity],\n",
    "        'Total Perm Sources':[totalpermsources]\n",
    "        \n",
    "    })\n",
    "    return df"
   ]
  },
  {
   "cell_type": "code",
   "execution_count": 7,
   "id": "d13f19a3-4b1f-4833-8b39-a794eea25a61",
   "metadata": {},
   "outputs": [],
   "source": [
    "if __name__ == \"__main__\":\n",
    "    # folder_path = 'TCA_2021_4%_test'  # Replace with the path to your folder containing Excel files\n",
    "    newncdata20 = cccombo('New Construction Four Percent/NC2020',ncdata2020)"
   ]
  },
  {
   "cell_type": "code",
   "execution_count": 8,
   "id": "916e3a9d-1143-4ece-9bc9-7da3cf11b4db",
   "metadata": {
    "tags": []
   },
   "outputs": [
    {
     "data": {
      "text/html": [
       "<div>\n",
       "<style scoped>\n",
       "    .dataframe tbody tr th:only-of-type {\n",
       "        vertical-align: middle;\n",
       "    }\n",
       "\n",
       "    .dataframe tbody tr th {\n",
       "        vertical-align: top;\n",
       "    }\n",
       "\n",
       "    .dataframe thead th {\n",
       "        text-align: right;\n",
       "    }\n",
       "</style>\n",
       "<table border=\"1\" class=\"dataframe\">\n",
       "  <thead>\n",
       "    <tr style=\"text-align: right;\">\n",
       "      <th></th>\n",
       "      <th>Application Number</th>\n",
       "      <th>Prevailing Wage</th>\n",
       "      <th>Construction Finance Cost</th>\n",
       "      <th>Permanent Finance Cost</th>\n",
       "      <th>Soft Money</th>\n",
       "      <th>Perm Loan</th>\n",
       "      <th>TC Equity</th>\n",
       "      <th>Total Perm Sources</th>\n",
       "    </tr>\n",
       "  </thead>\n",
       "  <tbody>\n",
       "    <tr>\n",
       "      <th>0</th>\n",
       "      <td>20-401</td>\n",
       "      <td>No</td>\n",
       "      <td>449630.0</td>\n",
       "      <td>35570.0</td>\n",
       "      <td>2730654.0</td>\n",
       "      <td>1842364</td>\n",
       "      <td>5104221</td>\n",
       "      <td>4573018</td>\n",
       "    </tr>\n",
       "    <tr>\n",
       "      <th>1</th>\n",
       "      <td>20-402</td>\n",
       "      <td>Yes</td>\n",
       "      <td>4616380.0</td>\n",
       "      <td>360750.0</td>\n",
       "      <td>33500000.0</td>\n",
       "      <td>6278000</td>\n",
       "      <td>20331859</td>\n",
       "      <td>39778000</td>\n",
       "    </tr>\n",
       "    <tr>\n",
       "      <th>2</th>\n",
       "      <td>20-403</td>\n",
       "      <td>No</td>\n",
       "      <td>683625.0</td>\n",
       "      <td>29000.0</td>\n",
       "      <td>5500000.0</td>\n",
       "      <td>900000</td>\n",
       "      <td>7584466</td>\n",
       "      <td>6400000</td>\n",
       "    </tr>\n",
       "    <tr>\n",
       "      <th>3</th>\n",
       "      <td>20-404</td>\n",
       "      <td>Yes</td>\n",
       "      <td>1064700.0</td>\n",
       "      <td>20000.0</td>\n",
       "      <td>5358891.0</td>\n",
       "      <td>2030000</td>\n",
       "      <td>9872465</td>\n",
       "      <td>7388891</td>\n",
       "    </tr>\n",
       "    <tr>\n",
       "      <th>4</th>\n",
       "      <td>20-405</td>\n",
       "      <td>Yes</td>\n",
       "      <td>970539.0</td>\n",
       "      <td>40240.0</td>\n",
       "      <td>5980100.0</td>\n",
       "      <td>2024000</td>\n",
       "      <td>7783875</td>\n",
       "      <td>8004100</td>\n",
       "    </tr>\n",
       "  </tbody>\n",
       "</table>\n",
       "</div>"
      ],
      "text/plain": [
       "  Application Number Prevailing Wage  Construction Finance Cost  \\\n",
       "0             20-401              No                   449630.0   \n",
       "1             20-402             Yes                  4616380.0   \n",
       "2             20-403              No                   683625.0   \n",
       "3             20-404             Yes                  1064700.0   \n",
       "4             20-405             Yes                   970539.0   \n",
       "\n",
       "   Permanent Finance Cost  Soft Money Perm Loan TC Equity Total Perm Sources  \n",
       "0                 35570.0   2730654.0   1842364   5104221            4573018  \n",
       "1                360750.0  33500000.0   6278000  20331859           39778000  \n",
       "2                 29000.0   5500000.0    900000   7584466            6400000  \n",
       "3                 20000.0   5358891.0   2030000   9872465            7388891  \n",
       "4                 40240.0   5980100.0   2024000   7783875            8004100  "
      ]
     },
     "execution_count": 8,
     "metadata": {},
     "output_type": "execute_result"
    }
   ],
   "source": [
    "newncdata20.head()"
   ]
  },
  {
   "cell_type": "markdown",
   "id": "04cb53b5-e06f-494a-83d6-1ed0195713e1",
   "metadata": {},
   "source": [
    "# 2021"
   ]
  },
  {
   "cell_type": "code",
   "execution_count": 9,
   "id": "5991af70-dab4-403f-b32d-539c433e7ca3",
   "metadata": {},
   "outputs": [],
   "source": [
    "def ncdata2021(file_name):\n",
    "    import openpyxl\n",
    "    import os\n",
    "    import pandas as pd\n",
    "    # Load the Excel file with openpyxl\n",
    "   \n",
    "    constructionfinance= None\n",
    "    permanentfinance= None\n",
    "    prevailing= None\n",
    "    permloan= None\n",
    "    tcequity= None\n",
    "    softmoney= None\n",
    "\n",
    "    \n",
    "    # Load the Excel file with openpyxl\n",
    "    excel_file = openpyxl.load_workbook(file_name, data_only=True)\n",
    "    \n",
    "    # Access a specific sheet\n",
    "    sheet_name1 = 'Application'\n",
    "    sheet_name2='Sources and Uses Budget'\n",
    "    sheet1 = excel_file[sheet_name1]\n",
    "    sheet2 = excel_file[sheet_name2]\n",
    "\n",
    "    # Extract the value from the merged cell (AC447)\n",
    "    constructionfinance= sheet2['B54'].value\n",
    "    permanentfinance= sheet2['B62'].value\n",
    "    prevailing = sheet1['AG977'].value\n",
    "    permloan = sheet1['AO637'].value\n",
    "    tcequity = sheet1['AO650'].value\n",
    "    totalpermsources= sheet1['AO649'].value\n",
    "    \n",
    "    # Sum values from a range of cells \n",
    "    softmoney_range = sheet1['AO638':'AO648']\n",
    "    softmoney = 0\n",
    "    for row in softmoney_range:\n",
    "        for cell in row:\n",
    "            try:\n",
    "                softmoney += float(cell.value)\n",
    "            except (TypeError, ValueError):\n",
    "                pass  # Skip non-numeric values\n",
    "      \n",
    "  \n",
    "    # Create a DataFrame\n",
    "    excel = os.path.basename(file_name)\n",
    "    df = pd.DataFrame({\n",
    "        'Application Number': [excel.strip('.xlsx')],\n",
    "        'Prevailing Wage': [prevailing],\n",
    "        'Construction Finance': [constructionfinance],\n",
    "        'Permanent Finance': [permanentfinance],\n",
    "        'Soft Money': [softmoney], \n",
    "        'Perm Loan':[permloan],\n",
    "        'TC Equity':[tcequity],\n",
    "        'Total Perm Sources':[totalpermsources]\n",
    "    })\n",
    "    return df"
   ]
  },
  {
   "cell_type": "code",
   "execution_count": 10,
   "id": "ea366807-a806-4d50-bf6a-65389ad3046a",
   "metadata": {
    "tags": []
   },
   "outputs": [],
   "source": [
    "if __name__ == \"__main__\":\n",
    "    # folder_path = 'TCA_2021_4%_test'  # Replace with the path to your folder containing Excel files\n",
    "    newncdata21 = cccombo('New Construction Four Percent/NC2021',ncdata2021)"
   ]
  },
  {
   "cell_type": "code",
   "execution_count": 11,
   "id": "165c4716-431c-4c75-9aec-50a3ac576983",
   "metadata": {
    "tags": []
   },
   "outputs": [
    {
     "data": {
      "text/html": [
       "<div>\n",
       "<style scoped>\n",
       "    .dataframe tbody tr th:only-of-type {\n",
       "        vertical-align: middle;\n",
       "    }\n",
       "\n",
       "    .dataframe tbody tr th {\n",
       "        vertical-align: top;\n",
       "    }\n",
       "\n",
       "    .dataframe thead th {\n",
       "        text-align: right;\n",
       "    }\n",
       "</style>\n",
       "<table border=\"1\" class=\"dataframe\">\n",
       "  <thead>\n",
       "    <tr style=\"text-align: right;\">\n",
       "      <th></th>\n",
       "      <th>Application Number</th>\n",
       "      <th>Prevailing Wage</th>\n",
       "      <th>Construction Finance</th>\n",
       "      <th>Permanent Finance</th>\n",
       "      <th>Soft Money</th>\n",
       "      <th>Perm Loan</th>\n",
       "      <th>TC Equity</th>\n",
       "      <th>Total Perm Sources</th>\n",
       "    </tr>\n",
       "  </thead>\n",
       "  <tbody>\n",
       "    <tr>\n",
       "      <th>0</th>\n",
       "      <td>21-419</td>\n",
       "      <td>No</td>\n",
       "      <td>1761619.0</td>\n",
       "      <td>72460.0</td>\n",
       "      <td>12708727.0</td>\n",
       "      <td>5746000.0</td>\n",
       "      <td>13565372.0</td>\n",
       "      <td>18454727.0</td>\n",
       "    </tr>\n",
       "    <tr>\n",
       "      <th>1</th>\n",
       "      <td>21-420</td>\n",
       "      <td>Yes</td>\n",
       "      <td>967589.0</td>\n",
       "      <td>91964.0</td>\n",
       "      <td>13460456.0</td>\n",
       "      <td>1896432.0</td>\n",
       "      <td>7087224.0</td>\n",
       "      <td>15356888.0</td>\n",
       "    </tr>\n",
       "    <tr>\n",
       "      <th>2</th>\n",
       "      <td>21-421</td>\n",
       "      <td>No</td>\n",
       "      <td>4847685.0</td>\n",
       "      <td>614000.0</td>\n",
       "      <td>5138952.0</td>\n",
       "      <td>29792715.0</td>\n",
       "      <td>34883131.0</td>\n",
       "      <td>34931667.0</td>\n",
       "    </tr>\n",
       "    <tr>\n",
       "      <th>3</th>\n",
       "      <td>21-422</td>\n",
       "      <td>No</td>\n",
       "      <td>535379.0</td>\n",
       "      <td>41541.0</td>\n",
       "      <td>8134018.0</td>\n",
       "      <td>4154149.0</td>\n",
       "      <td>6667877.0</td>\n",
       "      <td>12288167.0</td>\n",
       "    </tr>\n",
       "    <tr>\n",
       "      <th>4</th>\n",
       "      <td>21-423</td>\n",
       "      <td>Yes</td>\n",
       "      <td>3166993.0</td>\n",
       "      <td>1072788.0</td>\n",
       "      <td>13869397.0</td>\n",
       "      <td>24003000.0</td>\n",
       "      <td>31566453.0</td>\n",
       "      <td>37872397.0</td>\n",
       "    </tr>\n",
       "  </tbody>\n",
       "</table>\n",
       "</div>"
      ],
      "text/plain": [
       "  Application Number Prevailing Wage  Construction Finance  Permanent Finance  \\\n",
       "0             21-419              No             1761619.0            72460.0   \n",
       "1             21-420             Yes              967589.0            91964.0   \n",
       "2             21-421              No             4847685.0           614000.0   \n",
       "3             21-422              No              535379.0            41541.0   \n",
       "4             21-423             Yes             3166993.0          1072788.0   \n",
       "\n",
       "   Soft Money   Perm Loan   TC Equity  Total Perm Sources  \n",
       "0  12708727.0   5746000.0  13565372.0          18454727.0  \n",
       "1  13460456.0   1896432.0   7087224.0          15356888.0  \n",
       "2   5138952.0  29792715.0  34883131.0          34931667.0  \n",
       "3   8134018.0   4154149.0   6667877.0          12288167.0  \n",
       "4  13869397.0  24003000.0  31566453.0          37872397.0  "
      ]
     },
     "execution_count": 11,
     "metadata": {},
     "output_type": "execute_result"
    }
   ],
   "source": [
    "newncdata21.head()"
   ]
  },
  {
   "cell_type": "markdown",
   "id": "51bc1db0-c24b-427f-855f-d5cffc672b3f",
   "metadata": {},
   "source": [
    "## 2022"
   ]
  },
  {
   "cell_type": "code",
   "execution_count": 12,
   "id": "146ffb42-4384-407c-9aa6-33ddb3655468",
   "metadata": {},
   "outputs": [],
   "source": [
    "def ncdata2022 (file_name):\n",
    "    import openpyxl\n",
    "    import os\n",
    "    import pandas as pd\n",
    "    # Load the Excel file with openpyxl\n",
    "   \n",
    "    constructionfinance= None\n",
    "    permanentfinance= None\n",
    "    prevailing= None\n",
    "    permloan= None\n",
    "    tcequity= None\n",
    "    softmoney= None\n",
    "    \n",
    "    # Load the Excel file with openpyxl\n",
    "    excel_file = openpyxl.load_workbook(file_name, data_only=True)\n",
    "    \n",
    "    # Access a specific sheet\n",
    "    sheet_name1 = 'Application'\n",
    "    sheet_name2='Sources and Uses Budget'\n",
    "    sheet1 = excel_file[sheet_name1]\n",
    "    sheet2 = excel_file[sheet_name2]\n",
    "\n",
    "    # Extract the value from the merged cell (AC447)\n",
    "    constructionfinance= sheet2['B54'].value\n",
    "    permanentfinance= sheet2['B62'].value\n",
    "    prevailing = sheet1['AA977'].value\n",
    "    permloan = sheet1['AO637'].value\n",
    "    tcequity = sheet1['AO650'].value\n",
    "    totalpermsources= sheet1['AO649'].value\n",
    "    \n",
    "    # Sum values from a range of cells \n",
    "    softmoney_range = sheet1['AO638':'AO648']\n",
    "    softmoney = 0\n",
    "    for row in softmoney_range:\n",
    "        for cell in row:\n",
    "            try:\n",
    "                softmoney += float(cell.value)\n",
    "            except (TypeError, ValueError):\n",
    "                pass  # Skip non-numeric values\n",
    "      \n",
    "  \n",
    "    # Create a DataFrame\n",
    "    excel = os.path.basename(file_name)\n",
    "    df = pd.DataFrame({\n",
    "        'Application Number': [excel.strip('.xlsx')],\n",
    "        'Prevailing Wage': [prevailing],\n",
    "        'Construction Finance': [constructionfinance],\n",
    "        'Permanent Finance': [permanentfinance],\n",
    "            'Soft Money': [softmoney], \n",
    "        'Perm Loan':[permloan],\n",
    "        'TC Equity':[tcequity],\n",
    "        'Total Perm Sources':[totalpermsources]\n",
    "    })\n",
    "    return df"
   ]
  },
  {
   "cell_type": "code",
   "execution_count": 13,
   "id": "c9ecd30a-6516-4ad3-8253-780a6d5e8aaa",
   "metadata": {
    "tags": []
   },
   "outputs": [],
   "source": [
    "if __name__ == \"__main__\":\n",
    "    # folder_path = 'TCA_2021_4%_test'  # Replace with the path to your folder containing Excel files\n",
    "    newncdata22 = cccombo('New Construction Four Percent/NC2022',ncdata2022)"
   ]
  },
  {
   "cell_type": "code",
   "execution_count": 14,
   "id": "83c63649-f172-40f7-9f91-ba190acbe423",
   "metadata": {
    "tags": []
   },
   "outputs": [
    {
     "data": {
      "text/html": [
       "<div>\n",
       "<style scoped>\n",
       "    .dataframe tbody tr th:only-of-type {\n",
       "        vertical-align: middle;\n",
       "    }\n",
       "\n",
       "    .dataframe tbody tr th {\n",
       "        vertical-align: top;\n",
       "    }\n",
       "\n",
       "    .dataframe thead th {\n",
       "        text-align: right;\n",
       "    }\n",
       "</style>\n",
       "<table border=\"1\" class=\"dataframe\">\n",
       "  <thead>\n",
       "    <tr style=\"text-align: right;\">\n",
       "      <th></th>\n",
       "      <th>Application Number</th>\n",
       "      <th>Prevailing Wage</th>\n",
       "      <th>Construction Finance</th>\n",
       "      <th>Permanent Finance</th>\n",
       "      <th>Soft Money</th>\n",
       "      <th>Perm Loan</th>\n",
       "      <th>TC Equity</th>\n",
       "      <th>Total Perm Sources</th>\n",
       "    </tr>\n",
       "  </thead>\n",
       "  <tbody>\n",
       "    <tr>\n",
       "      <th>0</th>\n",
       "      <td>22-425</td>\n",
       "      <td>None</td>\n",
       "      <td>5428750.0</td>\n",
       "      <td>322500</td>\n",
       "      <td>14840000.0</td>\n",
       "      <td>32500000.0</td>\n",
       "      <td>44011816.0</td>\n",
       "      <td>47340000.0</td>\n",
       "    </tr>\n",
       "    <tr>\n",
       "      <th>1</th>\n",
       "      <td>22-426</td>\n",
       "      <td>None</td>\n",
       "      <td>3110050.0</td>\n",
       "      <td>416000</td>\n",
       "      <td>18334401.0</td>\n",
       "      <td>18000000.0</td>\n",
       "      <td>29373508.0</td>\n",
       "      <td>36334401.0</td>\n",
       "    </tr>\n",
       "    <tr>\n",
       "      <th>2</th>\n",
       "      <td>22-427</td>\n",
       "      <td>None</td>\n",
       "      <td>933600.0</td>\n",
       "      <td>110000</td>\n",
       "      <td>10038386.0</td>\n",
       "      <td>1300000.0</td>\n",
       "      <td>15139728.0</td>\n",
       "      <td>11338386.0</td>\n",
       "    </tr>\n",
       "    <tr>\n",
       "      <th>3</th>\n",
       "      <td>22-428</td>\n",
       "      <td>None</td>\n",
       "      <td>612700.0</td>\n",
       "      <td>122000</td>\n",
       "      <td>6125000.0</td>\n",
       "      <td>1700000.0</td>\n",
       "      <td>9268807.0</td>\n",
       "      <td>7825000.0</td>\n",
       "    </tr>\n",
       "    <tr>\n",
       "      <th>4</th>\n",
       "      <td>22-431</td>\n",
       "      <td>None</td>\n",
       "      <td>5147500.0</td>\n",
       "      <td>252500</td>\n",
       "      <td>13443016.0</td>\n",
       "      <td>24500000.0</td>\n",
       "      <td>72652608.0</td>\n",
       "      <td>37943016.0</td>\n",
       "    </tr>\n",
       "  </tbody>\n",
       "</table>\n",
       "</div>"
      ],
      "text/plain": [
       "  Application Number Prevailing Wage  Construction Finance  Permanent Finance  \\\n",
       "0             22-425            None             5428750.0             322500   \n",
       "1             22-426            None             3110050.0             416000   \n",
       "2             22-427            None              933600.0             110000   \n",
       "3             22-428            None              612700.0             122000   \n",
       "4             22-431            None             5147500.0             252500   \n",
       "\n",
       "   Soft Money   Perm Loan   TC Equity  Total Perm Sources  \n",
       "0  14840000.0  32500000.0  44011816.0          47340000.0  \n",
       "1  18334401.0  18000000.0  29373508.0          36334401.0  \n",
       "2  10038386.0   1300000.0  15139728.0          11338386.0  \n",
       "3   6125000.0   1700000.0   9268807.0           7825000.0  \n",
       "4  13443016.0  24500000.0  72652608.0          37943016.0  "
      ]
     },
     "execution_count": 14,
     "metadata": {},
     "output_type": "execute_result"
    }
   ],
   "source": [
    "newncdata22.head()"
   ]
  },
  {
   "cell_type": "markdown",
   "id": "5c7141fd-076c-48a0-b676-e59aea81e88c",
   "metadata": {
    "tags": []
   },
   "source": [
    "## 2023"
   ]
  },
  {
   "cell_type": "code",
   "execution_count": 17,
   "id": "e4545130-4f37-44fe-9638-d627a5f46eb2",
   "metadata": {},
   "outputs": [],
   "source": [
    "def ncdata2023(file_name):\n",
    "    import openpyxl\n",
    "    import os\n",
    "    import pandas as pd\n",
    "    # Load the Excel file with openpyxl\n",
    "   \n",
    "    constructionfinance= None\n",
    "    permanentfinance= None\n",
    "    prevailing= None\n",
    "    permloan= None\n",
    "    tcequity= None\n",
    "    softmoney= None\n",
    "    \n",
    "    # Load the Excel file with openpyxl\n",
    "    excel_file = openpyxl.load_workbook(file_name, data_only=True)\n",
    "    \n",
    "    # Access a specific sheet\n",
    "    sheet_name1 = 'Application'\n",
    "    sheet_name2='Sources and Uses Budget'\n",
    "    sheet1 = excel_file[sheet_name1]\n",
    "    sheet2 = excel_file[sheet_name2]\n",
    "\n",
    "    # Extract the value from the merged cell (AC447)\n",
    "    constructionfinance= sheet2['B54'].value\n",
    "    permanentfinance= sheet2['B62'].value\n",
    "    prevailing = sheet1['AG963'].value\n",
    "    permloan = sheet1['AO623'].value\n",
    "    tcequity = sheet1['AO636'].value\n",
    "    totalpermsources= sheet1['AO635'].value\n",
    "    \n",
    "    # Sum values from a range of cells \n",
    "    softmoney_range = sheet1['AO624':'AO634']\n",
    "    softmoney = 0\n",
    "    for row in softmoney_range:\n",
    "        for cell in row:\n",
    "            try:\n",
    "                softmoney += float(cell.value)\n",
    "            except (TypeError, ValueError):\n",
    "                pass  # Skip non-numeric values\n",
    "  \n",
    "    # Create a DataFrame\n",
    "    excel = os.path.basename(file_name)\n",
    "    df = pd.DataFrame({\n",
    "        'Application Number': [excel.strip('.xlsx')],\n",
    "        'Prevailing Wage': [prevailing],\n",
    "        'Construction Finance': [constructionfinance],\n",
    "        'Permanent Finance': [permanentfinance],\n",
    "        'Soft Money': [softmoney], \n",
    "        'Perm Loan':[permloan],\n",
    "        'TC Equity':[tcequity],\n",
    "        'Total Perm Sources':[totalpermsources]\n",
    "    })\n",
    "    return df"
   ]
  },
  {
   "cell_type": "code",
   "execution_count": 18,
   "id": "eb782abe-9956-4dbc-ad41-ca8cf8fad0b1",
   "metadata": {
    "tags": []
   },
   "outputs": [],
   "source": [
    "if __name__ == \"__main__\":\n",
    "    # folder_path = 'TCA_2021_4%_test'  # Replace with the path to your folder containing Excel files\n",
    "    newncdata23 = cccombo('New Construction Four Percent/NC2023',ncdata2023)"
   ]
  },
  {
   "cell_type": "code",
   "execution_count": 23,
   "id": "0b85a7ab-06f3-4e38-81bf-31494035a8aa",
   "metadata": {
    "tags": []
   },
   "outputs": [],
   "source": [
    "financecosts=pd.concat([newncdata20, newncdata21,newncdata22, newncdata23])"
   ]
  },
  {
   "cell_type": "code",
   "execution_count": 24,
   "id": "d0ed69de-f919-446d-8817-d822d77940c4",
   "metadata": {
    "tags": []
   },
   "outputs": [],
   "source": [
    "updatednc = pd.merge(newconstruction, financecosts, on='Application Number', how='left')"
   ]
  },
  {
   "cell_type": "code",
   "execution_count": 25,
   "id": "dcbcac50-3940-4167-8d70-c4e500627514",
   "metadata": {
    "tags": []
   },
   "outputs": [],
   "source": [
    "updatednc['Financing Cost']=updatednc['Permanent Finance']+updatednc['Construction Finance']"
   ]
  },
  {
   "cell_type": "code",
   "execution_count": 26,
   "id": "37d48597-e8c9-40bd-bbce-4d631a163dc3",
   "metadata": {
    "tags": []
   },
   "outputs": [],
   "source": [
    "updatednc['Land Cost Per Unit']=updatednc['Land Cost']/updatednc['Total Units']\n",
    "updatednc['Construction Cost Per Unit']=updatednc['Construction Cost']/updatednc['Total Units']\n",
    "updatednc['Eligible Basis Per Unit']=updatednc['Eligible Basis']/updatednc['Total Units']"
   ]
  },
  {
   "cell_type": "code",
   "execution_count": 27,
   "id": "5395a928-c04c-4af9-beef-7a49f878abc0",
   "metadata": {
    "tags": []
   },
   "outputs": [],
   "source": [
    "updatednc['Construction Finance Per Unit']=updatednc['Construction Finance']/updatednc['Total Units']\n",
    "updatednc['Permanent Finance Per Unit']=updatednc['Permanent Finance']/updatednc['Total Units']\n",
    "updatednc['Financing Cost Per Unit']=updatednc['Financing Cost']/updatednc['Total Units']"
   ]
  },
  {
   "cell_type": "code",
   "execution_count": 31,
   "id": "c318cd47-eab4-4a83-b70c-cb129d2c454c",
   "metadata": {
    "tags": []
   },
   "outputs": [],
   "source": [
    "updatednc.to_excel('Updated4percentanalysis.xlsx')"
   ]
  },
  {
   "cell_type": "code",
   "execution_count": 5,
   "id": "eaf1a60e-05f4-43f4-ac7e-663d0b316f5e",
   "metadata": {
    "tags": []
   },
   "outputs": [],
   "source": [
    "updatednc=pd.read_excel('Updated4percentanalysis.xlsx')"
   ]
  },
  {
   "cell_type": "code",
   "execution_count": 11,
   "id": "fb2566f6-0a57-4a00-8342-131efd7b8d1a",
   "metadata": {
    "tags": []
   },
   "outputs": [],
   "source": [
    "updatednc['Percent TC Equity']=updatednc['TC Equity']/updatednc['Total Cost']\n",
    "updatednc['Percent Soft financing']=updatednc['Total Perm Sources']/updatednc['Total Cost']\n",
    "updatednc['Percent Perm Loan']=updatednc['Permanent Finance']/updatednc['Total Cost']"
   ]
  },
  {
   "cell_type": "code",
   "execution_count": 12,
   "id": "decbd3a8-bb74-4688-ade8-c04f5bce1424",
   "metadata": {
    "tags": []
   },
   "outputs": [],
   "source": [
    "lanewconstruction=updatednc[updatednc['County']=='Los Angeles']"
   ]
  },
  {
   "cell_type": "code",
   "execution_count": 9,
   "id": "c5a49a22-d276-4a84-b2c9-ed7cdfe53279",
   "metadata": {
    "tags": []
   },
   "outputs": [
    {
     "name": "stdout",
     "output_type": "stream",
     "text": [
      "<class 'pandas.core.frame.DataFrame'>\n",
      "RangeIndex: 881 entries, 0 to 880\n",
      "Data columns (total 32 columns):\n",
      " #   Column                         Non-Null Count  Dtype  \n",
      "---  ------                         --------------  -----  \n",
      " 0   Unnamed: 0.1                   881 non-null    int64  \n",
      " 1   Unnamed: 0                     881 non-null    int64  \n",
      " 2   Application Number             881 non-null    object \n",
      " 3   Cost Per Unit                  880 non-null    float64\n",
      " 4   Eligible Basis                 880 non-null    float64\n",
      " 5   Land Cost                      881 non-null    float64\n",
      " 6   Construction Cost              881 non-null    float64\n",
      " 7   Total Cost                     881 non-null    float64\n",
      " 8   Prevailing Wage_x              881 non-null    float64\n",
      " 9   MIP                            68 non-null     object \n",
      " 10  Recycled Bonds                 194 non-null    object \n",
      " 11  Type                           881 non-null    object \n",
      " 12  Total Units                    880 non-null    float64\n",
      " 13  City                           880 non-null    object \n",
      " 14  County                         880 non-null    object \n",
      " 15  Year                           881 non-null    int64  \n",
      " 16  Prevailing Wage_y              530 non-null    object \n",
      " 17  Construction Finance Cost      162 non-null    float64\n",
      " 18  Permanent Finance Cost         162 non-null    float64\n",
      " 19  Soft Money                     578 non-null    float64\n",
      " 20  Perm Loan                      577 non-null    float64\n",
      " 21  TC Equity                      577 non-null    float64\n",
      " 22  Total Perm Sources             577 non-null    float64\n",
      " 23  Construction Finance           416 non-null    float64\n",
      " 24  Permanent Finance              416 non-null    float64\n",
      " 25  Financing Cost                 416 non-null    float64\n",
      " 26  Land Cost Per Unit             880 non-null    float64\n",
      " 27  Construction Cost Per Unit     880 non-null    float64\n",
      " 28  Eligible Basis Per Unit        880 non-null    float64\n",
      " 29  Construction Finance Per Unit  416 non-null    float64\n",
      " 30  Permanent Finance Per Unit     416 non-null    float64\n",
      " 31  Financing Cost Per Unit        416 non-null    float64\n",
      "dtypes: float64(22), int64(3), object(7)\n",
      "memory usage: 220.4+ KB\n"
     ]
    }
   ],
   "source": [
    "updatednc.info()"
   ]
  },
  {
   "cell_type": "markdown",
   "id": "665159ad-c471-445d-9ef1-6c80b470c838",
   "metadata": {},
   "source": [
    "# to do\n",
    "\n",
    "Add number of units to each function and run ag"
   ]
  },
  {
   "cell_type": "code",
   "execution_count": 15,
   "id": "7eec0fb9-e0cc-40fe-b6f4-baf79b311685",
   "metadata": {
    "tags": []
   },
   "outputs": [],
   "source": [
    "def des(col): \n",
    "    r=lanewconstruction[col].describe()\n",
    "    return r"
   ]
  },
  {
   "cell_type": "code",
   "execution_count": 14,
   "id": "31a28d10-b520-4297-af03-a791031bb1c7",
   "metadata": {
    "tags": []
   },
   "outputs": [],
   "source": [
    "def des2(col): \n",
    "    r=updatednc[col].describe()\n",
    "    return r"
   ]
  },
  {
   "cell_type": "code",
   "execution_count": 26,
   "id": "0a04db92-3ed3-40ec-a147-c227f7a8b304",
   "metadata": {
    "tags": []
   },
   "outputs": [
    {
     "data": {
      "text/plain": [
       "58656930.0"
      ]
     },
     "execution_count": 26,
     "metadata": {},
     "output_type": "execute_result"
    }
   ],
   "source": [
    "5.865693e+07"
   ]
  },
  {
   "cell_type": "code",
   "execution_count": 28,
   "id": "2596508e-28c5-46eb-9b4a-e75bb423887c",
   "metadata": {
    "tags": []
   },
   "outputs": [
    {
     "data": {
      "text/plain": [
       "333737.7"
      ]
     },
     "execution_count": 28,
     "metadata": {},
     "output_type": "execute_result"
    }
   ],
   "source": [
    "3.337377e+05"
   ]
  },
  {
   "cell_type": "code",
   "execution_count": 29,
   "id": "1bcd1eb0-b6c3-438d-9eb3-00f137bcda4f",
   "metadata": {
    "tags": []
   },
   "outputs": [
    {
     "data": {
      "text/plain": [
       "count    577.000000\n",
       "mean       0.461845\n",
       "std        0.098050\n",
       "min        0.202709\n",
       "25%        0.394557\n",
       "50%        0.450484\n",
       "75%        0.526938\n",
       "max        0.727291\n",
       "Name: Percent TC Equity, dtype: float64"
      ]
     },
     "execution_count": 29,
     "metadata": {},
     "output_type": "execute_result"
    }
   ],
   "source": [
    "des2('Percent TC Equity')"
   ]
  },
  {
   "cell_type": "code",
   "execution_count": 20,
   "id": "90f489df-21e4-4ca8-b113-6a637d22a86f",
   "metadata": {
    "tags": []
   },
   "outputs": [
    {
     "data": {
      "text/plain": [
       "count    416.000000\n",
       "mean       0.005455\n",
       "std        0.008640\n",
       "min        0.000000\n",
       "25%        0.001478\n",
       "50%        0.002880\n",
       "75%        0.005139\n",
       "max        0.050863\n",
       "Name: Percent Perm Loan, dtype: float64"
      ]
     },
     "execution_count": 20,
     "metadata": {},
     "output_type": "execute_result"
    }
   ],
   "source": [
    "des2('Percent Perm Loan')"
   ]
  },
  {
   "cell_type": "code",
   "execution_count": 21,
   "id": "42f738cc-5d26-442f-b895-2128bc7d33b4",
   "metadata": {
    "tags": []
   },
   "outputs": [
    {
     "data": {
      "text/plain": [
       "count    577.000000\n",
       "mean       0.538145\n",
       "std        0.098053\n",
       "min        0.272709\n",
       "25%        0.473062\n",
       "50%        0.549516\n",
       "75%        0.605443\n",
       "max        0.797291\n",
       "Name: Percent Soft financing, dtype: float64"
      ]
     },
     "execution_count": 21,
     "metadata": {},
     "output_type": "execute_result"
    }
   ],
   "source": [
    "des2('Percent Soft financing')"
   ]
  },
  {
   "cell_type": "code",
   "execution_count": 30,
   "id": "ef0172f7-7047-4048-a610-b74030b0d41f",
   "metadata": {
    "tags": []
   },
   "outputs": [
    {
     "data": {
      "text/plain": [
       "count    1.910000e+02\n",
       "mean     5.372092e+07\n",
       "std      2.817572e+07\n",
       "min      1.478986e+07\n",
       "25%      3.206172e+07\n",
       "50%      4.500000e+07\n",
       "75%      7.309772e+07\n",
       "max      1.494808e+08\n",
       "Name: Total Cost, dtype: float64"
      ]
     },
     "execution_count": 30,
     "metadata": {},
     "output_type": "execute_result"
    }
   ],
   "source": [
    "des('Total Cost')"
   ]
  },
  {
   "cell_type": "code",
   "execution_count": 32,
   "id": "7861153a-5f69-4043-bc71-480ce5617b10",
   "metadata": {
    "tags": []
   },
   "outputs": [
    {
     "data": {
      "text/plain": [
       "53720920.0"
      ]
     },
     "execution_count": 32,
     "metadata": {},
     "output_type": "execute_result"
    }
   ],
   "source": [
    "5.372092e+07"
   ]
  },
  {
   "cell_type": "code",
   "execution_count": 23,
   "id": "6d47b25b-85ca-4001-8151-15b9ae223714",
   "metadata": {
    "tags": []
   },
   "outputs": [
    {
     "data": {
      "text/plain": [
       "count    86.000000\n",
       "mean      0.005707\n",
       "std       0.008827\n",
       "min       0.000261\n",
       "25%       0.001824\n",
       "50%       0.002661\n",
       "75%       0.004119\n",
       "max       0.044342\n",
       "Name: Percent Perm Loan, dtype: float64"
      ]
     },
     "execution_count": 23,
     "metadata": {},
     "output_type": "execute_result"
    }
   ],
   "source": [
    "des('Percent Perm Loan')"
   ]
  },
  {
   "cell_type": "code",
   "execution_count": 24,
   "id": "b6d38a96-7e6c-494f-8c79-504b2dc5f3bf",
   "metadata": {
    "tags": []
   },
   "outputs": [
    {
     "data": {
      "text/plain": [
       "count    130.000000\n",
       "mean       0.569639\n",
       "std        0.102568\n",
       "min        0.272709\n",
       "25%        0.502158\n",
       "50%        0.579237\n",
       "75%        0.648526\n",
       "max        0.781447\n",
       "Name: Percent Soft financing, dtype: float64"
      ]
     },
     "execution_count": 24,
     "metadata": {},
     "output_type": "execute_result"
    }
   ],
   "source": [
    "des('Percent Soft financing')"
   ]
  },
  {
   "cell_type": "code",
   "execution_count": null,
   "id": "8be6b555-91fb-4633-ba7e-ce9e0a7d3b54",
   "metadata": {},
   "outputs": [],
   "source": []
  },
  {
   "cell_type": "code",
   "execution_count": 90,
   "id": "f23658a1-e9bd-4530-ab80-97b86865e992",
   "metadata": {
    "tags": []
   },
   "outputs": [
    {
     "data": {
      "text/plain": [
       "0.7647058823529411"
      ]
     },
     "execution_count": 90,
     "metadata": {},
     "output_type": "execute_result"
    }
   ],
   "source": [
    "91/119"
   ]
  },
  {
   "cell_type": "code",
   "execution_count": 84,
   "id": "7607d438-143f-4da1-82a5-5a6c69fe7e9f",
   "metadata": {
    "tags": []
   },
   "outputs": [
    {
     "data": {
      "text/plain": [
       "count     530\n",
       "unique      2\n",
       "top       Yes\n",
       "freq      299\n",
       "Name: Prevailing Wage_y, dtype: object"
      ]
     },
     "execution_count": 84,
     "metadata": {},
     "output_type": "execute_result"
    }
   ],
   "source": [
    "des2('Prevailing Wage_y')"
   ]
  },
  {
   "cell_type": "code",
   "execution_count": 82,
   "id": "23e7d7cb-c0f8-40a4-aa4b-8b5eeac581d9",
   "metadata": {
    "tags": []
   },
   "outputs": [],
   "source": [
    "counts = updatednc['Prevailing Wage_y'].value_counts()"
   ]
  },
  {
   "cell_type": "code",
   "execution_count": 86,
   "id": "9f18370f-0cbf-4b96-aa7a-58c12d07ec77",
   "metadata": {
    "tags": []
   },
   "outputs": [
    {
     "data": {
      "text/plain": [
       "0.5641509433962264"
      ]
     },
     "execution_count": 86,
     "metadata": {},
     "output_type": "execute_result"
    }
   ],
   "source": [
    "299/530"
   ]
  },
  {
   "cell_type": "code",
   "execution_count": null,
   "id": "51847288-0ec1-4f0a-af14-fff1826505b9",
   "metadata": {},
   "outputs": [],
   "source": []
  },
  {
   "cell_type": "code",
   "execution_count": 61,
   "id": "8ab13345-5b99-43b0-b539-be1bbf2c99be",
   "metadata": {
    "tags": []
   },
   "outputs": [
    {
     "data": {
      "text/plain": [
       "count      191.000000\n",
       "mean      7324.376225\n",
       "std       4571.670655\n",
       "min        902.127530\n",
       "25%       4191.216862\n",
       "50%       6608.627564\n",
       "75%       9180.349692\n",
       "max      23039.451845\n",
       "Name: Eligible Basis Per Unit, dtype: float64"
      ]
     },
     "execution_count": 61,
     "metadata": {},
     "output_type": "execute_result"
    }
   ],
   "source": [
    "des('Eligible Basis Per Unit')"
   ]
  },
  {
   "cell_type": "code",
   "execution_count": 62,
   "id": "f1beae0e-fe83-4e12-98db-ca067af98882",
   "metadata": {
    "tags": []
   },
   "outputs": [
    {
     "data": {
      "text/plain": [
       "count       191.000000\n",
       "mean     344145.550015\n",
       "std       90726.337543\n",
       "min      110860.143646\n",
       "25%      293356.477880\n",
       "50%      345847.631579\n",
       "75%      393452.154732\n",
       "max      683577.016949\n",
       "Name: Construction Cost Per Unit, dtype: float64"
      ]
     },
     "execution_count": 62,
     "metadata": {},
     "output_type": "execute_result"
    }
   ],
   "source": [
    "des('Construction Cost Per Unit')"
   ]
  },
  {
   "cell_type": "code",
   "execution_count": null,
   "id": "4d4065c4-2aae-47cc-9668-af17bf2d07ad",
   "metadata": {},
   "outputs": [],
   "source": []
  }
 ],
 "metadata": {
  "kernelspec": {
   "display_name": "Python 3 (ipykernel)",
   "language": "python",
   "name": "python3"
  },
  "language_info": {
   "codemirror_mode": {
    "name": "ipython",
    "version": 3
   },
   "file_extension": ".py",
   "mimetype": "text/x-python",
   "name": "python",
   "nbconvert_exporter": "python",
   "pygments_lexer": "ipython3",
   "version": "3.9.16"
  }
 },
 "nbformat": 4,
 "nbformat_minor": 5
}
