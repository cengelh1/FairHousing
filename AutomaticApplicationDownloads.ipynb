{
 "cells": [
  {
   "cell_type": "markdown",
   "id": "71b9ecd2-d207-4277-82d1-ad5f6456ce25",
   "metadata": {
    "jupyter": {
     "source_hidden": true
    },
    "tags": []
   },
   "source": [
    "# Downloding Applications from CTCAC or CDLAC"
   ]
  },
  {
   "cell_type": "code",
   "execution_count": 1,
   "id": "b78213b1-cf4a-4441-aae7-844df2a7a9c2",
   "metadata": {
    "tags": []
   },
   "outputs": [
    {
     "name": "stdout",
     "output_type": "stream",
     "text": [
      "Requirement already satisfied: selenium in c:\\users\\thech\\anaconda3\\envs\\uds\\lib\\site-packages (4.14.0)\n",
      "Requirement already satisfied: urllib3[socks]<3,>=1.26 in c:\\users\\thech\\anaconda3\\envs\\uds\\lib\\site-packages (from selenium) (2.0.3)\n",
      "Requirement already satisfied: trio~=0.17 in c:\\users\\thech\\anaconda3\\envs\\uds\\lib\\site-packages (from selenium) (0.22.2)\n",
      "Requirement already satisfied: trio-websocket~=0.9 in c:\\users\\thech\\anaconda3\\envs\\uds\\lib\\site-packages (from selenium) (0.11.1)\n",
      "Requirement already satisfied: certifi>=2021.10.8 in c:\\users\\thech\\anaconda3\\envs\\uds\\lib\\site-packages (from selenium) (2023.5.7)\n",
      "Requirement already satisfied: attrs>=20.1.0 in c:\\users\\thech\\anaconda3\\envs\\uds\\lib\\site-packages (from trio~=0.17->selenium) (23.1.0)\n",
      "Requirement already satisfied: sortedcontainers in c:\\users\\thech\\anaconda3\\envs\\uds\\lib\\site-packages (from trio~=0.17->selenium) (2.4.0)\n",
      "Requirement already satisfied: idna in c:\\users\\thech\\anaconda3\\envs\\uds\\lib\\site-packages (from trio~=0.17->selenium) (3.4)\n",
      "Requirement already satisfied: outcome in c:\\users\\thech\\anaconda3\\envs\\uds\\lib\\site-packages (from trio~=0.17->selenium) (1.3.0.post0)\n",
      "Requirement already satisfied: sniffio in c:\\users\\thech\\anaconda3\\envs\\uds\\lib\\site-packages (from trio~=0.17->selenium) (1.3.0)\n",
      "Requirement already satisfied: cffi>=1.14 in c:\\users\\thech\\anaconda3\\envs\\uds\\lib\\site-packages (from trio~=0.17->selenium) (1.15.1)\n",
      "Requirement already satisfied: exceptiongroup>=1.0.0rc9 in c:\\users\\thech\\anaconda3\\envs\\uds\\lib\\site-packages (from trio~=0.17->selenium) (1.1.1)\n",
      "Requirement already satisfied: wsproto>=0.14 in c:\\users\\thech\\anaconda3\\envs\\uds\\lib\\site-packages (from trio-websocket~=0.9->selenium) (1.2.0)\n",
      "Requirement already satisfied: pysocks!=1.5.7,<2.0,>=1.5.6 in c:\\users\\thech\\anaconda3\\envs\\uds\\lib\\site-packages (from urllib3[socks]<3,>=1.26->selenium) (1.7.1)\n",
      "Requirement already satisfied: pycparser in c:\\users\\thech\\anaconda3\\envs\\uds\\lib\\site-packages (from cffi>=1.14->trio~=0.17->selenium) (2.21)\n",
      "Requirement already satisfied: h11<1,>=0.9.0 in c:\\users\\thech\\anaconda3\\envs\\uds\\lib\\site-packages (from wsproto>=0.14->trio-websocket~=0.9->selenium) (0.14.0)\n",
      "Note: you may need to restart the kernel to use updated packages.\n"
     ]
    }
   ],
   "source": [
    "#install selenium\n",
    "pip install selenium"
   ]
  },
  {
   "cell_type": "code",
   "execution_count": 1,
   "id": "4b455d99-176c-4309-817d-9d4dadadb6f1",
   "metadata": {
    "tags": []
   },
   "outputs": [],
   "source": [
    "#import libraries and contingencies \n",
    "import openpyxl\n",
    "import warnings\n",
    "import multiprocess\n",
    "from multiprocess import Pool, cpu_count\n",
    "import PyPDF2\n",
    "import pandas as pd\n",
    "import re\n",
    "import tabula\n",
    "from pdfminer.high_level import extract_text\n",
    "import numpy as np\n",
    "import shutil\n",
    "import os\n",
    "import re\n",
    "import PyPDF2\n",
    "import requests\n",
    "from io import BytesIO\n",
    "import requests\n",
    "from bs4 import BeautifulSoup\n",
    "import os\n",
    "from selenium import webdriver\n",
    "from selenium.webdriver.common.by import By\n",
    "from selenium.common.exceptions import StaleElementReferenceException\n",
    "import requests"
   ]
  },
  {
   "cell_type": "code",
   "execution_count": 3,
   "id": "03e16728-2467-4561-8c28-2dfb23f5ba0d",
   "metadata": {},
   "outputs": [],
   "source": [
    "# Create a function to download PDFs\n",
    "def dlpdf(url,file_path):\n",
    "        # URL of the page containing the links\n",
    "    url = url\n",
    "\n",
    "    # Directory to save the downloaded PDFs\n",
    "    download_directory = os.path.join(os.getcwd(), file_path)\n",
    "\n",
    "    # Create a directory if it doesn't exist\n",
    "    if not os.path.exists(download_directory):\n",
    "        os.makedirs(download_directory)\n",
    "\n",
    "    # Set up the Firefox WebDriver (Ensure GeckoDriver is in your system's PATH)\n",
    "    driver = webdriver.Firefox()\n",
    "\n",
    "    # Open the URL in the web browser\n",
    "    driver.get(url)\n",
    "\n",
    "    # Wait for a few seconds to allow JavaScript content to load (you may need to adjust this delay)\n",
    "    driver.implicitly_wait(10)\n",
    "\n",
    "    # Find all the anchor elements with href attributes containing \".pdf\"\n",
    "    pdf_links = driver.find_elements(By.CSS_SELECTOR, \"a[href$='.pdf']\")\n",
    "\n",
    "    # Get the PDF URLs\n",
    "    pdf_urls = [link.get_attribute(\"href\") for link in pdf_links]\n",
    "\n",
    "    # Download the PDFs\n",
    "    for pdf_url in pdf_urls:\n",
    "        response = requests.get(pdf_url)\n",
    "        if response.status_code == 200:\n",
    "            filename = os.path.join(download_directory, os.path.basename(pdf_url))\n",
    "            with open(filename, \"wb\") as pdf_file:\n",
    "                pdf_file.write(response.content)\n",
    "\n",
    "    # Close the web browser\n",
    "    driver.quit()\n",
    "    "
   ]
  },
  {
   "cell_type": "code",
   "execution_count": 4,
   "id": "35d5ee32-8d23-491b-8619-31246c508eb7",
   "metadata": {
    "tags": []
   },
   "outputs": [],
   "source": [
    "# Create a function to download Excel Files \n",
    "\n",
    "def justwannabringyoudownsobadly(url,file_path):\n",
    "    url = url\n",
    "\n",
    "    # Directory to save the downloaded PDFs\n",
    "    download_directory = os.path.join(os.getcwd(), file_path)\n",
    "\n",
    "    # Create a directory if it doesn't exist\n",
    "    if not os.path.exists(download_directory):\n",
    "        os.makedirs(download_directory)\n",
    "\n",
    "    # Set up the Firefox WebDriver (Ensure GeckoDriver is in your system's PATH)\n",
    "    driver = webdriver.Firefox()\n",
    "\n",
    "    # Open the URL in the web browser\n",
    "    driver.get(url)\n",
    "\n",
    "    # Wait for a few seconds to allow JavaScript content to load (you may need to adjust this delay)\n",
    "    driver.implicitly_wait(10)\n",
    "\n",
    "    # Find all the anchor elements with href attributes containing \".pdf\"\n",
    "    pdf_links = driver.find_elements(By.CSS_SELECTOR, \"a[href$='.xlsx']\")\n",
    "\n",
    "    # Get the PDF URLs\n",
    "    pdf_urls = [link.get_attribute(\"href\") for link in pdf_links]\n",
    "\n",
    "    # Download the PDFs\n",
    "    for pdf_url in pdf_urls:\n",
    "        response = requests.get(pdf_url)\n",
    "        if response.status_code == 200:\n",
    "            filename = os.path.join(download_directory, os.path.basename(pdf_url))\n",
    "            with open(filename, \"wb\") as pdf_file:\n",
    "                pdf_file.write(response.content)\n",
    "\n",
    "\n",
    "    # Close the web browser\n",
    "    driver.quit()\n"
   ]
  },
  {
   "cell_type": "code",
   "execution_count": null,
   "id": "da1af45c-459a-4043-8556-442aee83eb70",
   "metadata": {},
   "outputs": [],
   "source": []
  }
 ],
 "metadata": {
  "kernelspec": {
   "display_name": "Python 3 (ipykernel)",
   "language": "python",
   "name": "python3"
  },
  "language_info": {
   "codemirror_mode": {
    "name": "ipython",
    "version": 3
   },
   "file_extension": ".py",
   "mimetype": "text/x-python",
   "name": "python",
   "nbconvert_exporter": "python",
   "pygments_lexer": "ipython3",
   "version": "3.9.16"
  }
 },
 "nbformat": 4,
 "nbformat_minor": 5
}
